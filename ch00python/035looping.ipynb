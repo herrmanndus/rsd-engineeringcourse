{
 "cells": [
  {
   "cell_type": "markdown",
   "metadata": {},
   "source": [
    "### Iteration"
   ]
  },
  {
   "cell_type": "markdown",
   "metadata": {},
   "source": [
    "Our other aspect of control is looping back on ourselves.\n",
    "\n",
    "We use `for` ... `in` to \"iterate\" over lists:"
   ]
  },
  {
   "cell_type": "code",
   "execution_count": 2,
   "metadata": {},
   "outputs": [],
   "source": [
    "mylist = [3, 7, 15, 2]"
   ]
  },
  {
   "cell_type": "code",
   "execution_count": 3,
   "metadata": {},
   "outputs": [
    {
     "name": "stdout",
     "output_type": "stream",
     "text": [
      "9\n",
      "49\n",
      "225\n",
      "4\n"
     ]
    }
   ],
   "source": [
    "for whatever in mylist:\n",
    "    print(whatever**2)"
   ]
  },
  {
   "cell_type": "markdown",
   "metadata": {},
   "source": [
    "Each time through the loop, the variable in the `value` slot is updated to the **next** element of the sequence."
   ]
  },
  {
   "cell_type": "markdown",
   "metadata": {},
   "source": [
    "### Iterables"
   ]
  },
  {
   "cell_type": "markdown",
   "metadata": {},
   "source": [
    "\n",
    "Any sequence type is iterable:\n",
    "\n",
    "\n"
   ]
  },
  {
   "cell_type": "code",
   "execution_count": 8,
   "metadata": {},
   "outputs": [
    {
     "name": "stdout",
     "output_type": "stream",
     "text": [
      "<class 'list'>\n",
      "['OOO', 'k', 'aaa', 'y']\n"
     ]
    },
    {
     "data": {
      "text/plain": [
       "'OOOkaaay'"
      ]
     },
     "execution_count": 8,
     "metadata": {},
     "output_type": "execute_result"
    }
   ],
   "source": [
    "vowels=\"aeiou\"\n",
    "sarcasm = []\n",
    "\n",
    "for letter in \"Okay\":\n",
    "    if letter.lower() in vowels:\n",
    "        repetition = 3\n",
    "    else:\n",
    "        repetition = 1\n",
    "\n",
    "    sarcasm.append(letter*repetition)\n",
    "\n",
    "print(type(sarcasm))\n",
    "print(sarcasm)\n",
    "\"\".join(sarcasm)"
   ]
  },
  {
   "cell_type": "markdown",
   "metadata": {},
   "source": [
    "The above is a little puzzle, work through it to understand why it does what it does."
   ]
  },
  {
   "cell_type": "markdown",
   "metadata": {},
   "source": [
    "###  Dictionaries are Iterables"
   ]
  },
  {
   "cell_type": "markdown",
   "metadata": {},
   "source": [
    "All sequences are iterables. Some iterables (things you can `for` loop over) are not sequences (things with you can do `x[5]` to), for example sets and dictionaries."
   ]
  },
  {
   "cell_type": "code",
   "execution_count": 1,
   "metadata": {},
   "outputs": [
    {
     "name": "stdout",
     "output_type": "stream",
     "text": [
      "James\n",
      "James  is  46 years old.\n",
      "UCL\n",
      "UCL  is  196 years old.\n",
      "Cambridge\n",
      "Cambridge  is  813 years old.\n",
      "['James', 'UCL', 'Cambridge']\n",
      "James  is  46 years old.\n",
      "UCL  is  196 years old.\n",
      "Cambridge  is  813 years old.\n"
     ]
    }
   ],
   "source": [
    "import datetime\n",
    "now = datetime.datetime.now()\n",
    "\n",
    "founded = {\"James\": 1976, \"UCL\": 1826, \"Cambridge\": 1209}\n",
    "\n",
    "current_year = now.year\n",
    "\n",
    "for thing in founded:\n",
    "    print(thing)\n",
    "    print(thing, \" is \", current_year -  founded[thing], \"years old.\")\n",
    "    \n",
    "### more difficult way to do this \n",
    "keyz = [k for k in founded] # get the dict keys using list comprehension\n",
    "print(keyz)\n",
    "\n",
    "for n_thing in range(len(founded)): # iterate over for indices rather than actual entries \n",
    "    #print(n_thing)\n",
    "    #print()\n",
    "    year_founded = founded[keyz[n_thing]] # extract key name for this entry and index the corresponding value\n",
    "    print(keyz[n_thing], \" is \", current_year -  year_founded, \"years old.\")"
   ]
  },
  {
   "cell_type": "code",
   "execution_count": 32,
   "metadata": {},
   "outputs": [
    {
     "name": "stdout",
     "output_type": "stream",
     "text": [
      "2022-10-03 14:31:19.315067\n",
      "<built-in method astimezone of datetime.datetime object at 0x10dd3dab0>\n",
      "2022\n"
     ]
    }
   ],
   "source": [
    "import datetime\n",
    "now = datetime.datetime.now()\n",
    "print(now)\n",
    "print(now.astimezone)\n",
    "print(now.year)"
   ]
  },
  {
   "cell_type": "markdown",
   "metadata": {},
   "source": [
    "### Unpacking and Iteration"
   ]
  },
  {
   "cell_type": "markdown",
   "metadata": {},
   "source": [
    "\n",
    "Unpacking can be useful with iteration:\n",
    "\n",
    "\n"
   ]
  },
  {
   "cell_type": "code",
   "execution_count": 5,
   "metadata": {
    "collapsed": true
   },
   "outputs": [],
   "source": [
    "triples=[\n",
    "    [4,11,15], \n",
    "    [39,4,18]\n",
    "]"
   ]
  },
  {
   "cell_type": "code",
   "execution_count": 6,
   "metadata": {},
   "outputs": [
    {
     "name": "stdout",
     "output_type": "stream",
     "text": [
      "[4, 11, 15]\n",
      "[39, 4, 18]\n"
     ]
    }
   ],
   "source": [
    "for whatever in triples: \n",
    "    print(whatever)"
   ]
  },
  {
   "cell_type": "code",
   "execution_count": 7,
   "metadata": {},
   "outputs": [
    {
     "name": "stdout",
     "output_type": "stream",
     "text": [
      "11\n",
      "4\n"
     ]
    }
   ],
   "source": [
    "for first, middle, last in triples: # unpack each iterated item further (only practical if relatively few variables per iteration)\n",
    "    print(middle)"
   ]
  },
  {
   "cell_type": "code",
   "execution_count": 41,
   "metadata": {},
   "outputs": [
    {
     "name": "stdout",
     "output_type": "stream",
     "text": [
      "1st column0.07090238045372321\n",
      "2nd column0.30628182396570724\n",
      "3rd column0.25245011327781386\n",
      "1st column0.9437339557446691\n",
      "2nd column0.31081931459421264\n",
      "3rd column0.12401027814325427\n",
      "1st column0.427166217150197\n",
      "2nd column0.32836006773334825\n",
      "3rd column0.450187464373923\n"
     ]
    }
   ],
   "source": [
    "import numpy as np\n",
    "\n",
    "a = np.random.rand(3,3)\n",
    "\n",
    "for firstCol, secondCol, thirdCol in a:\n",
    "    print(\"1st column\" + str(firstCol))    \n",
    "    print(\"2nd column\" + str(secondCol))    \n",
    "    print(\"3rd column\" + str(thirdCol))"
   ]
  },
  {
   "cell_type": "code",
   "execution_count": 8,
   "metadata": {},
   "outputs": [
    {
     "name": "stdout",
     "output_type": "stream",
     "text": [
      "11\n",
      "4\n"
     ]
    }
   ],
   "source": [
    "# A reminder that the words you use for variable names are arbitrary:\n",
    "for hedgehog, badger, fox in triples:\n",
    "    print(badger)"
   ]
  },
  {
   "cell_type": "markdown",
   "metadata": {},
   "source": [
    "\n",
    "\n",
    "\n",
    "for example, to iterate over the items in a dictionary as pairs:\n",
    "\n",
    "\n"
   ]
  },
  {
   "cell_type": "code",
   "execution_count": 42,
   "metadata": {},
   "outputs": [
    {
     "name": "stdout",
     "output_type": "stream",
     "text": [
      "dict_items([('James', [1976, 'Kendal']), ('UCL', [1826, 'Bloomsbury']), ('Cambridge', [1209, 'Cambridge'])])\n"
     ]
    }
   ],
   "source": [
    "things = {\"James\": [1976, 'Kendal'], \n",
    "          \"UCL\": [1826, 'Bloomsbury'], \n",
    "          \"Cambridge\": [1209, 'Cambridge']}\n",
    "\n",
    "print(things.items()) # the items method allows you to return the key-value pairs within a dict. "
   ]
  },
  {
   "cell_type": "code",
   "execution_count": 68,
   "metadata": {},
   "outputs": [
    {
     "name": "stdout",
     "output_type": "stream",
     "text": [
      "{'James': 1976, 'UCL': 1826, 'Cambridge': 1209}\n",
      "dict_items([('James', 1976), ('UCL', 1826), ('Cambridge', 1209)])\n",
      "James  is  46 years old.\n",
      "UCL  is  196 years old.\n",
      "Cambridge  is  813 years old.\n"
     ]
    }
   ],
   "source": [
    "print(founded)\n",
    "print(founded.items())\n",
    "\n",
    "for name, year in founded.items():\n",
    "    print(name, \" is \", current_year - year, \"years old.\")"
   ]
  },
  {
   "cell_type": "code",
   "execution_count": 71,
   "metadata": {},
   "outputs": [
    {
     "name": "stdout",
     "output_type": "stream",
     "text": [
      "{'D': {'Age': 28, 'Postcode': 'NW10'}, 'P': {'Age': 26, 'Postcode': 'NW10'}, 'A': {'Age': 27, 'Postcode': 'CA52'}}\n",
      "dict_items([('D', {'Age': 28, 'Postcode': 'NW10'}), ('P', {'Age': 26, 'Postcode': 'NW10'}), ('A', {'Age': 27, 'Postcode': 'CA52'})])\n"
     ]
    }
   ],
   "source": [
    "D = {\"Age\": 28, \"Postcode\": \"NW10\"}\n",
    "P = {\"Age\": 26, \"Postcode\": \"NW10\"}\n",
    "A = {\"Age\": 27, \"Postcode\": \"CA52\"}\n",
    "\n",
    "all = {\"D\": D, \"P\": P, \"A\": A}\n",
    "print(all)\n",
    "print(all.items())\n"
   ]
  },
  {
   "cell_type": "markdown",
   "metadata": {},
   "source": [
    "### Break, Continue"
   ]
  },
  {
   "cell_type": "markdown",
   "metadata": {},
   "source": [
    "\n",
    "* Continue skips to the next turn of a loop\n",
    "* Break stops the loop early\n",
    "\n",
    "\n"
   ]
  },
  {
   "cell_type": "code",
   "execution_count": 11,
   "metadata": {},
   "outputs": [
    {
     "name": "stdout",
     "output_type": "stream",
     "text": [
      "1\n",
      "3\n",
      "5\n",
      "7\n",
      "9\n",
      "11\n",
      "13\n",
      "15\n",
      "17\n",
      "19\n"
     ]
    }
   ],
   "source": [
    "for n in range(50):\n",
    "    if n==20: \n",
    "        break\n",
    "    if n % 2 == 0:\n",
    "        continue\n",
    "    print(n)\n"
   ]
  },
  {
   "cell_type": "markdown",
   "metadata": {},
   "source": [
    "These aren't useful that often, but are worth knowing about. There's also an optional `else` clause on loops, executed only if you don't `break`, but I've never found that useful."
   ]
  },
  {
   "cell_type": "markdown",
   "metadata": {},
   "source": [
    "### Classroom exercise: the Maze Population"
   ]
  },
  {
   "cell_type": "markdown",
   "metadata": {},
   "source": [
    "Take your maze data structure. Write a program to count the total number of people in the maze, and also determine the total possible occupants."
   ]
  },
  {
   "cell_type": "code",
   "execution_count": 108,
   "metadata": {},
   "outputs": [
    {
     "name": "stdout",
     "output_type": "stream",
     "text": [
      "[{'Capacity': 2, 'Occupants': ['James'], 'Directions': ['Garden', 'Bedroom', 'Kitchen']}, {'Capacity': 1, 'Occupants': [], 'Directions': ['FrontRoom']}, {'Capacity': 3, 'Occupants': ['Sue'], 'Directions': ['FrontRoom']}, {'Capacity': 2, 'Occupants': [], 'Directions': ['FrontRoom', 'Garden']}]\n"
     ]
    }
   ],
   "source": [
    "FrontRoom = {\"Capacity\": 2, \"Occupants\": [\"James\"], \"Directions\": [\"Garden\", \"Bedroom\", \"Kitchen\"]}\n",
    "Kitchen = {\"Capacity\": 1, \"Occupants\": [], \"Directions\": [\"FrontRoom\"]}\n",
    "Garden = {\"Capacity\": 3, \"Occupants\": [\"Sue\"], \"Directions\": [\"FrontRoom\"]}\n",
    "Bedroom = {\"Capacity\": 2, \"Occupants\": [], \"Directions\": [\"FrontRoom\",\"Garden\"]}\n",
    "\n",
    "myhouse = [FrontRoom,Kitchen,Garden,Bedroom]\n",
    "print(myhouse)"
   ]
  },
  {
   "cell_type": "code",
   "execution_count": 110,
   "metadata": {},
   "outputs": [
    {
     "name": "stdout",
     "output_type": "stream",
     "text": [
      "total people = 2\n",
      "total capacity = 8\n",
      "2\n",
      "8\n"
     ]
    },
    {
     "ename": "AttributeError",
     "evalue": "'list' object has no attribute 'items'",
     "output_type": "error",
     "traceback": [
      "\u001b[0;31m---------------------------------------------------------------------------\u001b[0m",
      "\u001b[0;31mAttributeError\u001b[0m                            Traceback (most recent call last)",
      "\u001b[0;32m/var/folders/47/hbndf6xs6slbl_yz01qkqvmm0000gn/T/ipykernel_3374/955280558.py\u001b[0m in \u001b[0;36m<module>\u001b[0;34m\u001b[0m\n\u001b[1;32m     24\u001b[0m \u001b[0;31m# testing some dict functionality\u001b[0m\u001b[0;34m\u001b[0m\u001b[0;34m\u001b[0m\u001b[0m\n\u001b[1;32m     25\u001b[0m \u001b[0;34m\u001b[0m\u001b[0m\n\u001b[0;32m---> 26\u001b[0;31m \u001b[0mmyhouse\u001b[0m\u001b[0;34m.\u001b[0m\u001b[0mitems\u001b[0m\u001b[0;34m(\u001b[0m\u001b[0;34m)\u001b[0m\u001b[0;34m\u001b[0m\u001b[0;34m\u001b[0m\u001b[0m\n\u001b[0m\u001b[1;32m     27\u001b[0m \u001b[0;34m\u001b[0m\u001b[0m\n",
      "\u001b[0;31mAttributeError\u001b[0m: 'list' object has no attribute 'items'"
     ]
    }
   ],
   "source": [
    "# exercise DH\n",
    "# option 1 \n",
    "people = [len(list(i['Occupants'])) for i in myhouse]\n",
    "print('total people = ' + str(sum(people)))\n",
    "\n",
    "total_capacity = [i['Capacity'] for i in myhouse]\n",
    "print('total capacity = ' + str(sum(total_capacity)))\n",
    "\n",
    "# option 2\n",
    "count_people = 0\n",
    "count_capacity = 0\n",
    "\n",
    "for room in myhouse:\n",
    "    people_here = room['Occupants']\n",
    "    capacity_here = room['Capacity']\n",
    "    count_capacity = count_capacity + capacity_here\n",
    "    \n",
    "    if people_here:\n",
    "        count_people = count_people+len(people_here)\n",
    "\n",
    "print(count_people)\n",
    "print(count_capacity)\n",
    "    \n",
    "\n"
   ]
  },
  {
   "cell_type": "code",
   "execution_count": 112,
   "metadata": {},
   "outputs": [
    {
     "name": "stdout",
     "output_type": "stream",
     "text": [
      "{'FrontRoom': {'Capacity': 2, 'Occupants': ['James'], 'Directions': ['Garden', 'Bedroom', 'Kitchen']}, 'Kitchen': {'Capacity': 1, 'Occupants': [], 'Directions': ['FrontRoom']}, 'Garden': {'Capacity': 3, 'Occupants': ['Sue'], 'Directions': ['FrontRoom']}, 'Bedroom': {'Capacity': 2, 'Occupants': [], 'Directions': ['FrontRoom', 'Garden']}}\n"
     ]
    }
   ],
   "source": [
    "# make myhouse not a list but a dict and try to reproduce \n",
    "\n",
    "FrontRoom = {\"Capacity\": 2, \"Occupants\": [\"James\"], \"Directions\": [\"Garden\", \"Bedroom\", \"Kitchen\"]}\n",
    "Kitchen = {\"Capacity\": 1, \"Occupants\": [], \"Directions\": [\"FrontRoom\"]}\n",
    "Garden = {\"Capacity\": 3, \"Occupants\": [\"Sue\"], \"Directions\": [\"FrontRoom\"]}\n",
    "Bedroom = {\"Capacity\": 2, \"Occupants\": [], \"Directions\": [\"FrontRoom\",\"Garden\"]}\n",
    "\n",
    "myhouse = {\"FrontRoom\":FrontRoom, \"Kitchen\": Kitchen, \"Garden\": Garden, \"Bedroom\": Bedroom}\n",
    "print(myhouse)"
   ]
  },
  {
   "cell_type": "code",
   "execution_count": 118,
   "metadata": {},
   "outputs": [
    {
     "name": "stdout",
     "output_type": "stream",
     "text": [
      "2\n",
      "8\n"
     ]
    }
   ],
   "source": [
    "occupants = 0;\n",
    "capacity = 0;\n",
    "\n",
    "for room, properties in myhouse.items():\n",
    "    #print(room, properties)\n",
    "    these_occ = properties['Occupants']\n",
    "    this_capa = properties['Capacity']\n",
    "    \n",
    "    occupants = occupants + len(these_occ)\n",
    "    capacity = capacity + this_capa\n",
    "    \n",
    "print(occupants)\n",
    "print(capacity)    "
   ]
  },
  {
   "cell_type": "code",
   "execution_count": 119,
   "metadata": {},
   "outputs": [
    {
     "data": {
      "text/plain": [
       "dict_keys(['FrontRoom', 'Kitchen', 'Garden', 'Bedroom'])"
      ]
     },
     "execution_count": 119,
     "metadata": {},
     "output_type": "execute_result"
    }
   ],
   "source": [
    "myhouse.keys() # useful to get the key names. can use list comprehension to translate them to an indexable list"
   ]
  },
  {
   "cell_type": "code",
   "execution_count": 120,
   "metadata": {},
   "outputs": [
    {
     "data": {
      "text/plain": [
       "dict_items([('FrontRoom', {'Capacity': 2, 'Occupants': ['James'], 'Directions': ['Garden', 'Bedroom', 'Kitchen']}), ('Kitchen', {'Capacity': 1, 'Occupants': [], 'Directions': ['FrontRoom']}), ('Garden', {'Capacity': 3, 'Occupants': ['Sue'], 'Directions': ['FrontRoom']}), ('Bedroom', {'Capacity': 2, 'Occupants': [], 'Directions': ['FrontRoom', 'Garden']})])"
      ]
     },
     "execution_count": 120,
     "metadata": {},
     "output_type": "execute_result"
    }
   ],
   "source": [
    "myhouse.items() # useful to iterate! can access name and properties independently using two iterable variables "
   ]
  },
  {
   "cell_type": "code",
   "execution_count": 123,
   "metadata": {},
   "outputs": [
    {
     "data": {
      "text/plain": [
       "dict_values([{'Capacity': 2, 'Occupants': ['James'], 'Directions': ['Garden', 'Bedroom', 'Kitchen']}, {'Capacity': 1, 'Occupants': [], 'Directions': ['FrontRoom']}, {'Capacity': 3, 'Occupants': ['Sue'], 'Directions': ['FrontRoom']}, {'Capacity': 2, 'Occupants': [], 'Directions': ['FrontRoom', 'Garden']}])"
      ]
     },
     "execution_count": 123,
     "metadata": {},
     "output_type": "execute_result"
    }
   ],
   "source": [
    "myhouse.values() #directly access the dict entries, pribably could also use list comprehension to translate them to new list! "
   ]
  }
 ],
 "metadata": {
  "jekyll": {
   "display_name": "Looping"
  },
  "kernelspec": {
   "display_name": "Python 3",
   "language": "python",
   "name": "python3"
  },
  "language_info": {
   "codemirror_mode": {
    "name": "ipython",
    "version": 3
   },
   "file_extension": ".py",
   "mimetype": "text/x-python",
   "name": "python",
   "nbconvert_exporter": "python",
   "pygments_lexer": "ipython3",
   "version": "3.8.3"
  }
 },
 "nbformat": 4,
 "nbformat_minor": 1
}
