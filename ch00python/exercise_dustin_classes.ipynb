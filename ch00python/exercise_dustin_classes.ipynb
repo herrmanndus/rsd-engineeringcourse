{
 "cells": [
  {
   "cell_type": "code",
   "execution_count": 9,
   "metadata": {},
   "outputs": [],
   "source": [
    "# define a class called Lab which has some attributes, functions and can hold scientists\n",
    "class Lab:\n",
    "    def __init__(self,name,capacity):\n",
    "        self.name = name\n",
    "        self.scientists = {} # note that this is not a required input. if you want to initialize it with a default do as below for scientist\n",
    "        self.capacity = capacity\n",
    "        \n",
    "    def is_full(self):\n",
    "        return len(self.scientists) > self.capacity\n",
    "    \n",
    "    def add_scientist(self,scientist):\n",
    "        scientist.lab_name = self.name\n",
    "        scientist.lab = self # important so you can access the lab functions from a scientist object\n",
    "        self.scientists[scientist.name] = scientist # assign a scientist object to the lab onject (dict entry)\n",
    "        \n",
    "    def delete_scientist(self,scientist):\n",
    "        del self.scientists[scientist.name] \n",
    "        "
   ]
  },
  {
   "cell_type": "code",
   "execution_count": 10,
   "metadata": {},
   "outputs": [],
   "source": [
    "# define a class called scientist which has some attributes (name, projects, collaborations etc.)\n",
    "\n",
    "class Scientist:\n",
    "    def __init__(self,name,interests,age,location, lab = None): # init lab as None such that\n",
    "        self.name = name\n",
    "        self.interests = interests # list of interests\n",
    "        self.age = age\n",
    "        self.location = location\n",
    "        self.lab = lab\n",
    "        \n",
    "    def switch_labs(self,to_lab):\n",
    "        self.lab.delete_scientist(self)\n",
    "        destination_lab = to_lab\n",
    "        destination_lab.add_scientist(self)\n",
    "        print(self.name, \" has a new job at \", destination_lab.name)\n",
    "        \n",
    "    def how_old_is(self):\n",
    "        print(self.name, \" is\", self.age, \" years old\")\n",
    "    \n",
    "    def where_do_they_work(self):\n",
    "        if bool(self.lab):\n",
    "            print(self.name, \" works in the \", self.lab.name, \" lab\")\n",
    "        else:\n",
    "            print(self.name, \"has no lab\")\n",
    "                \n",
    "    def is_interested_in(self):\n",
    "        if bool(self.interests):\n",
    "            print(self.name, \" is interested in \", \" & \".join(self.interests))\n",
    "        else:\n",
    "            print(self.name, \" has no interests\")\n",
    "                                  \n",
    "    def tell_me_about_your_lab(self):\n",
    "        if bool(self.lab):\n",
    "            print(\"My lab is called\",self.lab.name, \"lab\")\n",
    "            print(\"My colleagues are\", \" & \".join(self.lab.scientists.keys()))\n",
    "        else:\n",
    "            print(\"I have no lab\")"
   ]
  },
  {
   "cell_type": "code",
   "execution_count": 11,
   "metadata": {},
   "outputs": [],
   "source": [
    "# make labs \n",
    "hausser_lab = Lab(\"Hausser\", 3)\n",
    "carandini_lab = Lab(\"Carandini\", 3)\n",
    "harris_lab = Lab(\"Harris\", 3)\n",
    "\n",
    "# make people \n",
    "anja = Scientist(\"anja\", [\"cell culture\", \"fishing\"], 24, \"London\")\n",
    "#dir(anja)\n",
    "bert = Scientist(\"bert\", [\"PCR\", \"basketball\"], 24, \"London\")\n",
    "claus = Scientist(\"claus\", [\"CRISPR\", \"cinema\"], 24, \"London\")\n",
    "doro = Scientist(\"doro\", [\"programming\", \"reading\"], 24, \"London\")\n",
    "erika = Scientist(\"erika\", [\"histology\", \"kickboxing\"], 24, \"London\")\n",
    "\n",
    "#print(anja.interests)"
   ]
  },
  {
   "cell_type": "code",
   "execution_count": 12,
   "metadata": {},
   "outputs": [
    {
     "name": "stdout",
     "output_type": "stream",
     "text": [
      "anja  is 24  years old\n",
      "doro has no lab\n",
      "erika  is interested in  histology & kickboxing\n",
      "I have no lab\n"
     ]
    }
   ],
   "source": [
    "# ask people questions about themselves\n",
    "\n",
    "anja.how_old_is()\n",
    "doro.where_do_they_work()\n",
    "erika.is_interested_in()\n",
    "claus.tell_me_about_your_lab()"
   ]
  },
  {
   "cell_type": "code",
   "execution_count": 13,
   "metadata": {},
   "outputs": [],
   "source": [
    "# hire people into labs \n",
    "\n",
    "hausser_lab.add_scientist(claus)\n",
    "#print(hausser_lab.scientists.items())\n",
    "hausser_lab.add_scientist(bert)\n",
    "carandini_lab.add_scientist(anja)\n",
    "harris_lab.add_scientist(erika)\n",
    "harris_lab.add_scientist(doro)\n"
   ]
  },
  {
   "cell_type": "code",
   "execution_count": 14,
   "metadata": {},
   "outputs": [
    {
     "name": "stdout",
     "output_type": "stream",
     "text": [
      "doro  works in the  Harris  lab\n",
      "claus  works in the  Hausser  lab\n"
     ]
    }
   ],
   "source": [
    "doro.where_do_they_work()\n",
    "claus.where_do_they_work()"
   ]
  },
  {
   "cell_type": "code",
   "execution_count": 15,
   "metadata": {},
   "outputs": [
    {
     "name": "stdout",
     "output_type": "stream",
     "text": [
      "claus  has a new job at  Carandini\n"
     ]
    }
   ],
   "source": [
    "# have a scientist move between labs \n",
    "\n",
    "claus.switch_labs(carandini_lab)"
   ]
  },
  {
   "cell_type": "code",
   "execution_count": 16,
   "metadata": {},
   "outputs": [
    {
     "name": "stdout",
     "output_type": "stream",
     "text": [
      "claus  works in the  Carandini  lab\n"
     ]
    }
   ],
   "source": [
    "claus.where_do_they_work()"
   ]
  },
  {
   "cell_type": "code",
   "execution_count": null,
   "metadata": {},
   "outputs": [],
   "source": []
  }
 ],
 "metadata": {
  "kernelspec": {
   "display_name": "Python 3",
   "language": "python",
   "name": "python3"
  },
  "language_info": {
   "codemirror_mode": {
    "name": "ipython",
    "version": 3
   },
   "file_extension": ".py",
   "mimetype": "text/x-python",
   "name": "python",
   "nbconvert_exporter": "python",
   "pygments_lexer": "ipython3",
   "version": "3.8.3"
  }
 },
 "nbformat": 4,
 "nbformat_minor": 4
}
