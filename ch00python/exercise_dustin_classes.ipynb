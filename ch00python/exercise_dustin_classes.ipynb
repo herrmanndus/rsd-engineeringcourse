{
 "cells": [
  {
   "cell_type": "code",
   "execution_count": 29,
   "metadata": {},
   "outputs": [],
   "source": [
    "# define a class called Lab which has some attributes, functions and can hold scientists\n",
    "class Lab:\n",
    "    def __init__(self,name,capacity):\n",
    "        self.name = name\n",
    "        self.scientists = {} # note that this is not a required input. if you want to initialize it with a default do as below for scientist\n",
    "        self.capacity = capacity\n",
    "        \n",
    "    def is_full(self):\n",
    "        return len(self.scientists) > self.capacity\n",
    "    \n",
    "    def add_scientist(self,scientist):\n",
    "        scientist.lab_name = self.name\n",
    "        scientist.lab = self # important so you can access the lab functions from a scientist object\n",
    "        self.scientists[scientist.name] = scientist # assign a scientist object to the lab onject (dict entry)\n",
    "        \n",
    "    def delete_scientist(self,scientist):\n",
    "        del self.scientists[scientist.name] \n",
    "        "
   ]
  },
  {
   "cell_type": "code",
   "execution_count": 30,
   "metadata": {},
   "outputs": [],
   "source": [
    "# define a class called scientist which has some attributes (name, projects, collaborations etc.)\n",
    "\n",
    "class Scientist:\n",
    "    def __init__(self,name,interests,age,location, lab = None): # init lab as None such that\n",
    "        self.name = name\n",
    "        self.interests = interests # list of interests\n",
    "        self.age = age\n",
    "        self.location = location\n",
    "        self.lab = lab\n",
    "        \n",
    "    def switch_labs(self,to_lab):\n",
    "        self.lab.delete_scientist(self)\n",
    "        destination_lab = to_lab\n",
    "        destination_lab.add_scientist(self)\n",
    "        print(self.name, \" has a new job at \", destination_lab.name)\n",
    "        \n",
    "    def how_old_is(self):\n",
    "        print(self.name, \" is\", self.age, \" years old\")\n",
    "    \n",
    "    def where_do_they_work(self):\n",
    "        if bool(self.lab):\n",
    "            print(self.name, \" works in the \", self.lab.name, \" lab\")\n",
    "        else:\n",
    "            print(self.name, \"has no lab\")\n",
    "                \n",
    "    def is_interested_in(self):\n",
    "        if bool(self.interests):\n",
    "            print(self.name, \" is interested in \", \" & \".join(self.interests))\n",
    "        else:\n",
    "            print(self.name, \" has no interests\")\n",
    "                                  \n",
    "    def tell_me_about_your_lab(self):\n",
    "        if bool(self.lab):\n",
    "            print(\"My lab is called\",self.lab.name, \"lab\")\n",
    "            print(\"My colleagues are\", \" & \".join(self.lab.scientists.keys()))\n",
    "        else:\n",
    "            print(\"I have no lab\")"
   ]
  },
  {
   "cell_type": "code",
   "execution_count": 53,
   "metadata": {},
   "outputs": [],
   "source": [
    "# make labs \n",
    "hausser_lab = Lab(\"Hausser\", 3)\n",
    "carandini_lab = Lab(\"Carandini\", 3)\n",
    "harris_lab = Lab(\"Harris\", 3)\n",
    "\n",
    "# make people \n",
    "anja = Scientist(\"anja\", [\"cell culture\", \"fishing\"], 24, \"London\")\n",
    "#dir(anja)\n",
    "bert = Scientist(\"bert\", [\"PCR\", \"basketball\"], 24, \"London\")\n",
    "claus = Scientist(\"claus\", [\"CRISPR\", \"cinema\"], 28, \"London\")\n",
    "doro = Scientist(\"doro\", [\"programming\", \"reading\"], 35, \"London\")\n",
    "erika = Scientist(\"erika\", [\"histology\", \"kickboxing\"], 39, \"London\")\n",
    "\n",
    "#print(anja.interests)"
   ]
  },
  {
   "cell_type": "code",
   "execution_count": 54,
   "metadata": {},
   "outputs": [
    {
     "name": "stdout",
     "output_type": "stream",
     "text": [
      "anja  is 24  years old\n",
      "doro has no lab\n",
      "erika  is interested in  histology & kickboxing\n",
      "I have no lab\n"
     ]
    }
   ],
   "source": [
    "# ask people questions about themselves\n",
    "\n",
    "anja.how_old_is()\n",
    "doro.where_do_they_work()\n",
    "erika.is_interested_in()\n",
    "claus.tell_me_about_your_lab()"
   ]
  },
  {
   "cell_type": "code",
   "execution_count": 55,
   "metadata": {},
   "outputs": [],
   "source": [
    "# hire people into labs \n",
    "\n",
    "hausser_lab.add_scientist(claus)\n",
    "#print(hausser_lab.scientists.items())\n",
    "hausser_lab.add_scientist(bert)\n",
    "carandini_lab.add_scientist(anja)\n",
    "harris_lab.add_scientist(erika)\n",
    "harris_lab.add_scientist(doro)\n"
   ]
  },
  {
   "cell_type": "code",
   "execution_count": 56,
   "metadata": {},
   "outputs": [
    {
     "name": "stdout",
     "output_type": "stream",
     "text": [
      "doro  works in the  Harris  lab\n",
      "claus  works in the  Hausser  lab\n"
     ]
    }
   ],
   "source": [
    "doro.where_do_they_work()\n",
    "claus.where_do_they_work()"
   ]
  },
  {
   "cell_type": "code",
   "execution_count": 57,
   "metadata": {},
   "outputs": [
    {
     "name": "stdout",
     "output_type": "stream",
     "text": [
      "claus  has a new job at  Carandini\n"
     ]
    }
   ],
   "source": [
    "# have a scientist move between labs \n",
    "\n",
    "claus.switch_labs(carandini_lab)"
   ]
  },
  {
   "cell_type": "code",
   "execution_count": 58,
   "metadata": {},
   "outputs": [
    {
     "name": "stdout",
     "output_type": "stream",
     "text": [
      "claus  works in the  Carandini  lab\n"
     ]
    }
   ],
   "source": [
    "claus.where_do_they_work()"
   ]
  },
  {
   "cell_type": "code",
   "execution_count": 59,
   "metadata": {},
   "outputs": [
    {
     "name": "stdout",
     "output_type": "stream",
     "text": [
      "Overwriting custom_classes_lab_model.py\n"
     ]
    }
   ],
   "source": [
    "%%writefile custom_classes_lab_model.py \n",
    "\n",
    "# experimenting DH: can I write a class to a .py file and import it? \n",
    "\n",
    "class Lab:\n",
    "    def __init__(self,name,capacity):\n",
    "        self.name = name\n",
    "        self.scientists = {} # note that this is not a required input. if you want to initialize it with a default do as below for scientist\n",
    "        self.capacity = capacity\n",
    "        \n",
    "    def is_full(self):\n",
    "        return len(self.scientists) > self.capacity\n",
    "    \n",
    "    def add_scientist(self,scientist):\n",
    "        scientist.lab_name = self.name\n",
    "        scientist.lab = self # important so you can access the lab functions from a scientist object\n",
    "        self.scientists[scientist.name] = scientist # assign a scientist object to the lab onject (dict entry)\n",
    "        \n",
    "    def delete_scientist(self,scientist):\n",
    "        del self.scientists[scientist.name] \n",
    "        \n",
    "\n",
    "# define a class called scientist which has some attributes (name, projects, collaborations etc.)\n",
    "\n",
    "class Scientist:\n",
    "    def __init__(self,name,interests,age,location, lab = None): # init lab as None such that\n",
    "        self.name = name\n",
    "        self.interests = interests # list of interests\n",
    "        self.age = age\n",
    "        self.location = location\n",
    "        self.lab = lab\n",
    "        \n",
    "    def switch_labs(self,to_lab):\n",
    "        self.lab.delete_scientist(self)\n",
    "        destination_lab = to_lab\n",
    "        destination_lab.add_scientist(self)\n",
    "        print(self.name, \" has a new job at \", destination_lab.name)\n",
    "        \n",
    "    def how_old_is(self):\n",
    "        print(self.name, \" is\", self.age, \" years old\")\n",
    "    \n",
    "    def where_do_they_work(self):\n",
    "        if bool(self.lab):\n",
    "            print(self.name, \" works in the \", self.lab.name, \" lab\")\n",
    "        else:\n",
    "            print(self.name, \"has no lab\")\n",
    "                \n",
    "    def is_interested_in(self):\n",
    "        if bool(self.interests):\n",
    "            print(self.name, \" is interested in \", \" & \".join(self.interests))\n",
    "        else:\n",
    "            print(self.name, \" has no interests\")\n",
    "                                  \n",
    "    def tell_me_about_your_lab(self):\n",
    "        if bool(self.lab):\n",
    "            print(\"My lab is called\",self.lab.name, \"lab\")\n",
    "            print(\"My colleagues are\", \" & \".join(self.lab.scientists.keys()))\n",
    "        else:\n",
    "            print(\"I have no lab\")\n",
    "\n"
   ]
  },
  {
   "cell_type": "code",
   "execution_count": 60,
   "metadata": {},
   "outputs": [],
   "source": [
    "from custom_classes_lab_model import Scientist, Lab\n",
    "\n",
    "# looks like that works"
   ]
  },
  {
   "cell_type": "code",
   "execution_count": 61,
   "metadata": {},
   "outputs": [],
   "source": [
    "claus.siblings = [\"Kim\", \"Harry\"] # you can add properties"
   ]
  },
  {
   "cell_type": "code",
   "execution_count": 62,
   "metadata": {},
   "outputs": [
    {
     "data": {
      "text/plain": [
       "['__class__',\n",
       " '__delattr__',\n",
       " '__dict__',\n",
       " '__dir__',\n",
       " '__doc__',\n",
       " '__eq__',\n",
       " '__format__',\n",
       " '__ge__',\n",
       " '__getattribute__',\n",
       " '__gt__',\n",
       " '__hash__',\n",
       " '__init__',\n",
       " '__init_subclass__',\n",
       " '__le__',\n",
       " '__lt__',\n",
       " '__module__',\n",
       " '__ne__',\n",
       " '__new__',\n",
       " '__reduce__',\n",
       " '__reduce_ex__',\n",
       " '__repr__',\n",
       " '__setattr__',\n",
       " '__sizeof__',\n",
       " '__str__',\n",
       " '__subclasshook__',\n",
       " '__weakref__',\n",
       " 'age',\n",
       " 'how_old_is',\n",
       " 'interests',\n",
       " 'is_interested_in',\n",
       " 'lab',\n",
       " 'lab_name',\n",
       " 'location',\n",
       " 'name',\n",
       " 'siblings',\n",
       " 'switch_labs',\n",
       " 'tell_me_about_your_lab',\n",
       " 'where_do_they_work']"
      ]
     },
     "execution_count": 62,
     "metadata": {},
     "output_type": "execute_result"
    }
   ],
   "source": [
    "dir(claus)"
   ]
  },
  {
   "cell_type": "code",
   "execution_count": 65,
   "metadata": {},
   "outputs": [
    {
     "name": "stdout",
     "output_type": "stream",
     "text": [
      "anja\n",
      "claus\n",
      "['cell culture', 'fishing']\n",
      "['CRISPR', 'cinema']\n",
      "28\n"
     ]
    },
    {
     "ename": "AttributeError",
     "evalue": "'Scientist' object has no attribute 'attributes'",
     "output_type": "error",
     "traceback": [
      "\u001b[1;31m---------------------------------------------------------------------------\u001b[0m",
      "\u001b[1;31mAttributeError\u001b[0m                            Traceback (most recent call last)",
      "\u001b[1;32m<ipython-input-65-92a4a25790f0>\u001b[0m in \u001b[0;36m<module>\u001b[1;34m\u001b[0m\n\u001b[0;32m      3\u001b[0m \u001b[0magez\u001b[0m \u001b[1;33m=\u001b[0m \u001b[1;33m[\u001b[0m\u001b[0mprint\u001b[0m\u001b[1;33m(\u001b[0m\u001b[0mproperties\u001b[0m\u001b[1;33m.\u001b[0m\u001b[0mage\u001b[0m\u001b[1;33m)\u001b[0m \u001b[1;32mfor\u001b[0m \u001b[0mscientist\u001b[0m\u001b[1;33m,\u001b[0m \u001b[0mproperties\u001b[0m \u001b[1;32min\u001b[0m \u001b[0mcarandini_lab\u001b[0m\u001b[1;33m.\u001b[0m\u001b[0mscientists\u001b[0m\u001b[1;33m.\u001b[0m\u001b[0mitems\u001b[0m\u001b[1;33m(\u001b[0m\u001b[1;33m)\u001b[0m \u001b[1;32mif\u001b[0m \u001b[0mproperties\u001b[0m\u001b[1;33m.\u001b[0m\u001b[0mage\u001b[0m \u001b[1;33m>\u001b[0m \u001b[1;36m25\u001b[0m\u001b[1;33m]\u001b[0m\u001b[1;33m\u001b[0m\u001b[1;33m\u001b[0m\u001b[0m\n\u001b[0;32m      4\u001b[0m \u001b[1;33m\u001b[0m\u001b[0m\n\u001b[1;32m----> 5\u001b[1;33m \u001b[0manja\u001b[0m\u001b[1;33m.\u001b[0m\u001b[0mattributes\u001b[0m\u001b[1;33m(\u001b[0m\u001b[1;33m)\u001b[0m\u001b[1;33m\u001b[0m\u001b[1;33m\u001b[0m\u001b[0m\n\u001b[0m",
      "\u001b[1;31mAttributeError\u001b[0m: 'Scientist' object has no attribute 'attributes'"
     ]
    }
   ],
   "source": [
    "namez = [print(properties.name) for scientist, properties in carandini_lab.scientists.items()]\n",
    "interestz = [print(properties.interests) for scientist, properties in carandini_lab.scientists.items()]\n",
    "agez = [print(properties.age) for scientist, properties in carandini_lab.scientists.items() if properties.age > 25]\n"
   ]
  },
  {
   "cell_type": "code",
   "execution_count": 69,
   "metadata": {},
   "outputs": [
    {
     "data": {
      "text/plain": [
       "<bound method Scientist.where_do_they_work of <custom_classes_lab_model.Scientist object at 0x000002155B3F3160>>"
      ]
     },
     "execution_count": 69,
     "metadata": {},
     "output_type": "execute_result"
    }
   ],
   "source": [
    "getattr(anja,'where_do_they_work')"
   ]
  },
  {
   "cell_type": "code",
   "execution_count": 78,
   "metadata": {},
   "outputs": [],
   "source": [
    "class TestClass:\n",
    "    def __init__(self, name, age):\n",
    "        self.name = name\n",
    "        self.age = age\n",
    "        \n",
    "    def printzzz(self):\n",
    "        print(self.name)   "
   ]
  },
  {
   "cell_type": "code",
   "execution_count": 76,
   "metadata": {},
   "outputs": [],
   "source": [
    "class TestClass:\n",
    "    def summm(self):\n",
    "        print(3)"
   ]
  },
  {
   "cell_type": "markdown",
   "metadata": {},
   "source": [
    "# ideas to make this more complex \n",
    "- add randomness \n",
    "- simulate new scientists, drawn from some random word list generator \n",
    "- simulate collaborations \n",
    "- simulate meeting participation \n"
   ]
  },
  {
   "cell_type": "code",
   "execution_count": null,
   "metadata": {},
   "outputs": [],
   "source": []
  }
 ],
 "metadata": {
  "kernelspec": {
   "display_name": "Python 3 (ipykernel)",
   "language": "python",
   "name": "python3"
  },
  "language_info": {
   "codemirror_mode": {
    "name": "ipython",
    "version": 3
   },
   "file_extension": ".py",
   "mimetype": "text/x-python",
   "name": "python",
   "nbconvert_exporter": "python",
   "pygments_lexer": "ipython3",
   "version": "3.9.7"
  }
 },
 "nbformat": 4,
 "nbformat_minor": 4
}
