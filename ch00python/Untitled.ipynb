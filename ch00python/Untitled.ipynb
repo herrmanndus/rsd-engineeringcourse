{
 "cells": [
  {
   "cell_type": "code",
   "execution_count": 1,
   "id": "b105f1ec",
   "metadata": {},
   "outputs": [],
   "source": [
    "from useful_functions_saved_by_dustin import simply_return \n"
   ]
  },
  {
   "cell_type": "code",
   "execution_count": 2,
   "id": "1260d241",
   "metadata": {},
   "outputs": [
    {
     "data": {
      "text/plain": [
       "4"
      ]
     },
     "execution_count": 2,
     "metadata": {},
     "output_type": "execute_result"
    }
   ],
   "source": [
    "simply_return(4)"
   ]
  },
  {
   "cell_type": "code",
   "execution_count": null,
   "id": "cb9e1953",
   "metadata": {},
   "outputs": [],
   "source": []
  }
 ],
 "metadata": {
  "kernelspec": {
   "display_name": "Python 3 (ipykernel)",
   "language": "python",
   "name": "python3"
  },
  "language_info": {
   "codemirror_mode": {
    "name": "ipython",
    "version": 3
   },
   "file_extension": ".py",
   "mimetype": "text/x-python",
   "name": "python",
   "nbconvert_exporter": "python",
   "pygments_lexer": "ipython3",
   "version": "3.9.7"
  }
 },
 "nbformat": 4,
 "nbformat_minor": 5
}
