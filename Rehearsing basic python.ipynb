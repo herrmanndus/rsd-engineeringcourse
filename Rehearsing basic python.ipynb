{
 "cells": [
  {
   "cell_type": "code",
   "execution_count": 7,
   "id": "4e67dfd0",
   "metadata": {},
   "outputs": [
    {
     "name": "stdout",
     "output_type": "stream",
     "text": [
      "['', 'Users', 'dustinherrmann', 'Documents', 'GitHub', 'rsd-engineeringcourse']\n",
      "/Users/dustinherrmann/Documents/GitHub/rsd-engineeringcourse\n"
     ]
    }
   ],
   "source": [
    "import os \n",
    "this = os.getcwd()\n",
    "#print(this)\n",
    "in_dir = [x for x in os.listdir(this)]\n",
    "#print(in_dir)\n",
    "split_dir = this.split(\"/\")\n",
    "print(split_dir)\n",
    "\n",
    "print(this)"
   ]
  },
  {
   "cell_type": "code",
   "execution_count": 8,
   "id": "3bd47033",
   "metadata": {},
   "outputs": [
    {
     "name": "stdout",
     "output_type": "stream",
     "text": [
      "['jupyter\\n', 'numpy\\n', 'scipy\\n', 'pandas\\n', 'nose\\n', 'mako\\n', 'cython\\n', 'pyzmq\\n', 'matplotlib\\n', 'geopy\\n', 'matplotlib-venn\\n', 'pypng\\n', 'sphinx\\n', 'numpydoc\\n', 'requests\\n']\n"
     ]
    },
    {
     "data": {
      "text/plain": [
       "<function TextIOWrapper.close()>"
      ]
     },
     "execution_count": 8,
     "metadata": {},
     "output_type": "execute_result"
    }
   ],
   "source": [
    "file = open('requirements.txt')\n",
    "#as_str = file.read()\n",
    "#print(as_str)\n",
    "as_list = [x for x in file]\n",
    "#print(as_list[::1]) # start to end, steps of 1 \n",
    "#print(as_list[::3]) # start to end, steps of 3\n",
    "\n",
    "print(as_list[0:-3:1])\n",
    "file.close"
   ]
  },
  {
   "cell_type": "code",
   "execution_count": 9,
   "id": "7dba0a61",
   "metadata": {},
   "outputs": [
    {
     "name": "stdout",
     "output_type": "stream",
     "text": [
      "['numpy\\n', 'scipy\\n', 'pandas\\n', 'pyzmq\\n', 'matplotlib\\n', 'pypng\\n', 'sphinx\\n', 'numpydoc\\n', 'pyyaml\\n']\n"
     ]
    }
   ],
   "source": [
    "# read file with content manager without extra need to close file afterwards\n",
    "with open('requirements.txt') as myfile: \n",
    "    t = [x for x in myfile if not 'e' in x and 'p' in x]\n",
    "    # list comprehension with double condition ('and' keyword)\n",
    "print(t)"
   ]
  },
  {
   "cell_type": "code",
   "execution_count": 10,
   "id": "90fdecad",
   "metadata": {},
   "outputs": [
    {
     "name": "stdout",
     "output_type": "stream",
     "text": [
      "2 4 16\n"
     ]
    }
   ],
   "source": [
    "def power_rule(b,p):\n",
    "    return b, p, b**p\n",
    "\n",
    "[base, potentiator, result] = power_rule(2,4)\n",
    "print(base, potentiator, result)"
   ]
  },
  {
   "cell_type": "code",
   "execution_count": 11,
   "id": "ffafbc69",
   "metadata": {},
   "outputs": [
    {
     "name": "stdout",
     "output_type": "stream",
     "text": [
      "I am 29 years old\n",
      "I am 29 years oldI am 29 years old\n"
     ]
    }
   ],
   "source": [
    "# write some random text to file \n",
    "my_txt1 = 'I am'\n",
    "my_txt2 = 'years old'\n",
    "age = 29\n",
    "\n",
    "sentence = [my_txt1, str(age), my_txt2]\n",
    "sentence = ' '.join(sentence)\n",
    "print(sentence)\n",
    "\n",
    "# write that file (open with 'w')\n",
    "with open(\"mysentenceasafile.txt\",'w') as x:\n",
    "    x.write(sentence)\n",
    "    \n",
    "# append sth to that file (open with 'a')\n",
    "with open(\"mysentenceasafile.txt\",'a') as x:\n",
    "    x.write(sentence)\n",
    "    \n",
    "with open(\"mysentenceasafile.txt\") as x:\n",
    "    temp = x.read()\n",
    "\n",
    "print(temp)\n"
   ]
  },
  {
   "cell_type": "code",
   "execution_count": 12,
   "id": "f34fab3b",
   "metadata": {
    "scrolled": true
   },
   "outputs": [
    {
     "data": {
      "text/plain": [
       "(569, 31)"
      ]
     },
     "execution_count": 12,
     "metadata": {},
     "output_type": "execute_result"
    }
   ],
   "source": [
    "# reading .csv files\n",
    "# 1) USING NUMPY\n",
    "import numpy as np\n",
    "import pandas as pd\n",
    "import matplotlib.pyplot as plt \n",
    "\n",
    "os.chdir(\"/Users/dustinherrmann/opt/anaconda3/pkgs/scikit-learn-0.24.2-py39hb2f4e1b_0/lib/python3.9/site-packages/sklearn/datasets/data/\")\n",
    "#temp = os.getcwd()\n",
    "#print(temp)\n",
    "\n",
    "#in_dir = [x for x in os.listdir(os.getcwd())]\n",
    "#print(in_dir)\n",
    "\n",
    "y = np.genfromtxt(\"breast_cancer.csv\", delimiter=',', skip_header = 1)\n",
    "y.shape\n",
    "\n",
    "#y[:,0]\n",
    "\n",
    "# 2) USING PANDAS\n",
    "\n",
    "#z = pd.read_csv(\"breast_cancer.csv\", header=0)\n",
    "#z.head()\n",
    "\n"
   ]
  },
  {
   "cell_type": "code",
   "execution_count": 13,
   "id": "65da6033",
   "metadata": {},
   "outputs": [
    {
     "data": {
      "text/plain": [
       "10.26"
      ]
     },
     "execution_count": 13,
     "metadata": {},
     "output_type": "execute_result"
    }
   ],
   "source": [
    "np.median(y[:,0])\n",
    "np.mean(y[:,0])\n",
    "np.percentile(y[:,0],10)"
   ]
  },
  {
   "cell_type": "code",
   "execution_count": 14,
   "id": "ef6cb0c5",
   "metadata": {},
   "outputs": [],
   "source": [
    "z = pd.read_csv(\"breast_cancer.csv\", header=0)"
   ]
  },
  {
   "cell_type": "code",
   "execution_count": 18,
   "id": "7a393f18",
   "metadata": {},
   "outputs": [
    {
     "data": {
      "text/plain": [
       "(4, 569)"
      ]
     },
     "execution_count": 18,
     "metadata": {},
     "output_type": "execute_result"
    }
   ],
   "source": [
    "z.describe()\n",
    "z.sort_values(by='malignant')\n",
    "len(z.columns), len(z) #columns & observations"
   ]
  },
  {
   "cell_type": "code",
   "execution_count": 30,
   "id": "5b01b789",
   "metadata": {},
   "outputs": [
    {
     "data": {
      "text/plain": [
       "(array([123., 245., 113.,  51.,  25.,   9.,   1.,   1.,   0.,   1.]),\n",
       " array([0.05504 , 0.070286, 0.085532, 0.100778, 0.116024, 0.13127 ,\n",
       "        0.146516, 0.161762, 0.177008, 0.192254, 0.2075  ]),\n",
       " <BarContainer object of 10 artists>)"
      ]
     },
     "execution_count": 30,
     "metadata": {},
     "output_type": "execute_result"
    },
    {
     "data": {
      "image/png": "[encoded data removed]",
      "text/plain": [
       "<Figure size 432x288 with 1 Axes>"
      ]
     },
     "metadata": {
      "needs_background": "light"
     },
     "output_type": "display_data"
    }
   ],
   "source": [
    "cts = z['malignant'].value_counts()\n",
    "#print(cts)\n",
    "k = cts.keys()\n",
    "#print(k)\n",
    "v = np.asarray(cts)\n",
    "#print(v)\n",
    "#plt.bar(k,v)\n",
    "#print(v)\n",
    "#plt.hist(k)\n",
    "#plt.show()\n",
    "\n",
    "plt.hist(z['malignant'])"
   ]
  },
  {
   "cell_type": "code",
   "execution_count": 108,
   "id": "43a5bdbf",
   "metadata": {},
   "outputs": [
    {
     "name": "stdout",
     "output_type": "stream",
     "text": [
      "[123 245 113  51  25   9   1   1   0   1] [0.05504  0.070286 0.085532 0.100778 0.116024 0.13127  0.146516 0.161762\n",
      " 0.177008 0.192254 0.2075  ]\n"
     ]
    },
    {
     "data": {
      "image/png": "[encoded data removed]",
      "text/plain": [
       "<Figure size 432x288 with 2 Axes>"
      ]
     },
     "metadata": {
      "needs_background": "light"
     },
     "output_type": "display_data"
    }
   ],
   "source": [
    "counts,bins = np.histogram(z['malignant'])\n",
    "print(counts,bins)\n",
    "len(bins)\n",
    "\n",
    "p = plt.figure()\n",
    "sp1 = p.add_subplot(1,2,1)\n",
    "sp1.stairs(counts,bins)\n",
    "sp2 = p.add_subplot(1,2,2)\n",
    "sp2.bar(bins[:-1:]+np.diff(bins),counts, width=0.012)\n",
    "\n",
    "sp1.set_xlabel('bins')\n",
    "sp1.set_ylabel('counts')\n",
    "sp2.set_xlabel('bins')\n",
    "sp2.set_ylabel('counts')\n",
    "\n",
    "p.tight_layout(pad=5.0)\n"
   ]
  },
  {
   "cell_type": "code",
   "execution_count": 107,
   "id": "ba6c0621",
   "metadata": {},
   "outputs": [
    {
     "data": {
      "image/png": "[encoded data removed]",
      "text/plain": [
       "<Figure size 432x288 with 2 Axes>"
      ]
     },
     "metadata": {
      "needs_background": "light"
     },
     "output_type": "display_data"
    }
   ],
   "source": [
    "p = plt.figure()\n",
    "plt.subplot(1,2,1)\n",
    "plt.stairs(counts,bins)\n",
    "plt.xlabel('bin')\n",
    "plt.ylabel('counts')\n",
    "plt.subplot(1,2,2)\n",
    "plt.bar(bins[:-1:]+np.diff(bins),counts, width=0.012)\n",
    "plt.xlabel('bin')\n",
    "plt.ylabel('counts')\n",
    "\n",
    "plt.tight_layout(pad=5.0)"
   ]
  },
  {
   "cell_type": "code",
   "execution_count": 103,
   "id": "b4375b27",
   "metadata": {},
   "outputs": [
    {
     "name": "stdout",
     "output_type": "stream",
     "text": [
      "[<AxesSubplot:> <AxesSubplot:>]\n"
     ]
    },
    {
     "data": {
      "text/plain": [
       "Text(206.49318181818177, 0.5, 'counts')"
      ]
     },
     "execution_count": 103,
     "metadata": {},
     "output_type": "execute_result"
    },
    {
     "data": {
      "text/plain": [
       "<Figure size 432x288 with 0 Axes>"
      ]
     },
     "metadata": {},
     "output_type": "display_data"
    },
    {
     "data": {
      "image/png": "[encoded data removed]",
      "text/plain": [
       "<Figure size 432x288 with 2 Axes>"
      ]
     },
     "metadata": {
      "needs_background": "light"
     },
     "output_type": "display_data"
    }
   ],
   "source": [
    "plt.figure()\n",
    "fig, ax = plt.subplots(1, 2)\n",
    "#print(ax)\n",
    "ax[0].stairs(counts,bins)\n",
    "ax[1].bar(bins[:-1:]+np.diff(bins),counts, width=0.012)\n",
    "fig.tight_layout(pad=5.0)\n",
    "ax[0].set_xlabel('bins')\n",
    "ax[0].set_ylabel('counts')\n",
    "ax[1].set_xlabel('bins')\n",
    "ax[1].set_ylabel('counts')"
   ]
  },
  {
   "cell_type": "code",
   "execution_count": 68,
   "id": "b106ff15",
   "metadata": {},
   "outputs": [
    {
     "name": "stdout",
     "output_type": "stream",
     "text": [
      "[123 245 113  51  25   9   1   1   0   1]\n",
      "[0.070286 0.085532 0.100778 0.116024 0.13127  0.146516 0.161762 0.177008\n",
      " 0.192254 0.2075  ]\n"
     ]
    },
    {
     "data": {
      "image/png": "[encoded data removed]",
      "text/plain": [
       "<Figure size 432x288 with 1 Axes>"
      ]
     },
     "metadata": {
      "needs_background": "light"
     },
     "output_type": "display_data"
    }
   ],
   "source": [
    "plt.bar(bins[:-1:]+np.diff(bins),counts, width=0.005)\n",
    "print(counts)\n",
    "print(bins[:-1:]+np.diff(bins))\n",
    "\n"
   ]
  },
  {
   "cell_type": "code",
   "execution_count": 64,
   "id": "41071288",
   "metadata": {},
   "outputs": [
    {
     "data": {
      "text/plain": [
       "<BarContainer object of 10 artists>"
      ]
     },
     "execution_count": 64,
     "metadata": {},
     "output_type": "execute_result"
    },
    {
     "data": {
      "image/png": "[encoded data removed]",
      "text/plain": [
       "<Figure size 432x288 with 1 Axes>"
      ]
     },
     "metadata": {
      "needs_background": "light"
     },
     "output_type": "display_data"
    }
   ],
   "source": [
    "plt.bar(range(10),counts)"
   ]
  },
  {
   "cell_type": "code",
   "execution_count": 204,
   "id": "53a6ae1c",
   "metadata": {},
   "outputs": [
    {
     "name": "stdout",
     "output_type": "stream",
     "text": [
      "['I am a ', 'uman']\n"
     ]
    }
   ],
   "source": [
    "#String functions\n",
    "s = 'I am a human'\n",
    "sorted(s)\n",
    "\n",
    "set(s) # equivalent to unique; a set can only contain each element once\n",
    "\n",
    "\",\".join(sorted(list(set(s)))).strip()\n",
    "\n",
    "t = s.split('h') # makes a list \n",
    "print(t)"
   ]
  },
  {
   "cell_type": "code",
   "execution_count": 216,
   "id": "4c4f534e",
   "metadata": {},
   "outputs": [
    {
     "name": "stdout",
     "output_type": "stream",
     "text": [
      "0\n",
      "1\n",
      "2\n",
      "3\n",
      "4\n"
     ]
    },
    {
     "data": {
      "text/plain": [
       "array([0, 1, 2, 3, 4])"
      ]
     },
     "execution_count": 216,
     "metadata": {},
     "output_type": "execute_result"
    }
   ],
   "source": [
    "# Numerical \n",
    "z = -5\n",
    "z.real\n",
    "\n",
    "z.__add__(7)\n",
    "\n",
    "5%3 # modulo\n",
    "\n",
    "x = range(5) # range with 5 elements (0:4, including 4)\n",
    "for ii in x:\n",
    "    print(ii)\n",
    "\n",
    "np.arange(5) # same thing as an array\n",
    "\n",
    "x=np.arange(0,10,1) # start, stop, step, NOT INCLUSIVE OF END!!!\n",
    "# same as range(10)\n",
    "y=np.linspace(0,10,10) # start, stop, num_steps, INCLUSIVE OF END!!!\n",
    "# "
   ]
  },
  {
   "cell_type": "code",
   "execution_count": 110,
   "id": "0c723870",
   "metadata": {},
   "outputs": [],
   "source": [
    "class my_testclass:\n",
    "    def __init__(self, name, importance = None):\n",
    "        self.name = name\n",
    "        self.importance = str(importance)\n",
    "        \n",
    "        \n",
    "obj = my_testclass('hi', 1)\n"
   ]
  },
  {
   "cell_type": "code",
   "execution_count": 12,
   "id": "f1939fb5",
   "metadata": {},
   "outputs": [
    {
     "name": "stdout",
     "output_type": "stream",
     "text": [
      "1\n"
     ]
    }
   ],
   "source": [
    "print(obj.importance)"
   ]
  },
  {
   "cell_type": "code",
   "execution_count": 32,
   "id": "d4a8bb7f",
   "metadata": {},
   "outputs": [
    {
     "name": "stdout",
     "output_type": "stream",
     "text": [
      "converted int to str for variable typed\n"
     ]
    },
    {
     "data": {
      "text/plain": [
       "'4 2'"
      ]
     },
     "execution_count": 32,
     "metadata": {},
     "output_type": "execute_result"
    }
   ],
   "source": [
    "def p(num: int, typed: str):\n",
    "    return ' '.join([str(num),typed])\n",
    "    \n",
    "p(1,'one')\n",
    "\n",
    "\n",
    "def p2(num,typed):\n",
    "    if not isinstance(num,int):\n",
    "        raise TypeError(\"please supply num as integer\")\n",
    "        return\n",
    "    elif not isinstance(typed,str): \n",
    "        print(\"converted int to str for variable typed\")\n",
    "        typed = str(typed)\n",
    "\n",
    "    return ' '.join([str(num),typed])\n",
    "\n",
    "    \n",
    "p2(4,2)\n"
   ]
  },
  {
   "cell_type": "code",
   "execution_count": 112,
   "id": "6e2f401c",
   "metadata": {},
   "outputs": [],
   "source": [
    "#custom functions with *args and **kwargs\n",
    "\n",
    "def new(a:int, b:int, *args, **kwargs):\n",
    "    print(a**b)\n",
    "    print(\" \".join([str(x) for x in args]))"
   ]
  },
  {
   "cell_type": "code",
   "execution_count": 115,
   "id": "7c2d2e65",
   "metadata": {},
   "outputs": [
    {
     "name": "stdout",
     "output_type": "stream",
     "text": [
      "1\n",
      "3 4 5 6 8\n"
     ]
    }
   ],
   "source": [
    "new(1,2,3,4,5,6,8,fish='salmon',forrest='home')"
   ]
  },
  {
   "cell_type": "code",
   "execution_count": 10,
   "id": "2d7e6cfc",
   "metadata": {},
   "outputs": [
    {
     "name": "stdout",
     "output_type": "stream",
     "text": [
      "1\n",
      "3 4 5\n",
      "cat=bruno\n",
      "date_y=2023\n"
     ]
    }
   ],
   "source": [
    "def new(a:int, b:int, *args, **kwargs):\n",
    "    print(a**b)\n",
    "    c = [str(x) for x in args]\n",
    "    print(\" \".join(c))\n",
    "    \n",
    "    for key,val in kwargs.items():\n",
    "        print(key+'='+str(val))\n",
    "    \n",
    "\n",
    "    #print(\" \".join([str(x) for x in args])  \n",
    "    \n",
    "new(1,2,3,4,5, cat = 'bruno', date_y = 2023)"
   ]
  },
  {
   "cell_type": "code",
   "execution_count": 116,
   "id": "b06cd42b",
   "metadata": {},
   "outputs": [
    {
     "data": {
      "text/plain": [
       "False"
      ]
     },
     "execution_count": 116,
     "metadata": {},
     "output_type": "execute_result"
    }
   ],
   "source": [
    "# any and all \n",
    "import numpy as np \n",
    "x = np.random.rand(3,3)\n",
    "y = np.random.rand(3,3)\n",
    "\n",
    "(x==y).all()\n",
    "(x==y).any()\n"
   ]
  },
  {
   "cell_type": "code",
   "execution_count": 117,
   "id": "73762160",
   "metadata": {},
   "outputs": [
    {
     "data": {
      "text/plain": [
       "-42830.250013"
      ]
     },
     "execution_count": 117,
     "metadata": {},
     "output_type": "execute_result"
    }
   ],
   "source": [
    "# date and time, datetime\n",
    "import datetime\n",
    "\n",
    "now = datetime.datetime.now()\n",
    "then = datetime.datetime(2023,4,1)\n",
    "\n",
    "d = then-now\n",
    "\n",
    "d.total_seconds()"
   ]
  },
  {
   "cell_type": "code",
   "execution_count": 118,
   "id": "f1846b12",
   "metadata": {},
   "outputs": [
    {
     "data": {
      "text/plain": [
       "'Hello'"
      ]
     },
     "execution_count": 118,
     "metadata": {},
     "output_type": "execute_result"
    }
   ],
   "source": [
    "\"Hexxo\".replace('x','l')"
   ]
  },
  {
   "cell_type": "code",
   "execution_count": 127,
   "id": "fd10867f",
   "metadata": {},
   "outputs": [
    {
     "name": "stdout",
     "output_type": "stream",
     "text": [
      "[[80 28 51]\n",
      " [19 92  3]\n",
      " [94 13 85]]\n"
     ]
    }
   ],
   "source": [
    "# RANDOMIZING STUFF\n",
    "import numpy as np\n",
    "import random \n",
    "\n",
    "np.random.rand(3,3) #3x3 matrix of random values between 0 and 1\n",
    "np.random.randn(3,3) #3x3 matrix of random values between -1 and 1\n",
    "\n",
    "# special case: matrix of random integers in range \n",
    "rng = np.random.default_rng()\n",
    "rng.integers(2, size=9)\n",
    "random_int_mat = np.reshape(rng.integers(100, size=9),[3,3])\n",
    "print(random_int_mat)"
   ]
  },
  {
   "cell_type": "code",
   "execution_count": 144,
   "id": "99355642",
   "metadata": {},
   "outputs": [
    {
     "data": {
      "text/plain": [
       "array([8, 4, 2, 6, 6, 0, 3, 3, 0, 8, 8, 3, 0, 8, 1, 4, 1, 1, 9, 4, 7, 1,\n",
       "       3, 0, 9, 4, 5, 7, 4, 7, 1, 4, 8, 4, 1, 6, 5, 4, 2, 6, 7, 3, 8, 0,\n",
       "       2, 4, 5, 8, 1, 8, 6, 8, 5, 9, 2, 3, 3, 1, 0, 9, 5, 5, 5, 6, 8, 3,\n",
       "       9, 0, 7, 6, 2, 9, 5, 7, 5, 8, 4, 6, 7, 1, 3, 9, 8, 8, 7, 1, 2, 3,\n",
       "       5, 8, 5, 2, 4, 5, 5, 1, 8, 8, 0, 4])"
      ]
     },
     "execution_count": 144,
     "metadata": {},
     "output_type": "execute_result"
    }
   ],
   "source": [
    "#[random.randint(-8,9) for _ in range(100)]\n",
    "rng = np.random.default_rng()\n",
    "rng.integers(10,size=100)"
   ]
  },
  {
   "cell_type": "code",
   "execution_count": 195,
   "id": "8a54dc6b",
   "metadata": {},
   "outputs": [
    {
     "name": "stdout",
     "output_type": "stream",
     "text": [
      "[array([2, 1, 0])]\n",
      "[[2 1 0]\n",
      " [2 1 1]]\n"
     ]
    }
   ],
   "source": [
    "mat = np.reshape([random.randint(0,10) for _ in range(9)], [3,3])\n",
    "mi = [np.argmin(mat,0)]\n",
    "mj = [np.argmin(mat,1)]\n",
    "print(mi)\n",
    "#print(mat,mi, mj)\n",
    "indx1 = np.concatenate((mi,mj),axis=0)\n",
    "indx2 = np.concatenate((mi,mj))\n",
    "\n",
    "print(indx1)"
   ]
  },
  {
   "cell_type": "code",
   "execution_count": 181,
   "id": "fd6f8abe",
   "metadata": {},
   "outputs": [
    {
     "data": {
      "text/plain": [
       "[[13, 14, 9], [11, 5, 5], [14, 15, 6]]"
      ]
     },
     "execution_count": 181,
     "metadata": {},
     "output_type": "execute_result"
    }
   ],
   "source": [
    "[[element+5 for element in row] for row in mat] # add 5 to each element. LC works from out to in"
   ]
  },
  {
   "cell_type": "code",
   "execution_count": 198,
   "id": "bb2647da",
   "metadata": {},
   "outputs": [
    {
     "data": {
      "text/plain": [
       "array([[[0., 0., 0.],\n",
       "        [0., 0., 0.]],\n",
       "\n",
       "       [[0., 0., 0.],\n",
       "        [0., 0., 0.]]])"
      ]
     },
     "execution_count": 198,
     "metadata": {},
     "output_type": "execute_result"
    }
   ],
   "source": [
    "#peculiarities\n",
    "\n",
    "np.zeros([2,2,3]) # --> dimension order Z, Row, Column, note the [ ]\n",
    "\n",
    "\n",
    "\n"
   ]
  },
  {
   "cell_type": "code",
   "execution_count": 205,
   "id": "8deee704",
   "metadata": {},
   "outputs": [
    {
     "name": "stdout",
     "output_type": "stream",
     "text": [
      "[0 1 2]\n",
      "[[0]\n",
      " [1]\n",
      " [2]]\n"
     ]
    }
   ],
   "source": [
    "y = np.array([0,1,2])\n",
    "print(y)\n",
    "z = y[:,np.newaxis]\n",
    "print(z)"
   ]
  },
  {
   "cell_type": "code",
   "execution_count": 213,
   "id": "ce3b3623",
   "metadata": {},
   "outputs": [
    {
     "name": "stdout",
     "output_type": "stream",
     "text": [
      "[[0.16400754 0.29344592 0.07795663]\n",
      " [0.70173349 0.83894703 0.41228181]\n",
      " [0.28720357 0.51345535 0.31487339]]\n",
      "[[0.14214178 0.35041969 0.12311533]\n",
      " [0.40202089 0.48213187 0.34266603]\n",
      " [0.61545226 0.79217752 0.69355431]]\n",
      "[[0.1 0.4 0.1]\n",
      " [0.4 0.5 0.3]\n",
      " [0.6 0.8 0.7]]\n"
     ]
    }
   ],
   "source": [
    "# matrix multiplication\n",
    "a = np.random.rand(3,3)\n",
    "b = np.random.rand(3,3)\n",
    "\n",
    "c = np.dot(a,b)\n",
    "print(c)\n",
    "\n",
    "d = np.dot(b,a)\n",
    "print(d)\n",
    "\n",
    "\n",
    "e = np.round_(d,1)\n",
    "print(e)"
   ]
  },
  {
   "cell_type": "code",
   "execution_count": 230,
   "id": "a4b5317b",
   "metadata": {},
   "outputs": [
    {
     "name": "stdout",
     "output_type": "stream",
     "text": [
      "[[False False False]\n",
      " [False False False]\n",
      " [False False False]]\n",
      "[[ True  True  True]\n",
      " [ True False  True]\n",
      " [ True  True  True]]\n",
      "[[ True  True  True]\n",
      " [ True  True  True]\n",
      " [ True  True  True]]\n"
     ]
    }
   ],
   "source": [
    "# np logical operations \n",
    "\n",
    "a = np.reshape([random.randint(0,9) for _ in range(9)],[3,3])\n",
    "b = np.reshape([random.randint(0,9) for _ in range(9)],[3,3])\n",
    "\n",
    "print(np.logical_not(a)) # check for zeros \n",
    "print(np.logical_and(a,b)) # check for zeros at some indices in two matrices\n",
    "print(np.logical_or(a,b)) # check for zeros at some indices in either matrix"
   ]
  },
  {
   "cell_type": "code",
   "execution_count": 247,
   "id": "ab34421e",
   "metadata": {},
   "outputs": [
    {
     "name": "stdout",
     "output_type": "stream",
     "text": [
      "[[2 6 5 0 1 6 1 9 3 6]\n",
      " [2 1 9 0 2 1 6 3 6 0]\n",
      " [4 4 7 0 5 4 9 4 3 7]\n",
      " [6 4 0 3 9 4 1 4 9 1]\n",
      " [7 8 3 2 4 9 2 0 5 8]\n",
      " [8 9 6 7 2 2 7 3 0 6]\n",
      " [4 5 5 4 0 0 5 8 5 2]\n",
      " [8 8 0 6 7 3 3 7 7 4]\n",
      " [5 7 0 2 9 4 0 2 2 0]\n",
      " [2 0 8 0 6 5 1 2 3 2]]\n",
      "[[0 3]\n",
      " [1 3]\n",
      " [1 9]\n",
      " [2 3]\n",
      " [3 2]\n",
      " [4 7]\n",
      " [5 8]\n",
      " [6 4]\n",
      " [6 5]\n",
      " [7 2]\n",
      " [8 2]\n",
      " [8 6]\n",
      " [8 9]\n",
      " [9 1]\n",
      " [9 3]]\n",
      "(array([0, 1, 1, 2, 3, 4, 5, 6, 6, 7, 8, 8, 8, 9, 9]), array([3, 3, 9, 3, 2, 7, 8, 4, 5, 2, 2, 6, 9, 1, 3]))\n",
      "[0 0 0 0 0 0 0 0 0 0 0 0 0 0 0]\n",
      "[[[2 6 5 0 1 6 1 9 3 6]\n",
      "  [6 4 0 3 9 4 1 4 9 1]]\n",
      "\n",
      " [[2 1 9 0 2 1 6 3 6 0]\n",
      "  [6 4 0 3 9 4 1 4 9 1]]\n",
      "\n",
      " [[2 1 9 0 2 1 6 3 6 0]\n",
      "  [2 0 8 0 6 5 1 2 3 2]]\n",
      "\n",
      " [[4 4 7 0 5 4 9 4 3 7]\n",
      "  [6 4 0 3 9 4 1 4 9 1]]\n",
      "\n",
      " [[6 4 0 3 9 4 1 4 9 1]\n",
      "  [4 4 7 0 5 4 9 4 3 7]]\n",
      "\n",
      " [[7 8 3 2 4 9 2 0 5 8]\n",
      "  [8 8 0 6 7 3 3 7 7 4]]\n",
      "\n",
      " [[8 9 6 7 2 2 7 3 0 6]\n",
      "  [5 7 0 2 9 4 0 2 2 0]]\n",
      "\n",
      " [[4 5 5 4 0 0 5 8 5 2]\n",
      "  [7 8 3 2 4 9 2 0 5 8]]\n",
      "\n",
      " [[4 5 5 4 0 0 5 8 5 2]\n",
      "  [8 9 6 7 2 2 7 3 0 6]]\n",
      "\n",
      " [[8 8 0 6 7 3 3 7 7 4]\n",
      "  [4 4 7 0 5 4 9 4 3 7]]\n",
      "\n",
      " [[5 7 0 2 9 4 0 2 2 0]\n",
      "  [4 4 7 0 5 4 9 4 3 7]]\n",
      "\n",
      " [[5 7 0 2 9 4 0 2 2 0]\n",
      "  [4 5 5 4 0 0 5 8 5 2]]\n",
      "\n",
      " [[5 7 0 2 9 4 0 2 2 0]\n",
      "  [2 0 8 0 6 5 1 2 3 2]]\n",
      "\n",
      " [[2 0 8 0 6 5 1 2 3 2]\n",
      "  [2 1 9 0 2 1 6 3 6 0]]\n",
      "\n",
      " [[2 0 8 0 6 5 1 2 3 2]\n",
      "  [6 4 0 3 9 4 1 4 9 1]]]\n"
     ]
    }
   ],
   "source": [
    "# find zero indices \n",
    "a = np.reshape([random.randint(0,9) for _ in range(100)],[10,10])\n",
    "print(a)\n",
    "print(np.argwhere(a==0)) # find indices, OUTPUT: one row is one element\n",
    "print(np.nonzero(a==0)) # find indices, OUTPUT: two vectors with R and C indices\n",
    "\n",
    "# IMPORTANT: indexing with the output of found non-zero elements only works with np.nonzero\n",
    "\n",
    "print(a[np.nonzero(a==0)])\n",
    "print(a[np.argwhere(a==0)])\n"
   ]
  },
  {
   "cell_type": "code",
   "execution_count": 251,
   "id": "4674ef16",
   "metadata": {},
   "outputs": [
    {
     "name": "stdout",
     "output_type": "stream",
     "text": [
      "[[2 8 7]\n",
      " [6 3 9]\n",
      " [2 9 6]] [2 8 7 6 3 9 2 9 6]\n",
      "[[2 8 7]\n",
      " [6 3 9]\n",
      " [2 9 6]] [2 8 7 6 3 9 2 9 6]\n",
      "[[2 8 7]\n",
      " [6 3 9]\n",
      " [2 9 6]] [2 6 2 8 3 9 7 9 6]\n",
      "[[2 8 7]\n",
      " [6 3 9]\n",
      " [2 9 6]] [2 6 2 8 3 9 7 9 6]\n"
     ]
    }
   ],
   "source": [
    "# simple matrix manipulations\n",
    "a = np.reshape([random.randint(0,9) for _ in range(9)],[3,3])\n",
    "print(a, a.ravel()) # --> columns stay in order \n",
    "print(a, a.flatten()) # --> columns stay in order \n",
    "print(a, a.ravel('F')) # --> rows stay in order \n",
    "print(a, a.flatten('F')) # --> rows stay in order "
   ]
  },
  {
   "cell_type": "code",
   "execution_count": 260,
   "id": "af819739",
   "metadata": {},
   "outputs": [
    {
     "data": {
      "text/plain": [
       "9"
      ]
     },
     "execution_count": 260,
     "metadata": {},
     "output_type": "execute_result"
    }
   ],
   "source": [
    "np.prod(a.shape) # total number of elements"
   ]
  },
  {
   "cell_type": "code",
   "execution_count": 278,
   "id": "eaedb2c5",
   "metadata": {},
   "outputs": [
    {
     "name": "stdout",
     "output_type": "stream",
     "text": [
      "[[ 1  2  3  4  5  6  7  8  9 10 11 12 13 14 15]\n",
      " [ 1  2  3  4  5  6  7  8  9 10 11 12 13 14 15]]\n"
     ]
    },
    {
     "data": {
      "text/plain": [
       "array([ 2,  4,  6,  8, 10, 12, 14])"
      ]
     },
     "execution_count": 278,
     "metadata": {},
     "output_type": "execute_result"
    }
   ],
   "source": [
    "l = np.array([[1,2,3,4,5,6,7,8,9,10,11,12,13,14,15],[1,2,3,4,5,6,7,8,9,10,11,12,13,14,15]])\n",
    "print(l)\n",
    "l[1,1::2]"
   ]
  },
  {
   "cell_type": "code",
   "execution_count": 279,
   "id": "eafca406",
   "metadata": {},
   "outputs": [
    {
     "data": {
      "text/plain": [
       "(array([[1],\n",
       "        [2],\n",
       "        [8]]),\n",
       " array([[3, 4, 7]]))"
      ]
     },
     "execution_count": 279,
     "metadata": {},
     "output_type": "execute_result"
    }
   ],
   "source": [
    "np.ix_([1,2,8],[3,4,7])"
   ]
  },
  {
   "cell_type": "code",
   "execution_count": 282,
   "id": "f7cf6bbe",
   "metadata": {},
   "outputs": [
    {
     "name": "stdout",
     "output_type": "stream",
     "text": [
      "[[0.97619941 0.11784414 0.55504306 0.17173485]\n",
      " [0.25363627 0.75326627 0.16160628 0.16794174]\n",
      " [0.90742817 0.08358168 0.36145335 0.89526553]\n",
      " [0.02001322 0.7326905  0.34029128 0.60945063]]\n"
     ]
    },
    {
     "data": {
      "text/plain": [
       "array([0.75326627, 0.36145335, 0.16160628, 0.08358168])"
      ]
     },
     "execution_count": 282,
     "metadata": {},
     "output_type": "execute_result"
    }
   ],
   "source": [
    "t = np.random.rand(4,4)\n",
    "print(t)\n",
    "t[[1,2,1,2],[1,2,2,1]]"
   ]
  },
  {
   "cell_type": "code",
   "execution_count": 288,
   "id": "f1caace1",
   "metadata": {},
   "outputs": [
    {
     "data": {
      "text/plain": [
       "[[1, 3, 5, 7], [2, 4, 6, 8]]"
      ]
     },
     "execution_count": 288,
     "metadata": {},
     "output_type": "execute_result"
    }
   ],
   "source": [
    "# flip dimensions of list of lists\n",
    "u = [[1,2],[3,4],[5,6],[7,8]]\n",
    "[[row[i] for row in u] for i in range(len(u[0]))]"
   ]
  },
  {
   "cell_type": "code",
   "execution_count": 298,
   "id": "98b5360a",
   "metadata": {},
   "outputs": [
    {
     "data": {
      "text/plain": [
       "array([[0, 0, 0, 1, 1, 1, 2, 2, 2, 3, 3, 3],\n",
       "       [0, 1, 2, 0, 1, 2, 0, 1, 2, 0, 1, 2]])"
      ]
     },
     "execution_count": 298,
     "metadata": {},
     "output_type": "execute_result"
    }
   ],
   "source": [
    "np.concatenate(([np.mgrid[0:4,0:3][0].flatten()], [np.mgrid[0:4,0:3][1].flatten()]),axis=0)"
   ]
  },
  {
   "cell_type": "code",
   "execution_count": null,
   "id": "7e2a6669",
   "metadata": {},
   "outputs": [],
   "source": []
  }
 ],
 "metadata": {
  "kernelspec": {
   "display_name": "Python 3 (ipykernel)",
   "language": "python",
   "name": "python3"
  },
  "language_info": {
   "codemirror_mode": {
    "name": "ipython",
    "version": 3
   },
   "file_extension": ".py",
   "mimetype": "text/x-python",
   "name": "python",
   "nbconvert_exporter": "python",
   "pygments_lexer": "ipython3",
   "version": "3.9.7"
  }
 },
 "nbformat": 4,
 "nbformat_minor": 5
}
