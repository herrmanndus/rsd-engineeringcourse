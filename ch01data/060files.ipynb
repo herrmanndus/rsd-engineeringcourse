{
 "cells": [
  {
   "cell_type": "markdown",
   "metadata": {
    "collapsed": true
   },
   "source": [
    "# Working with Data"
   ]
  },
  {
   "cell_type": "markdown",
   "metadata": {},
   "source": [
    "## Loading data from files"
   ]
  },
  {
   "cell_type": "markdown",
   "metadata": {},
   "source": [
    "### Loading data"
   ]
  },
  {
   "cell_type": "markdown",
   "metadata": {},
   "source": [
    "An important part of this course is about using Python to analyse and visualise data.\n",
    "Most data, of course, is supplied to us in various *formats*: spreadsheets, database dumps, or text files in various formats (csv, tsv, json, yaml, hdf5, netcdf)\n",
    "It is also stored in some *medium*: on a local disk, a network drive, or on the internet in various ways.\n",
    "It is important to distinguish the data format, how the data is structured into a file, from the data's storage, where it is put. \n",
    "\n",
    "We'll look first at the question of data *transport*: loading data from a disk, and at downloading data from the internet.\n",
    "Then we'll look at data *parsing*: building Python structures from the data.\n",
    "These are related, but separate questions."
   ]
  },
  {
   "cell_type": "markdown",
   "metadata": {},
   "source": [
    "### An example datafile"
   ]
  },
  {
   "cell_type": "markdown",
   "metadata": {},
   "source": [
    "Let's write an example datafile to disk so we can investigate it. We'll just use a plain-text file. IPython notebook provides a way to do this: if we put\n",
    "`%%writefile` at the top of a cell, instead of being interpreted as python, the cell contents are saved to disk."
   ]
  },
  {
   "cell_type": "code",
   "execution_count": 3,
   "metadata": {},
   "outputs": [
    {
     "name": "stdout",
     "output_type": "stream",
     "text": [
      "Overwriting mydata.txt\n"
     ]
    }
   ],
   "source": [
    "%%writefile mydata.txt # this cell will be interpreted as text, not as code. so not actually run!\n",
    "A poet once said, 'The whole universe is in a glass of wine.'\n",
    "We will probably never know in what sense he meant it, \n",
    "for poets do not write to be understood. \n",
    "But it is true that if we look at a glass of wine closely enough we see the entire universe. \n",
    "There are the things of physics: the twisting liquid which evaporates depending\n",
    "on the wind and weather, the reflection in the glass;\n",
    "and our imagination adds atoms.\n",
    "The glass is a distillation of the earth's rocks,\n",
    "and in its composition we see the secrets of the universe's age, and the evolution of stars. \n",
    "What strange array of chemicals are in the wine? How did they come to be? \n",
    "There are the ferments, the enzymes, the substrates, and the products.\n",
    "There in wine is found the great generalization; all life is fermentation.\n",
    "Nobody can discover the chemistry of wine without discovering, \n",
    "as did Louis Pasteur, the cause of much disease.\n",
    "How vivid is the claret, pressing its existence into the consciousness that watches it!\n",
    "If our small minds, for some convenience, divide this glass of wine, this universe, \n",
    "into parts -- \n",
    "physics, biology, geology, astronomy, psychology, and so on -- \n",
    "remember that nature does not know it!\n",
    "\n",
    "So let us put it all back together, not forgetting ultimately what it is for.\n",
    "Let it give us one more final pleasure; drink it and forget it all!\n",
    "   - Richard Feynman"
   ]
  },
  {
   "cell_type": "markdown",
   "metadata": {},
   "source": [
    "Where did that go? It went to the current folder, which for a notebook, by default, is where the notebook is on disk."
   ]
  },
  {
   "cell_type": "code",
   "execution_count": 4,
   "metadata": {},
   "outputs": [
    {
     "data": {
      "text/plain": [
       "'C:\\\\Users\\\\Dustin\\\\Documents\\\\GitHub\\\\rsd-engineeringcourse\\\\ch01data'"
      ]
     },
     "execution_count": 4,
     "metadata": {},
     "output_type": "execute_result"
    }
   ],
   "source": [
    "import os # The 'os' module gives us all the tools we need to search in the file system\n",
    "os.getcwd() # Use the 'getcwd' function from the 'os' module to find where we are on disk."
   ]
  },
  {
   "cell_type": "markdown",
   "metadata": {},
   "source": [
    "Can we see if it is there?"
   ]
  },
  {
   "cell_type": "code",
   "execution_count": 5,
   "metadata": {},
   "outputs": [
    {
     "data": {
      "text/plain": [
       "['mydata.txt']"
      ]
     },
     "execution_count": 5,
     "metadata": {},
     "output_type": "execute_result"
    }
   ],
   "source": [
    "import os\n",
    "[x for x in os.listdir(os.getcwd()) if \".txt\" in x] #os.listdir shows all files, here: use list comprehension to filter the files based on containing a .txt ending"
   ]
  },
  {
   "cell_type": "code",
   "execution_count": 89,
   "metadata": {},
   "outputs": [
    {
     "data": {
      "text/plain": [
       "['.ipynb_checkpoints',\n",
       " '060files.ipynb',\n",
       " '061internet.ipynb',\n",
       " '062csv.ipynb',\n",
       " '064JsonYamlXML.ipynb',\n",
       " '065MazeSaved.ipynb',\n",
       " '066QuakeExercise.ipynb',\n",
       " '068QuakesSolution.ipynb',\n",
       " '072plotting.ipynb',\n",
       " '082NumPy.ipynb',\n",
       " '084Boids.ipynb',\n",
       " '110Capstone.ipynb',\n",
       " 'index.md',\n",
       " 'mydata.txt',\n",
       " 'myfile2',\n",
       " 'myfile3',\n",
       " 'some_str2']"
      ]
     },
     "execution_count": 89,
     "metadata": {},
     "output_type": "execute_result"
    }
   ],
   "source": [
    "os.listdir()"
   ]
  },
  {
   "cell_type": "markdown",
   "metadata": {},
   "source": [
    "Yep! Note how we used a list comprehension to filter all the extraneous files."
   ]
  },
  {
   "cell_type": "markdown",
   "metadata": {},
   "source": [
    "### Path independence and `os`"
   ]
  },
  {
   "cell_type": "markdown",
   "metadata": {},
   "source": [
    "We can use `dirname` to get the parent folder for a folder, in a platform independent-way."
   ]
  },
  {
   "cell_type": "code",
   "execution_count": 18,
   "metadata": {},
   "outputs": [
    {
     "name": "stdout",
     "output_type": "stream",
     "text": [
      "C:\\Users\\Dustin\\Documents\\GitHub\\rsd-engineeringcourse\\ch01data\n"
     ]
    }
   ],
   "source": [
    "these=os.getcwd().split(\"/\")\n",
    "print(these[1:-1]) # --> see below. this is possible but not recommended bc windows and mac operate differently"
   ]
  },
  {
   "cell_type": "code",
   "execution_count": 20,
   "metadata": {},
   "outputs": [
    {
     "data": {
      "text/plain": [
       "'C:\\\\Users\\\\Dustin\\\\Documents\\\\GitHub\\\\rsd-engineeringcourse'"
      ]
     },
     "execution_count": 20,
     "metadata": {},
     "output_type": "execute_result"
    }
   ],
   "source": [
    "os.path.dirname(os.getcwd())"
   ]
  },
  {
   "cell_type": "markdown",
   "metadata": {},
   "source": [
    "We could do this manually using `split`:"
   ]
  },
  {
   "cell_type": "code",
   "execution_count": 21,
   "metadata": {},
   "outputs": [
    {
     "data": {
      "text/plain": [
       "'C:/Users/Dustin/Documents/GitHub/rsd-engineeringcourse'"
      ]
     },
     "execution_count": 21,
     "metadata": {},
     "output_type": "execute_result"
    }
   ],
   "source": [
    "\"/\".join(os.getcwd().split(\"/\")[:-1])"
   ]
  },
  {
   "cell_type": "code",
   "execution_count": 33,
   "metadata": {},
   "outputs": [
    {
     "name": "stdout",
     "output_type": "stream",
     "text": [
      "['C:', 'Users', 'Dustin', 'Documents', 'GitHub', 'rsd-engineeringcourse', 'ch01data']\n",
      "['ch01data', 'rsd-engineeringcourse', 'GitHub', 'Documents', 'Dustin', 'Users', 'C:']\n"
     ]
    }
   ],
   "source": [
    "this = os.getcwd().split(\"\\\\\")\n",
    "print(this)\n",
    "print(this[-1::-1]) # invert"
   ]
  },
  {
   "cell_type": "markdown",
   "metadata": {},
   "source": [
    "But this would not work on windows, where path elements are separated with a `\\` instead of a `/`. So it's important \n",
    "to use `os.path` for this stuff."
   ]
  },
  {
   "cell_type": "markdown",
   "metadata": {},
   "source": [
    "**Supplementary Materials**: If you're not already comfortable with how files fit into folders, and folders form a tree,\n",
    "    with folders containing subfolders, then look at http://swcarpentry.github.io/shell-novice/02-filedir/index.html. \n",
    "\n",
    "Satisfy yourself that after using `%%writedir`, you can then find the file on disk with Windows Explorer, OSX Finder, or the Linux Shell."
   ]
  },
  {
   "cell_type": "markdown",
   "metadata": {},
   "source": [
    "We can see how in Python we can investigate the file system with functions in the `os` module, using just the same programming approaches as for anything else."
   ]
  },
  {
   "cell_type": "markdown",
   "metadata": {},
   "source": [
    "We'll gradually learn more features of the `os` module as we go, allowing us to move around the disk, `walk` around the\n",
    "disk looking for relevant files, and so on. These will be important to master for automating our data analyses."
   ]
  },
  {
   "cell_type": "markdown",
   "metadata": {},
   "source": [
    "### The python `file` type"
   ]
  },
  {
   "cell_type": "markdown",
   "metadata": {},
   "source": [
    "So, let's read our file:"
   ]
  },
  {
   "cell_type": "code",
   "execution_count": 16,
   "metadata": {},
   "outputs": [],
   "source": [
    "myfile=open('mydata.txt')"
   ]
  },
  {
   "cell_type": "code",
   "execution_count": 53,
   "metadata": {},
   "outputs": [
    {
     "ename": "SyntaxError",
     "evalue": "invalid non-printable character U+00A0 (2894356459.py, line 1)",
     "output_type": "error",
     "traceback": [
      "\u001b[0;36m  File \u001b[0;32m\"/var/folders/47/hbndf6xs6slbl_yz01qkqvmm0000gn/T/ipykernel_6507/2894356459.py\"\u001b[0;36m, line \u001b[0;32m1\u001b[0m\n\u001b[0;31m    with open('mydata.txt') as myfile: #inserted DH --> see below, this allows you to open a file and after that code block it is automatically closed\u001b[0m\n\u001b[0m                                      ^\u001b[0m\n\u001b[0;31mSyntaxError\u001b[0m\u001b[0;31m:\u001b[0m invalid non-printable character U+00A0\n"
     ]
    }
   ],
   "source": [
    "with open('mydata.txt') as myfile: #inserted DH --> see below, this allows you to open a file and after that code block it is automatically closed\n",
    "    t=myfile.read()\n",
    "\n",
    "print(t)"
   ]
  },
  {
   "cell_type": "code",
   "execution_count": 17,
   "metadata": {},
   "outputs": [
    {
     "data": {
      "text/plain": [
       "_io.TextIOWrapper"
      ]
     },
     "execution_count": 17,
     "metadata": {},
     "output_type": "execute_result"
    }
   ],
   "source": [
    "type(myfile)"
   ]
  },
  {
   "cell_type": "markdown",
   "metadata": {},
   "source": [
    "We can go line-by-line, by treating the file as an iterable:"
   ]
  },
  {
   "cell_type": "code",
   "execution_count": 18,
   "metadata": {},
   "outputs": [
    {
     "data": {
      "text/plain": [
       "[\"A poet once said, 'The whole universe is in a glass of wine.'\\n\",\n",
       " 'We will probably never know in what sense he meant it, \\n',\n",
       " 'for poets do not write to be understood. \\n',\n",
       " 'But it is true that if we look at a glass of wine closely enough we see the entire universe. \\n',\n",
       " 'There are the things of physics: the twisting liquid which evaporates depending\\n',\n",
       " 'on the wind and weather, the reflection in the glass;\\n',\n",
       " 'and our imagination adds atoms.\\n',\n",
       " \"The glass is a distillation of the earth's rocks,\\n\",\n",
       " \"and in its composition we see the secrets of the universe's age, and the evolution of stars. \\n\",\n",
       " 'What strange array of chemicals are in the wine? How did they come to be? \\n',\n",
       " 'There are the ferments, the enzymes, the substrates, and the products.\\n',\n",
       " 'There in wine is found the great generalization; all life is fermentation.\\n',\n",
       " 'Nobody can discover the chemistry of wine without discovering, \\n',\n",
       " 'as did Louis Pasteur, the cause of much disease.\\n',\n",
       " 'How vivid is the claret, pressing its existence into the consciousness that watches it!\\n',\n",
       " 'If our small minds, for some convenience, divide this glass of wine, this universe, \\n',\n",
       " 'into parts -- \\n',\n",
       " 'physics, biology, geology, astronomy, psychology, and so on -- \\n',\n",
       " 'remember that nature does not know it!\\n',\n",
       " '\\n',\n",
       " 'So let us put it all back together, not forgetting ultimately what it is for.\\n',\n",
       " 'Let it give us one more final pleasure; drink it and forget it all!\\n',\n",
       " '   - Richard Feynman\\n']"
      ]
     },
     "execution_count": 18,
     "metadata": {},
     "output_type": "execute_result"
    }
   ],
   "source": [
    "[x for x in myfile]"
   ]
  },
  {
   "cell_type": "markdown",
   "metadata": {},
   "source": [
    "If we do that again, the file has already finished, there is no more data."
   ]
  },
  {
   "cell_type": "code",
   "execution_count": 19,
   "metadata": {},
   "outputs": [
    {
     "data": {
      "text/plain": [
       "[]"
      ]
     },
     "execution_count": 19,
     "metadata": {},
     "output_type": "execute_result"
    }
   ],
   "source": [
    "[x for x in myfile]"
   ]
  },
  {
   "cell_type": "markdown",
   "metadata": {},
   "source": [
    "We need to 'rewind' it!"
   ]
  },
  {
   "cell_type": "code",
   "execution_count": 20,
   "metadata": {},
   "outputs": [
    {
     "data": {
      "text/plain": [
       "[56, 39]"
      ]
     },
     "execution_count": 20,
     "metadata": {},
     "output_type": "execute_result"
    }
   ],
   "source": [
    "myfile.seek(0)\n",
    "[len(x) for x in myfile if 'know' in x]"
   ]
  },
  {
   "cell_type": "code",
   "execution_count": 96,
   "metadata": {},
   "outputs": [
    {
     "ename": "ValueError",
     "evalue": "I/O operation on closed file.",
     "output_type": "error",
     "traceback": [
      "\u001b[0;31m---------------------------------------------------------------------------\u001b[0m",
      "\u001b[0;31mValueError\u001b[0m                                Traceback (most recent call last)",
      "\u001b[0;32m/var/folders/47/hbndf6xs6slbl_yz01qkqvmm0000gn/T/ipykernel_6507/934836840.py\u001b[0m in \u001b[0;36m<module>\u001b[0;34m\u001b[0m\n\u001b[0;32m----> 1\u001b[0;31m \u001b[0mnew\u001b[0m \u001b[0;34m=\u001b[0m \u001b[0;34m[\u001b[0m\u001b[0mx\u001b[0m \u001b[0;32mfor\u001b[0m \u001b[0mx\u001b[0m \u001b[0;32min\u001b[0m \u001b[0mmyfile\u001b[0m\u001b[0;34m]\u001b[0m\u001b[0;34m\u001b[0m\u001b[0;34m\u001b[0m\u001b[0m\n\u001b[0m\u001b[1;32m      2\u001b[0m \u001b[0mprint\u001b[0m\u001b[0;34m(\u001b[0m\u001b[0mnew\u001b[0m\u001b[0;34m)\u001b[0m\u001b[0;34m\u001b[0m\u001b[0;34m\u001b[0m\u001b[0m\n\u001b[1;32m      3\u001b[0m \u001b[0;34m\u001b[0m\u001b[0m\n\u001b[1;32m      4\u001b[0m \u001b[0mmyfile\u001b[0m\u001b[0;34m.\u001b[0m\u001b[0mseek\u001b[0m\u001b[0;34m(\u001b[0m\u001b[0;36m0\u001b[0m\u001b[0;34m)\u001b[0m\u001b[0;34m\u001b[0m\u001b[0;34m\u001b[0m\u001b[0m\n\u001b[1;32m      5\u001b[0m \u001b[0mnew\u001b[0m \u001b[0;34m=\u001b[0m \u001b[0;34m[\u001b[0m\u001b[0mx\u001b[0m \u001b[0;32mfor\u001b[0m \u001b[0mx\u001b[0m \u001b[0;32min\u001b[0m \u001b[0mmyfile\u001b[0m\u001b[0;34m]\u001b[0m \u001b[0;31m# now i've converted it to a list of str\u001b[0m\u001b[0;34m\u001b[0m\u001b[0;34m\u001b[0m\u001b[0m\n",
      "\u001b[0;31mValueError\u001b[0m: I/O operation on closed file."
     ]
    }
   ],
   "source": [
    "new = [x for x in myfile]\n",
    "print(new)\n",
    "\n",
    "myfile.seek(0)\n",
    "new = [x for x in myfile] # now i've converted it to a list of str \n",
    "#print(new)\n",
    "\n",
    "print(new[0])\n",
    "type(new[0])"
   ]
  },
  {
   "cell_type": "markdown",
   "metadata": {},
   "source": [
    "It's really important to remember that a file is a *different* built in type than a string."
   ]
  },
  {
   "cell_type": "markdown",
   "metadata": {},
   "source": [
    "### Working with files."
   ]
  },
  {
   "cell_type": "markdown",
   "metadata": {},
   "source": [
    "We can read one line at a time with `readline`: "
   ]
  },
  {
   "cell_type": "code",
   "execution_count": 28,
   "metadata": {},
   "outputs": [],
   "source": [
    "myfile.seek(0)\n",
    "first = myfile.readline() # acesses and then deletes the first line of myfile"
   ]
  },
  {
   "cell_type": "code",
   "execution_count": 29,
   "metadata": {},
   "outputs": [
    {
     "data": {
      "text/plain": [
       "\"A poet once said, 'The whole universe is in a glass of wine.'\\n\""
      ]
     },
     "execution_count": 29,
     "metadata": {},
     "output_type": "execute_result"
    }
   ],
   "source": [
    "first"
   ]
  },
  {
   "cell_type": "code",
   "execution_count": 30,
   "metadata": {},
   "outputs": [],
   "source": [
    "second=myfile.readline() # acesses and then deletes the second line of myfile"
   ]
  },
  {
   "cell_type": "code",
   "execution_count": 31,
   "metadata": {},
   "outputs": [
    {
     "data": {
      "text/plain": [
       "'We will probably never know in what sense he meant it, \\n'"
      ]
     },
     "execution_count": 31,
     "metadata": {},
     "output_type": "execute_result"
    }
   ],
   "source": [
    "second"
   ]
  },
  {
   "cell_type": "markdown",
   "metadata": {},
   "source": [
    "We can read the whole remaining file with `read`:"
   ]
  },
  {
   "cell_type": "code",
   "execution_count": 18,
   "metadata": {},
   "outputs": [],
   "source": [
    "rest=myfile.read()"
   ]
  },
  {
   "cell_type": "code",
   "execution_count": 19,
   "metadata": {},
   "outputs": [
    {
     "data": {
      "text/plain": [
       "\"for poets do not write to be understood. \\nBut it is true that if we look at a glass of wine closely enough we see the entire universe. \\nThere are the things of physics: the twisting liquid which evaporates depending\\non the wind and weather, the reflection in the glass;\\nand our imagination adds atoms.\\nThe glass is a distillation of the earth's rocks,\\nand in its composition we see the secrets of the universe's age, and the evolution of stars. \\nWhat strange array of chemicals are in the wine? How did they come to be? \\nThere are the ferments, the enzymes, the substrates, and the products.\\nThere in wine is found the great generalization; all life is fermentation.\\nNobody can discover the chemistry of wine without discovering, \\nas did Louis Pasteur, the cause of much disease.\\nHow vivid is the claret, pressing its existence into the consciousness that watches it!\\nIf our small minds, for some convenience, divide this glass of wine, this universe, \\ninto parts -- \\nphysics, biology, geology, astronomy, psychology, and so on -- \\nremember that nature does not know it!\\n\\nSo let us put it all back together, not forgetting ultimately what it is for.\\nLet it give us one more final pleasure; drink it and forget it all!\\n   - Richard Feynman\""
      ]
     },
     "execution_count": 19,
     "metadata": {},
     "output_type": "execute_result"
    }
   ],
   "source": [
    "rest"
   ]
  },
  {
   "cell_type": "markdown",
   "metadata": {},
   "source": [
    "Which means that when a file is first opened, read is useful to just get the whole thing as a string:"
   ]
  },
  {
   "cell_type": "code",
   "execution_count": 20,
   "metadata": {},
   "outputs": [
    {
     "data": {
      "text/plain": [
       "\"A poet once said, 'The whole universe is in a glass of wine.'\\nWe will probably never know in what sense he meant it, \\nfor poets do not write to be understood. \\nBut it is true that if we look at a glass of wine closely enough we see the entire universe. \\nThere are the things of physics: the twisting liquid which evaporates depending\\non the wind and weather, the reflection in the glass;\\nand our imagination adds atoms.\\nThe glass is a distillation of the earth's rocks,\\nand in its composition we see the secrets of the universe's age, and the evolution of stars. \\nWhat strange array of chemicals are in the wine? How did they come to be? \\nThere are the ferments, the enzymes, the substrates, and the products.\\nThere in wine is found the great generalization; all life is fermentation.\\nNobody can discover the chemistry of wine without discovering, \\nas did Louis Pasteur, the cause of much disease.\\nHow vivid is the claret, pressing its existence into the consciousness that watches it!\\nIf our small minds, for some convenience, divide this glass of wine, this universe, \\ninto parts -- \\nphysics, biology, geology, astronomy, psychology, and so on -- \\nremember that nature does not know it!\\n\\nSo let us put it all back together, not forgetting ultimately what it is for.\\nLet it give us one more final pleasure; drink it and forget it all!\\n   - Richard Feynman\""
      ]
     },
     "execution_count": 20,
     "metadata": {},
     "output_type": "execute_result"
    }
   ],
   "source": [
    "open('mydata.txt').read()"
   ]
  },
  {
   "cell_type": "markdown",
   "metadata": {},
   "source": [
    "You can also read just a few characters:"
   ]
  },
  {
   "cell_type": "code",
   "execution_count": 35,
   "metadata": {},
   "outputs": [
    {
     "data": {
      "text/plain": [
       "1335"
      ]
     },
     "execution_count": 35,
     "metadata": {},
     "output_type": "execute_result"
    }
   ],
   "source": [
    "myfile.seek(1335)"
   ]
  },
  {
   "cell_type": "code",
   "execution_count": 33,
   "metadata": {},
   "outputs": [
    {
     "data": {
      "text/plain": [
       "'\\n   - Richard F'"
      ]
     },
     "execution_count": 33,
     "metadata": {},
     "output_type": "execute_result"
    }
   ],
   "source": [
    "myfile.read(15)"
   ]
  },
  {
   "cell_type": "markdown",
   "metadata": {},
   "source": [
    "### Converting Strings to Files"
   ]
  },
  {
   "cell_type": "markdown",
   "metadata": {},
   "source": [
    "Because files and strings are different types, we CANNOT just treat strings as if they were files:"
   ]
  },
  {
   "cell_type": "code",
   "execution_count": 38,
   "metadata": {},
   "outputs": [],
   "source": [
    "mystring= \"Hello World\\n My name is James\""
   ]
  },
  {
   "cell_type": "code",
   "execution_count": 39,
   "metadata": {},
   "outputs": [
    {
     "data": {
      "text/plain": [
       "'Hello World\\n My name is James'"
      ]
     },
     "execution_count": 39,
     "metadata": {},
     "output_type": "execute_result"
    }
   ],
   "source": [
    "mystring"
   ]
  },
  {
   "cell_type": "code",
   "execution_count": 40,
   "metadata": {},
   "outputs": [
    {
     "ename": "AttributeError",
     "evalue": "'str' object has no attribute 'readline'",
     "output_type": "error",
     "traceback": [
      "\u001b[0;31m---------------------------------------------------------------------------\u001b[0m",
      "\u001b[0;31mAttributeError\u001b[0m                            Traceback (most recent call last)",
      "\u001b[0;32m/var/folders/47/hbndf6xs6slbl_yz01qkqvmm0000gn/T/ipykernel_6507/3136785225.py\u001b[0m in \u001b[0;36m<module>\u001b[0;34m\u001b[0m\n\u001b[0;32m----> 1\u001b[0;31m \u001b[0mmystring\u001b[0m\u001b[0;34m.\u001b[0m\u001b[0mreadline\u001b[0m\u001b[0;34m(\u001b[0m\u001b[0;34m)\u001b[0m\u001b[0;34m\u001b[0m\u001b[0;34m\u001b[0m\u001b[0m\n\u001b[0m",
      "\u001b[0;31mAttributeError\u001b[0m: 'str' object has no attribute 'readline'"
     ]
    }
   ],
   "source": [
    "mystring.readline()"
   ]
  },
  {
   "cell_type": "markdown",
   "metadata": {},
   "source": [
    "This is important, because some file format parsers expect input from a **file** and not a string. \n",
    "We can convert between them using the StringIO module in the standard library:"
   ]
  },
  {
   "cell_type": "code",
   "execution_count": 91,
   "metadata": {},
   "outputs": [],
   "source": [
    "from io import StringIO"
   ]
  },
  {
   "cell_type": "code",
   "execution_count": 92,
   "metadata": {},
   "outputs": [],
   "source": [
    "mystringasafile=StringIO(mystring)"
   ]
  },
  {
   "cell_type": "code",
   "execution_count": 93,
   "metadata": {},
   "outputs": [
    {
     "data": {
      "text/plain": [
       "'Hello World\\n'"
      ]
     },
     "execution_count": 93,
     "metadata": {},
     "output_type": "execute_result"
    }
   ],
   "source": [
    "mystringasafile.readline()"
   ]
  },
  {
   "cell_type": "code",
   "execution_count": 94,
   "metadata": {},
   "outputs": [
    {
     "data": {
      "text/plain": [
       "' My name is James'"
      ]
     },
     "execution_count": 94,
     "metadata": {},
     "output_type": "execute_result"
    }
   ],
   "source": [
    "mystringasafile.readline()"
   ]
  },
  {
   "cell_type": "code",
   "execution_count": 95,
   "metadata": {},
   "outputs": [
    {
     "data": {
      "text/plain": [
       "str"
      ]
     },
     "execution_count": 95,
     "metadata": {},
     "output_type": "execute_result"
    }
   ],
   "source": [
    "type(mystringasafile.readline())"
   ]
  },
  {
   "cell_type": "markdown",
   "metadata": {},
   "source": [
    "Note that in a string, `\\n` is used to represent a newline."
   ]
  },
  {
   "cell_type": "markdown",
   "metadata": {},
   "source": [
    "### Closing files"
   ]
  },
  {
   "cell_type": "markdown",
   "metadata": {},
   "source": [
    "We really ought to close files when we've finished with them, as it makes the computer more efficient. (On a shared computer,\n",
    "this is particularly important)"
   ]
  },
  {
   "cell_type": "code",
   "execution_count": 45,
   "metadata": {},
   "outputs": [],
   "source": [
    "myfile.close()"
   ]
  },
  {
   "cell_type": "markdown",
   "metadata": {},
   "source": [
    "Because it's so easy to forget this, python provides a **context manager** to open a file, then close it automatically at\n",
    "the end of an indented block:"
   ]
  },
  {
   "cell_type": "code",
   "execution_count": 49,
   "metadata": {},
   "outputs": [
    {
     "data": {
      "text/plain": [
       "\"A poet once said, 'The whole universe is in a glass of wine.'\\nWe will probably never know in what sense he meant it, \\nfor poets do not write to be understood. \\nBut it is true that if we look at a glass of wine closely enough we see the entire universe. \\nThere are the things of physics: the twisting liquid which evaporates depending\\non the wind and weather, the reflection in the glass;\\nand our imagination adds atoms.\\nThe glass is a distillation of the earth's rocks,\\nand in its composition we see the secrets of the universe's age, and the evolution of stars. \\nWhat strange array of chemicals are in the wine? How did they come to be? \\nThere are the ferments, the enzymes, the substrates, and the products.\\nThere in wine is found the great generalization; all life is fermentation.\\nNobody can discover the chemistry of wine without discovering, \\nas did Louis Pasteur, the cause of much disease.\\nHow vivid is the claret, pressing its existence into the consciousness that watches it!\\nIf our small minds, for some convenience, divide this glass of wine, this universe, \\ninto parts -- \\nphysics, biology, geology, astronomy, psychology, and so on -- \\nremember that nature does not know it!\\n\\nSo let us put it all back together, not forgetting ultimately what it is for.\\nLet it give us one more final pleasure; drink it and forget it all!\\n   - Richard Feynman\""
      ]
     },
     "execution_count": 49,
     "metadata": {},
     "output_type": "execute_result"
    }
   ],
   "source": [
    "with open('mydata.txt') as somefile:\n",
    "    content = somefile.read()\n",
    "\n",
    "content"
   ]
  },
  {
   "cell_type": "markdown",
   "metadata": {},
   "source": [
    "The code to be done while the file is open is indented, just like for an `if` statement."
   ]
  },
  {
   "cell_type": "markdown",
   "metadata": {},
   "source": [
    "You should pretty much **always** use this syntax for working with files."
   ]
  },
  {
   "cell_type": "markdown",
   "metadata": {},
   "source": [
    "### Writing files"
   ]
  },
  {
   "cell_type": "markdown",
   "metadata": {},
   "source": [
    "We might want to create a file from a string in memory. We can't do this with the notebook's `%%writefile` -- this is\n",
    "just a notebook convenience, and isn't very programmable."
   ]
  },
  {
   "cell_type": "markdown",
   "metadata": {},
   "source": [
    "When we open a file, we can specify a 'mode', in this case, 'w' for writing. ('r' for reading is the default.)"
   ]
  },
  {
   "cell_type": "code",
   "execution_count": 59,
   "metadata": {},
   "outputs": [],
   "source": [
    "with open('mywrittenfile', 'w') as target:\n",
    "    target.write('Hello')\n",
    "    target.write('World')"
   ]
  },
  {
   "cell_type": "code",
   "execution_count": 60,
   "metadata": {},
   "outputs": [
    {
     "name": "stdout",
     "output_type": "stream",
     "text": [
      "HelloWorld\n"
     ]
    }
   ],
   "source": [
    "with open('mywrittenfile','r') as source:\n",
    "    print(source.read())"
   ]
  },
  {
   "cell_type": "markdown",
   "metadata": {},
   "source": [
    "And we can \"append\" to a file with mode 'a':"
   ]
  },
  {
   "cell_type": "code",
   "execution_count": 61,
   "metadata": {},
   "outputs": [],
   "source": [
    "with open('mywrittenfile', 'a') as target:\n",
    "    target.write('Hello')\n",
    "    target.write('James')"
   ]
  },
  {
   "cell_type": "code",
   "execution_count": 62,
   "metadata": {},
   "outputs": [
    {
     "name": "stdout",
     "output_type": "stream",
     "text": [
      "HelloWorldHelloJames\n"
     ]
    }
   ],
   "source": [
    "with open('mywrittenfile','r') as source:\n",
    "    print(source.read())"
   ]
  },
  {
   "cell_type": "markdown",
   "metadata": {},
   "source": [
    "If a file already exists, mode 'w' will overwrite it."
   ]
  },
  {
   "cell_type": "code",
   "execution_count": 61,
   "metadata": {},
   "outputs": [],
   "source": [
    "some_str = \"i want to write this as a file\""
   ]
  },
  {
   "cell_type": "code",
   "execution_count": 62,
   "metadata": {},
   "outputs": [
    {
     "data": {
      "text/plain": [
       "str"
      ]
     },
     "execution_count": 62,
     "metadata": {},
     "output_type": "execute_result"
    }
   ],
   "source": [
    "type(some_str)"
   ]
  },
  {
   "cell_type": "code",
   "execution_count": 79,
   "metadata": {},
   "outputs": [],
   "source": [
    "with open('myfile2','w') as fyle: #cool! you 'open' a file as a text file object into which you can write a str\n",
    "          fyle.write(some_str)\n",
    "    "
   ]
  },
  {
   "cell_type": "code",
   "execution_count": 82,
   "metadata": {},
   "outputs": [
    {
     "name": "stdout",
     "output_type": "stream",
     "text": [
      "<class 'str'>\n",
      "<class '_io.StringIO'>\n"
     ]
    },
    {
     "data": {
      "text/plain": [
       "<_io.TextIOWrapper name='some_str2' mode='w' encoding='UTF-8'>"
      ]
     },
     "execution_count": 82,
     "metadata": {},
     "output_type": "execute_result"
    }
   ],
   "source": [
    "some_str2 = \"i also want to write THIS as a file\"\n",
    "print(type(some_str2))\n",
    "\n",
    "some_str2=StringIO(some_str2)\n",
    "print(type(some_str2))\n",
    "\n",
    "open('some_str2','w')\n"
   ]
  },
  {
   "cell_type": "code",
   "execution_count": 85,
   "metadata": {},
   "outputs": [
    {
     "data": {
      "text/plain": [
       "_io.StringIO"
      ]
     },
     "execution_count": 85,
     "metadata": {},
     "output_type": "execute_result"
    }
   ],
   "source": [
    "open('some_str2','r')\n",
    "#unpacked = [x for x in some_str2]\n",
    "#print(unpacked)\n",
    "#unpacked.seek(0)\n",
    "\n",
    "type(some_str2)"
   ]
  },
  {
   "cell_type": "code",
   "execution_count": 86,
   "metadata": {},
   "outputs": [
    {
     "data": {
      "text/plain": [
       "'i also want to write THIS as a file'"
      ]
     },
     "execution_count": 86,
     "metadata": {},
     "output_type": "execute_result"
    }
   ],
   "source": [
    "some_str2.readline()"
   ]
  },
  {
   "cell_type": "code",
   "execution_count": 87,
   "metadata": {},
   "outputs": [
    {
     "data": {
      "text/plain": [
       "0"
      ]
     },
     "execution_count": 87,
     "metadata": {},
     "output_type": "execute_result"
    }
   ],
   "source": [
    "some_str2.seek(0)"
   ]
  },
  {
   "cell_type": "markdown",
   "metadata": {},
   "source": [
    "**SUMMARY**"
   ]
  },
  {
   "cell_type": "code",
   "execution_count": 88,
   "metadata": {},
   "outputs": [
    {
     "data": {
      "text/plain": [
       "'/Users/dustinherrmann/Documents/GitHub/rsd-engineeringcourse/ch01data'"
      ]
     },
     "execution_count": 88,
     "metadata": {},
     "output_type": "execute_result"
    }
   ],
   "source": [
    "#### directory stuff \n",
    "\n",
    "import os # import python module for handling directories and files \n",
    "os.getcwd() # get current directory\n",
    "os.listdir() # list all files in current directory\n",
    "\n",
    "[x for x in os.listdir(os.getcwd()) if \".txt\" in x] # elegant list comprehension way to subset for filetypes or names\n",
    "os.path.dirname(os.getcwd()) # 'parent' directory folder\n",
    "\n",
    "#### handling files \n",
    "\n",
    "myfile=open('mydata.txt') #simply open a .txt file in read mode, same as open('mydata.txt','r')\n",
    "\n",
    "# accessing the contents of the file in different ways \n",
    "# - read (--> convert to str) the entire file content \n",
    "str_of_myfile = myfile.read()\n",
    "# - read (--> convert to str) a single line at a time\n",
    "str_of_myfile_line = myfile.readline() # reads the next line chronologically \n",
    "str_of_myfile_line = myfile.readline(y) # reads a line specified by y\n",
    "# - line by line list of myfile \n",
    "list_of_lines = [x for x in myfile]\n",
    "# IMPORTANT: reading the file (either completely or line by line is exhaustive), need to rewind the file using\n",
    "myfile.seek(0) # to back to character 0 and start from there, can also start elsewhere later in the file\n",
    "open('mydata.txt').read()\n",
    "\n",
    "# --> these methods can be combined \n",
    "str_of_myfile = open('mydata.txt').read() # IMPORTANT: READ is unpacking the file, NOT opening it from a .txt \n",
    "\n",
    "#### converting btw str and file\n",
    "from io import StringIO # import file management package (DIFFERENT FROM IMPORT OS!!!)\n",
    "mystringasafile=StringIO('my text which I manually typed')\n",
    "# this file object is now readable using .read() and .readline()\n",
    "\n",
    "#### closing and managing files concisely\n",
    "myfile.close() # you have to close files (= delete them from memory to optimize computing power)\n",
    "# to make this easiert, you can operate within a *** with open(x) as y: *** environment\n",
    "# python automatically deletes the file after executing the indented code block\n",
    "\n",
    "with open('mydata.txt') as somefile: # initialize the automatic file management block: with file x opened as file object y, execute a certain set of functions \n",
    "    extracted_str = somefile.read()\n",
    "extracted_str #extracted_str is now a str, while mydata.txt which has been in memory as somefile has been deleted again automatically\n",
    "\n",
    "\n",
    "#### write files and str text to files\n",
    "# how to write str to files --> the .write() function is the inverse of the .read() function\n",
    "with open('mywrittenfile.txt', 'w') as target: # this 'reads' a new file with name 'mywrittenfile.txt' into memory as file object target, which you can now add stuff to \n",
    "    target.write('Hello') # write a custom str to target (which becomes mywrittenfile.txt after this block)\n",
    "    target.write('World') # add another custom str\n",
    "    target.write(str_object) # can also add a pre-defined str object of course\n",
    "    \n",
    "with open('mywrittenfile.txt', 'a') as target: # same as above but won't overwrite mywrittenfile.txt if it already exists\n",
    "    target.write('Hello')\n",
    "    target.write('James')\n",
    "\n",
    "with open('mywrittenfile.txt', 'r') as target: # just a reminder how to get the file back into memory as a str\n",
    "    target.read()\n",
    "\n",
    "# can't directly write a file to a file. need to go via conversion to str\n"
   ]
  },
  {
   "cell_type": "code",
   "execution_count": null,
   "metadata": {},
   "outputs": [],
   "source": []
  }
 ],
 "metadata": {
  "jekyll": {
   "display_name": "Working with files"
  },
  "kernelspec": {
   "display_name": "Python 3",
   "language": "python",
   "name": "python3"
  },
  "language_info": {
   "codemirror_mode": {
    "name": "ipython",
    "version": 3
   },
   "file_extension": ".py",
   "mimetype": "text/x-python",
   "name": "python",
   "nbconvert_exporter": "python",
   "pygments_lexer": "ipython3",
   "version": "3.8.3"
  }
 },
 "nbformat": 4,
 "nbformat_minor": 1
}
