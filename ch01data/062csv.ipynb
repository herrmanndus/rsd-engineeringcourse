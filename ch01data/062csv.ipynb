{
 "cells": [
  {
   "cell_type": "markdown",
   "metadata": {},
   "source": [
    "## Field and Record Data"
   ]
  },
  {
   "cell_type": "markdown",
   "metadata": {},
   "source": [
    "### Separated Value Files"
   ]
  },
  {
   "cell_type": "markdown",
   "metadata": {},
   "source": [
    "Let's carry on with our sunspots example:"
   ]
  },
  {
   "cell_type": "code",
   "execution_count": 17,
   "metadata": {},
   "outputs": [
    {
     "data": {
      "text/plain": [
       "'1749;01;1749.042;  96.7; -1.0;   -1;1'"
      ]
     },
     "execution_count": 17,
     "metadata": {},
     "output_type": "execute_result"
    }
   ],
   "source": [
    "import requests\n",
    "spots=requests.get('http://www.sidc.be/silso/INFO/snmtotcsv.php')\n",
    "spots.text.split('\\n')[0]"
   ]
  },
  {
   "cell_type": "markdown",
   "metadata": {},
   "source": [
    "We want to work programmatically with *Separated Value* files."
   ]
  },
  {
   "cell_type": "markdown",
   "metadata": {},
   "source": [
    "These are files which have:\n",
    "\n",
    "* Each *record* on a line\n",
    "* Each record has multiple *fields*\n",
    "* Fields are separated by some *separator*"
   ]
  },
  {
   "cell_type": "markdown",
   "metadata": {},
   "source": [
    "Typical separators are the `space`, `tab`, `comma`, and `semicolon` separated values files, e.g.:\n",
    "\n",
    "* Space separated value (e.g. `field1 \"field two\" field3` )\n",
    "* Comma separated value (e.g. `field1, another field, \"wow, another field\"`)"
   ]
  },
  {
   "cell_type": "markdown",
   "metadata": {},
   "source": [
    "Comma-separated-value is abbreviated CSV, and tab separated value TSV."
   ]
  },
  {
   "cell_type": "markdown",
   "metadata": {},
   "source": [
    "CSV is also used to refer to all the different sub-kinds of separated value files, i.e. some people use csv to refer to tab, space and semicolon separated files."
   ]
  },
  {
   "cell_type": "markdown",
   "metadata": {},
   "source": [
    "CSV is not a particularly superb data format, because it forces your data model to be a list of lists. Richer file formats\n",
    "describe \"serialisations\" for dictionaries and for deeper-than-two nested list structures as well."
   ]
  },
  {
   "cell_type": "markdown",
   "metadata": {},
   "source": [
    "Nevertheless, because you can always export *spreadsheets* as CSV files, (each cell is a field, each row is a record)\n",
    "CSV files are very popular. "
   ]
  },
  {
   "cell_type": "markdown",
   "metadata": {},
   "source": [
    "### CSV variants."
   ]
  },
  {
   "cell_type": "markdown",
   "metadata": {},
   "source": [
    "Some CSV formats define a comment character, so that rows beginning with, e.g., a #, are not treated as data, but give\n",
    "a human comment."
   ]
  },
  {
   "cell_type": "markdown",
   "metadata": {},
   "source": [
    "Some CSV formats define a three-deep list structure, where a double-newline separates records into blocks."
   ]
  },
  {
   "cell_type": "markdown",
   "metadata": {},
   "source": [
    "Some CSV formats assume that the first line defines the names of the fields, e.g.:\n",
    "\n",
    "```\n",
    "name, age\n",
    "James, 39\n",
    "Will, 2\n",
    "```"
   ]
  },
  {
   "cell_type": "markdown",
   "metadata": {},
   "source": [
    "### Python CSV readers"
   ]
  },
  {
   "cell_type": "markdown",
   "metadata": {},
   "source": [
    "The Python standard library has a `csv` module. However, it's less powerful than the CSV capabilities in `numpy`,\n",
    "the main scientific python library for handling data. Numpy is destributed with Anaconda and Canopy, so we recommend you just use that."
   ]
  },
  {
   "cell_type": "markdown",
   "metadata": {},
   "source": [
    "Numpy has powerful capabilities for handling matrices, and other fun stuff, and we'll learn about these later in the course,\n",
    "but for now, we'll just use numpy's CSV reader, and assume it makes us lists and dictionaries, rather than it's more exciting\n",
    "`array` type."
   ]
  },
  {
   "cell_type": "code",
<<<<<<< Updated upstream
   "execution_count": 1,
=======
   "execution_count": 21,
>>>>>>> Stashed changes
   "metadata": {},
   "outputs": [],
   "source": [
    "import numpy as np\n",
    "import requests"
   ]
  },
  {
   "cell_type": "code",
<<<<<<< Updated upstream
   "execution_count": 10,
=======
   "execution_count": 22,
>>>>>>> Stashed changes
   "metadata": {},
   "outputs": [],
   "source": [
    "spots=requests.get('http://www.sidc.be/silso/INFO/snmtotcsv.php', stream=True)"
   ]
  },
  {
   "cell_type": "markdown",
   "metadata": {},
   "source": [
    "`stream=True` delays loading all of the data until it is required."
   ]
  },
  {
   "cell_type": "code",
<<<<<<< Updated upstream
   "execution_count": 11,
   "metadata": {},
   "outputs": [],
   "source": [
    "sunspots= np.genfromtxt(spots.raw, delimiter=';')"
=======
   "execution_count": 23,
   "metadata": {},
   "outputs": [
    {
     "name": "stdout",
     "output_type": "stream",
     "text": [
      "<Response [200]>\n"
     ]
    }
   ],
   "source": [
    "type(spots)\n",
    "print(spots)"
   ]
  },
  {
   "cell_type": "code",
   "execution_count": 40,
   "metadata": {},
   "outputs": [],
   "source": [
    "sunspots= np.genfromtxt(spots.raw, delimiter=';') #generate np.array from text imported file\n",
    "# arguments: https://numpy.org/doc/stable/reference/generated/numpy.genfromtxt.html\n",
    "# most important: delimiter=, names=, comments=, dtype="
   ]
  },
  {
   "cell_type": "code",
   "execution_count": 41,
   "metadata": {},
   "outputs": [
    {
     "name": "stdout",
     "output_type": "stream",
     "text": [
      "[[ 1.749000e+03  1.000000e+00  1.749042e+03 ... -1.000000e+00\n",
      "  -1.000000e+00  1.000000e+00]\n",
      " [ 1.749000e+03  2.000000e+00  1.749123e+03 ... -1.000000e+00\n",
      "  -1.000000e+00  1.000000e+00]\n",
      " [ 1.749000e+03  3.000000e+00  1.749204e+03 ... -1.000000e+00\n",
      "  -1.000000e+00  1.000000e+00]\n",
      " ...\n",
      " [ 2.022000e+03  7.000000e+00  2.022538e+03 ...  1.220000e+01\n",
      "   1.304000e+03  0.000000e+00]\n",
      " [ 2.022000e+03  8.000000e+00  2.022623e+03 ...  1.050000e+01\n",
      "   1.289000e+03  0.000000e+00]\n",
      " [ 2.022000e+03  9.000000e+00  2.022705e+03 ...  1.620000e+01\n",
      "   1.130000e+03  0.000000e+00]]\n"
     ]
    },
    {
     "data": {
      "text/plain": [
       "(3285, 7)"
      ]
     },
     "execution_count": 41,
     "metadata": {},
     "output_type": "execute_result"
    }
   ],
   "source": [
    "type(sunspots)\n",
    "print(sunspots)\n",
    "np.shape(sunspots)"
>>>>>>> Stashed changes
   ]
  },
  {
   "cell_type": "markdown",
   "metadata": {},
   "source": [
    "`genfromtxt` is a powerful CSV reader. I used the `delimiter` optional argument to specify the delimeter. I could also specify\n",
    "`names=True` if I had a first line naming fields, and `comments=#` if I had comment lines."
   ]
  },
  {
   "cell_type": "code",
<<<<<<< Updated upstream
   "execution_count": 17,
=======
   "execution_count": 42,
>>>>>>> Stashed changes
   "metadata": {},
   "outputs": [
    {
     "data": {
      "text/plain": [
       "96.700000000000003"
      ]
     },
<<<<<<< Updated upstream
     "execution_count": 17,
=======
     "execution_count": 42,
>>>>>>> Stashed changes
     "metadata": {},
     "output_type": "execute_result"
    }
   ],
   "source": [
    "sunspots[0][3]"
   ]
  },
  {
   "cell_type": "markdown",
   "metadata": {},
   "source": [
    "We can now plot the \"Sunspot cycle\":"
   ]
  },
  {
   "cell_type": "code",
<<<<<<< Updated upstream
   "execution_count": 21,
=======
   "execution_count": 43,
>>>>>>> Stashed changes
   "metadata": {},
   "outputs": [
    {
     "data": {
      "text/plain": [
       "[<matplotlib.lines.Line2D at 0x10dcd8438>]"
      ]
     },
     "execution_count": 21,
     "metadata": {},
     "output_type": "execute_result"
    },
    {
     "data": {
<<<<<<< Updated upstream
      "image/png": "iVBORw0KGgoAAAANSUhEUgAAAXoAAAD8CAYAAAB5Pm/hAAAABHNCSVQICAgIfAhkiAAAAAlwSFlz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\nAABJRU5ErkJggg==\n",
=======
      "image/png": "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\n",
>>>>>>> Stashed changes
      "text/plain": [
       "<matplotlib.figure.Figure at 0x10d9cca20>"
      ]
     },
     "metadata": {},
     "output_type": "display_data"
    }
   ],
   "source": [
    "%matplotlib inline\n",
    "\n",
    "from matplotlib import pyplot as plt\n",
    "plt.plot(sunspots[:,2], sunspots[:,3]) # Numpy syntax to access all \n",
    "                                       #rows, specified column."
   ]
  },
  {
   "cell_type": "markdown",
   "metadata": {},
   "source": [
    "The plot command accepted an array of 'X' values and an array of 'Y' values. We used a special NumPy \":\" syntax,\n",
    "which we'll learn more about later."
   ]
  },
  {
   "cell_type": "markdown",
   "metadata": {},
   "source": [
    "### Naming Columns"
   ]
  },
  {
   "cell_type": "markdown",
   "metadata": {},
   "source": [
    "I happen to know that the columns here are defined as follows:"
   ]
  },
  {
   "cell_type": "markdown",
   "metadata": {},
   "source": [
    "From http://www.sidc.be/silso/infosnmtot:\n",
    "\n",
    "> CSV\n",
    "\n",
    "> Filename: SN_m_tot_V2.0.csv\n",
    "> Format: Comma Separated values (adapted for import in spreadsheets)\n",
    "The separator is the semicolon ';'.\n",
    "\n",
    "> Contents:\n",
    "* Column 1-2: Gregorian calendar date\n",
    "- Year\n",
    "- Month\n",
    "* Column 3: Date in fraction of year.\n",
    "* Column 4: Monthly mean total sunspot number.\n",
    "* Column 5: Monthly mean standard deviation of the input sunspot numbers.\n",
    "* Column 6: Number of observations used to compute the monthly mean total sunspot number.\n",
    "* Column 7: Definitive/provisional marker. '1' indicates that the value is definitive. '0' indicates that the value is still provisional."
   ]
  },
  {
   "cell_type": "markdown",
   "metadata": {
    "collapsed": true
   },
   "source": [
    "I can actually specify this to the formatter:"
   ]
  },
  {
   "cell_type": "code",
   "execution_count": 31,
   "metadata": {},
   "outputs": [],
   "source": [
    "spots=requests.get('http://www.sidc.be/silso/INFO/snmtotcsv.php', stream=True)\n",
    "\n",
    "sunspots= np.genfromtxt(spots.raw, delimiter=';', \n",
    "                        names=['year','month','date',\n",
    "                        'mean','deviation','observations','definitive'])"
   ]
  },
  {
   "cell_type": "code",
   "execution_count": 32,
   "metadata": {},
   "outputs": [
    {
     "data": {
      "text/plain": [
       "array([( 1749.,  1.,  1749.042,   96.7, -1. ,   -1.,  1.),\n",
       "       ( 1749.,  2.,  1749.123,  104.3, -1. ,   -1.,  1.),\n",
       "       ( 1749.,  3.,  1749.204,  116.7, -1. ,   -1.,  1.), ...,\n",
       "       ( 2017.,  7.,  2017.538,   18.3,  2.6,  958.,  0.),\n",
       "       ( 2017.,  8.,  2017.623,   33.1,  3. ,  967.,  0.),\n",
       "       ( 2017.,  9.,  2017.705,   43.6,  4.2,  857.,  0.)],\n",
       "      dtype=[('year', '<f8'), ('month', '<f8'), ('date', '<f8'), ('mean', '<f8'), ('deviation', '<f8'), ('observations', '<f8'), ('definitive', '<f8')])"
      ]
     },
     "execution_count": 32,
     "metadata": {},
     "output_type": "execute_result"
    }
   ],
   "source": [
    "sunspots"
   ]
  },
  {
   "cell_type": "markdown",
   "metadata": {},
   "source": [
    "### Typed Fields"
   ]
  },
  {
   "cell_type": "markdown",
   "metadata": {},
   "source": [
    "It's also often good to specify the datatype of each field."
   ]
  },
  {
   "cell_type": "code",
   "execution_count": 35,
   "metadata": {},
   "outputs": [],
   "source": [
    "spots=requests.get('http://www.sidc.be/silso/INFO/snmtotcsv.php', stream=True)\n",
    "\n",
    "sunspots= np.genfromtxt(spots.raw, delimiter=';', \n",
    "                        names=['year','month','date',\n",
    "                        'mean','deviation','observations','definitive'],\n",
    "                        dtype=[int, int, float, float, float, int, int])"
   ]
  },
  {
   "cell_type": "code",
   "execution_count": 24,
   "metadata": {},
   "outputs": [
    {
     "data": {
      "text/plain": [
       "array([(1749, 1,  1749.042,   96.7, -1. ,  -1, 1),\n",
       "       (1749, 2,  1749.123,  104.3, -1. ,  -1, 1),\n",
       "       (1749, 3,  1749.204,  116.7, -1. ,  -1, 1), ...,\n",
       "       (2017, 7,  2017.538,   18.3,  2.6, 958, 0),\n",
       "       (2017, 8,  2017.623,   33.1,  3. , 967, 0),\n",
       "       (2017, 9,  2017.705,   43.6,  4.2, 857, 0)],\n",
       "      dtype=[('year', '<i8'), ('month', '<i8'), ('date', '<f8'), ('mean', '<f8'), ('deviation', '<f8'), ('observations', '<i8'), ('definitive', '<i8')])"
      ]
     },
     "execution_count": 24,
     "metadata": {},
     "output_type": "execute_result"
    }
   ],
   "source": [
    "sunspots"
   ]
  },
  {
   "cell_type": "markdown",
   "metadata": {},
   "source": [
    "Now, NumPy understands the names of the columns, so our plot command is more readable:"
   ]
  },
  {
   "cell_type": "code",
   "execution_count": 36,
   "metadata": {},
   "outputs": [
    {
     "data": {
      "text/plain": [
       "array([1749, 1749, 1749, ..., 2017, 2017, 2017])"
      ]
     },
     "execution_count": 36,
     "metadata": {},
     "output_type": "execute_result"
    }
   ],
   "source": [
    "sunspots['year']"
   ]
  },
  {
   "cell_type": "code",
   "execution_count": 37,
   "metadata": {},
   "outputs": [
    {
     "data": {
      "text/plain": [
       "[<matplotlib.lines.Line2D at 0x10dfd7c18>]"
      ]
     },
     "execution_count": 37,
     "metadata": {},
     "output_type": "execute_result"
    },
    {
     "data": {
      "image/png": "iVBORw0KGgoAAAANSUhEUgAAAXoAAAD8CAYAAAB5Pm/hAAAABHNCSVQICAgIfAhkiAAAAAlwSFlz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\n",
      "text/plain": [
       "<matplotlib.figure.Figure at 0x10e069ef0>"
      ]
     },
     "metadata": {},
     "output_type": "display_data"
    }
   ],
   "source": [
    "plt.plot(sunspots['year'],sunspots['mean'])"
   ]
  },
  {
   "cell_type": "code",
   "execution_count": 29,
   "metadata": {},
   "outputs": [
    {
     "name": "stdout",
     "output_type": "stream",
     "text": [
      "506,13,,,,,,,,,,,,\n",
      "\"CRIM\",\"ZN\",\"INDUS\",\"CHAS\",\"NOX\",\"RM\",\"AGE\",\"DIS\",\"RAD\",\"TAX\",\"PTRATIO\",\"B\",\"LSTAT\",\"MEDV\"\n",
      "0.00632,18,2.31,0,0.538,6.575,65.2,4.09,1,296,15.3,396.9,4.98,24\n",
      "0.02731,0,7.07,0,0.469,6.421,78.9,4.9671,2,242,17.8,396.9,9.14,21.6\n",
      "0.02729,0,7.07,0,0.469,7.185,61.1,4.9671,2,242,17.8,392.83,4.03,34.7\n",
      "0.03237,0,2.18,0,0.458,6.998,45.8,6.0622,3,222,18.7,394.63,2.94,33.4\n",
      "0.06905,0,2.18,0,0.458,7.147,54.2,6.0622,3,222,18.7,396.9,5.33,36.2\n",
      "0.02985,0,2.18,0,0.458,6.43,58.7,6.0622,3,222,18.7,394.12,5.21,28.7\n",
      "0.08829,12.5,7.87,0,0.524,6.012,66.6,5.5605,5,311,15.2,395.6,12.43,22.9\n",
      "0.14455,12.5,7.87,0,0.524,6.172,96.1,5.9505,5,311,15.2,396.9,19.15,27.1\n",
      "0.21124,12.5,7.87,0,0.524,5.631,100,6.0821,5,311,15.2,386.63,29.93,16.5\n",
      "0.17004,12.5,7.87,0,0.524,6.004,85.9,6.5921,5,311,15.2,386.71,17.1,18.9\n",
      "0.22489,12.5,7.87,0,0.524,6.377,94.3,6.3467,5,311,15.2,392.52,20.45,15\n",
      "0.11747,12.5,7.87,0,0.524,6.009,82.9,6.2267,5,311,15.2,396.9,13.27,18.9\n",
      "0.09378,12.5,7.87,0,0.524,5.889,39,5.4509,5,311,15.2,390.5,15.71,21.7\n",
      "0.62976,0,8.14,0,0.538,5.949,61.8,4.7075,4,307,21,396.9,8.26,20.4\n",
      "0.63796,0,8.14,0,0.538,6.096,84.5,4.4619,4,307,21,380.02,10.26,18.2\n",
      "0.62739,0,8.14,0,0.538,5.834,56.5,4.4986,4,307,21,395.62,8.47,19.9\n",
      "1.05393,0,8.14,0,0.538,5.935,29.3,4.4986,4,307,21,386.85,6.58,23.1\n",
      "0.7842,0,8.14,0,0.538,5.99,81.7,4.2579,4,307,21,386.75,14.67,17.5\n",
      "0.80271,0,8.14,0,0.538,5.456,36.6,3.7965,4,307,21,288.99,11.69,20.2\n",
      "0.7258,0,8.14,0,0.538,5.727,69.5,3.7965,4,307,21,390.95,11.28,18.2\n",
      "1.25179,0,8.14,0,0.538,5.57,98.1,3.7979,4,307,21,376.57,21.02,13.6\n",
      "0.85204,0,8.14,0,0.538,5.965,89.2,4.0123,4,307,21,392.53,13.83,19.6\n",
      "1.23247,0,8.14,0,0.538,6.142,91.7,3.9769,4,307,21,396.9,18.72,15.2\n",
      "0.98843,0,8.14,0,0.538,5.813,100,4.0952,4,307,21,394.54,19.88,14.5\n",
      "0.75026,0,8.14,0,0.538,5.924,94.1,4.3996,4,307,21,394.33,16.3,15.6\n",
      "0.84054,0,8.14,0,0.538,5.599,85.7,4.4546,4,307,21,303.42,16.51,13.9\n",
      "0.67191,0,8.14,0,0.538,5.813,90.3,4.682,4,307,21,376.88,14.81,16.6\n",
      "0.95577,0,8.14,0,0.538,6.047,88.8,4.4534,4,307,21,306.38,17.28,14.8\n",
      "0.77299,0,8.14,0,0.538,6.495,94.4,4.4547,4,307,21,387.94,12.8,18.4\n",
      "1.00245,0,8.14,0,0.538,6.674,87.3,4.239,4,307,21,380.23,11.98,21\n",
      "1.13081,0,8.14,0,0.538,5.713,94.1,4.233,4,307,21,360.17,22.6,12.7\n",
      "1.35472,0,8.14,0,0.538,6.072,100,4.175,4,307,21,376.73,13.04,14.5\n",
      "1.38799,0,8.14,0,0.538,5.95,82,3.99,4,307,21,232.6,27.71,13.2\n",
      "1.15172,0,8.14,0,0.538,5.701,95,3.7872,4,307,21,358.77,18.35,13.1\n",
      "1.61282,0,8.14,0,0.538,6.096,96.9,3.7598,4,307,21,248.31,20.34,13.5\n",
      "0.06417,0,5.96,0,0.499,5.933,68.2,3.3603,5,279,19.2,396.9,9.68,18.9\n",
      "0.09744,0,5.96,0,0.499,5.841,61.4,3.3779,5,279,19.2,377.56,11.41,20\n",
      "0.08014,0,5.96,0,0.499,5.85,41.5,3.9342,5,279,19.2,396.9,8.77,21\n",
      "0.17505,0,5.96,0,0.499,5.966,30.2,3.8473,5,279,19.2,393.43,10.13,24.7\n",
      "0.02763,75,2.95,0,0.428,6.595,21.8,5.4011,3,252,18.3,395.63,4.32,30.8\n",
      "0.03359,75,2.95,0,0.428,7.024,15.8,5.4011,3,252,18.3,395.62,1.98,34.9\n",
      "0.12744,0,6.91,0,0.448,6.77,2.9,5.7209,3,233,17.9,385.41,4.84,26.6\n",
      "0.1415,0,6.91,0,0.448,6.169,6.6,5.7209,3,233,17.9,383.37,5.81,25.3\n",
      "0.15936,0,6.91,0,0.448,6.211,6.5,5.7209,3,233,17.9,394.46,7.44,24.7\n",
      "0.12269,0,6.91,0,0.448,6.069,40,5.7209,3,233,17.9,389.39,9.55,21.2\n",
      "0.17142,0,6.91,0,0.448,5.682,33.8,5.1004,3,233,17.9,396.9,10.21,19.3\n",
      "0.18836,0,6.91,0,0.448,5.786,33.3,5.1004,3,233,17.9,396.9,14.15,20\n",
      "0.22927,0,6.91,0,0.448,6.03,85.5,5.6894,3,233,17.9,392.74,18.8,16.6\n",
      "0.25387,0,6.91,0,0.448,5.399,95.3,5.87,3,233,17.9,396.9,30.81,14.4\n",
      "0.21977,0,6.91,0,0.448,5.602,62,6.0877,3,233,17.9,396.9,16.2,19.4\n",
      "0.08873,21,5.64,0,0.439,5.963,45.7,6.8147,4,243,16.8,395.56,13.45,19.7\n",
      "0.04337,21,5.64,0,0.439,6.115,63,6.8147,4,243,16.8,393.97,9.43,20.5\n",
      "0.0536,21,5.64,0,0.439,6.511,21.1,6.8147,4,243,16.8,396.9,5.28,25\n",
      "0.04981,21,5.64,0,0.439,5.998,21.4,6.8147,4,243,16.8,396.9,8.43,23.4\n",
      "0.0136,75,4,0,0.41,5.888,47.6,7.3197,3,469,21.1,396.9,14.8,18.9\n",
      "0.01311,90,1.22,0,0.403,7.249,21.9,8.6966,5,226,17.9,395.93,4.81,35.4\n",
      "0.02055,85,0.74,0,0.41,6.383,35.7,9.1876,2,313,17.3,396.9,5.77,24.7\n",
      "0.01432,100,1.32,0,0.411,6.816,40.5,8.3248,5,256,15.1,392.9,3.95,31.6\n",
      "0.15445,25,5.13,0,0.453,6.145,29.2,7.8148,8,284,19.7,390.68,6.86,23.3\n",
      "0.10328,25,5.13,0,0.453,5.927,47.2,6.932,8,284,19.7,396.9,9.22,19.6\n",
      "0.14932,25,5.13,0,0.453,5.741,66.2,7.2254,8,284,19.7,395.11,13.15,18.7\n",
      "0.17171,25,5.13,0,0.453,5.966,93.4,6.8185,8,284,19.7,378.08,14.44,16\n",
      "0.11027,25,5.13,0,0.453,6.456,67.8,7.2255,8,284,19.7,396.9,6.73,22.2\n",
      "0.1265,25,5.13,0,0.453,6.762,43.4,7.9809,8,284,19.7,395.58,9.5,25\n",
      "0.01951,17.5,1.38,0,0.4161,7.104,59.5,9.2229,3,216,18.6,393.24,8.05,33\n",
      "0.03584,80,3.37,0,0.398,6.29,17.8,6.6115,4,337,16.1,396.9,4.67,23.5\n",
      "0.04379,80,3.37,0,0.398,5.787,31.1,6.6115,4,337,16.1,396.9,10.24,19.4\n",
      "0.05789,12.5,6.07,0,0.409,5.878,21.4,6.498,4,345,18.9,396.21,8.1,22\n",
      "0.13554,12.5,6.07,0,0.409,5.594,36.8,6.498,4,345,18.9,396.9,13.09,17.4\n",
      "0.12816,12.5,6.07,0,0.409,5.885,33,6.498,4,345,18.9,396.9,8.79,20.9\n",
      "0.08826,0,10.81,0,0.413,6.417,6.6,5.2873,4,305,19.2,383.73,6.72,24.2\n",
      "0.15876,0,10.81,0,0.413,5.961,17.5,5.2873,4,305,19.2,376.94,9.88,21.7\n",
      "0.09164,0,10.81,0,0.413,6.065,7.8,5.2873,4,305,19.2,390.91,5.52,22.8\n",
      "0.19539,0,10.81,0,0.413,6.245,6.2,5.2873,4,305,19.2,377.17,7.54,23.4\n",
      "0.07896,0,12.83,0,0.437,6.273,6,4.2515,5,398,18.7,394.92,6.78,24.1\n",
      "0.09512,0,12.83,0,0.437,6.286,45,4.5026,5,398,18.7,383.23,8.94,21.4\n",
      "0.10153,0,12.83,0,0.437,6.279,74.5,4.0522,5,398,18.7,373.66,11.97,20\n",
      "0.08707,0,12.83,0,0.437,6.14,45.8,4.0905,5,398,18.7,386.96,10.27,20.8\n",
      "0.05646,0,12.83,0,0.437,6.232,53.7,5.0141,5,398,18.7,386.4,12.34,21.2\n",
      "0.08387,0,12.83,0,0.437,5.874,36.6,4.5026,5,398,18.7,396.06,9.1,20.3\n",
      "0.04113,25,4.86,0,0.426,6.727,33.5,5.4007,4,281,19,396.9,5.29,28\n",
      "0.04462,25,4.86,0,0.426,6.619,70.4,5.4007,4,281,19,395.63,7.22,23.9\n",
      "0.03659,25,4.86,0,0.426,6.302,32.2,5.4007,4,281,19,396.9,6.72,24.8\n",
      "0.03551,25,4.86,0,0.426,6.167,46.7,5.4007,4,281,19,390.64,7.51,22.9\n",
      "0.05059,0,4.49,0,0.449,6.389,48,4.7794,3,247,18.5,396.9,9.62,23.9\n",
      "0.05735,0,4.49,0,0.449,6.63,56.1,4.4377,3,247,18.5,392.3,6.53,26.6\n",
      "0.05188,0,4.49,0,0.449,6.015,45.1,4.4272,3,247,18.5,395.99,12.86,22.5\n",
      "0.07151,0,4.49,0,0.449,6.121,56.8,3.7476,3,247,18.5,395.15,8.44,22.2\n",
      "0.0566,0,3.41,0,0.489,7.007,86.3,3.4217,2,270,17.8,396.9,5.5,23.6\n",
      "0.05302,0,3.41,0,0.489,7.079,63.1,3.4145,2,270,17.8,396.06,5.7,28.7\n",
      "0.04684,0,3.41,0,0.489,6.417,66.1,3.0923,2,270,17.8,392.18,8.81,22.6\n",
      "0.03932,0,3.41,0,0.489,6.405,73.9,3.0921,2,270,17.8,393.55,8.2,22\n",
      "0.04203,28,15.04,0,0.464,6.442,53.6,3.6659,4,270,18.2,395.01,8.16,22.9\n",
      "0.02875,28,15.04,0,0.464,6.211,28.9,3.6659,4,270,18.2,396.33,6.21,25\n",
      "0.04294,28,15.04,0,0.464,6.249,77.3,3.615,4,270,18.2,396.9,10.59,20.6\n",
      "0.12204,0,2.89,0,0.445,6.625,57.8,3.4952,2,276,18,357.98,6.65,28.4\n",
      "0.11504,0,2.89,0,0.445,6.163,69.6,3.4952,2,276,18,391.83,11.34,21.4\n",
      "0.12083,0,2.89,0,0.445,8.069,76,3.4952,2,276,18,396.9,4.21,38.7\n",
      "0.08187,0,2.89,0,0.445,7.82,36.9,3.4952,2,276,18,393.53,3.57,43.8\n",
      "0.0686,0,2.89,0,0.445,7.416,62.5,3.4952,2,276,18,396.9,6.19,33.2\n",
      "0.14866,0,8.56,0,0.52,6.727,79.9,2.7778,5,384,20.9,394.76,9.42,27.5\n",
      "0.11432,0,8.56,0,0.52,6.781,71.3,2.8561,5,384,20.9,395.58,7.67,26.5\n",
      "0.22876,0,8.56,0,0.52,6.405,85.4,2.7147,5,384,20.9,70.8,10.63,18.6\n",
      "0.21161,0,8.56,0,0.52,6.137,87.4,2.7147,5,384,20.9,394.47,13.44,19.3\n",
      "0.1396,0,8.56,0,0.52,6.167,90,2.421,5,384,20.9,392.69,12.33,20.1\n",
      "0.13262,0,8.56,0,0.52,5.851,96.7,2.1069,5,384,20.9,394.05,16.47,19.5\n",
      "0.1712,0,8.56,0,0.52,5.836,91.9,2.211,5,384,20.9,395.67,18.66,19.5\n",
      "0.13117,0,8.56,0,0.52,6.127,85.2,2.1224,5,384,20.9,387.69,14.09,20.4\n",
      "0.12802,0,8.56,0,0.52,6.474,97.1,2.4329,5,384,20.9,395.24,12.27,19.8\n",
      "0.26363,0,8.56,0,0.52,6.229,91.2,2.5451,5,384,20.9,391.23,15.55,19.4\n",
      "0.10793,0,8.56,0,0.52,6.195,54.4,2.7778,5,384,20.9,393.49,13,21.7\n",
      "0.10084,0,10.01,0,0.547,6.715,81.6,2.6775,6,432,17.8,395.59,10.16,22.8\n",
      "0.12329,0,10.01,0,0.547,5.913,92.9,2.3534,6,432,17.8,394.95,16.21,18.8\n",
      "0.22212,0,10.01,0,0.547,6.092,95.4,2.548,6,432,17.8,396.9,17.09,18.7\n",
      "0.14231,0,10.01,0,0.547,6.254,84.2,2.2565,6,432,17.8,388.74,10.45,18.5\n",
      "0.17134,0,10.01,0,0.547,5.928,88.2,2.4631,6,432,17.8,344.91,15.76,18.3\n",
      "0.13158,0,10.01,0,0.547,6.176,72.5,2.7301,6,432,17.8,393.3,12.04,21.2\n",
      "0.15098,0,10.01,0,0.547,6.021,82.6,2.7474,6,432,17.8,394.51,10.3,19.2\n",
      "0.13058,0,10.01,0,0.547,5.872,73.1,2.4775,6,432,17.8,338.63,15.37,20.4\n",
      "0.14476,0,10.01,0,0.547,5.731,65.2,2.7592,6,432,17.8,391.5,13.61,19.3\n",
      "0.06899,0,25.65,0,0.581,5.87,69.7,2.2577,2,188,19.1,389.15,14.37,22\n",
      "0.07165,0,25.65,0,0.581,6.004,84.1,2.1974,2,188,19.1,377.67,14.27,20.3\n",
      "0.09299,0,25.65,0,0.581,5.961,92.9,2.0869,2,188,19.1,378.09,17.93,20.5\n",
      "0.15038,0,25.65,0,0.581,5.856,97,1.9444,2,188,19.1,370.31,25.41,17.3\n",
      "0.09849,0,25.65,0,0.581,5.879,95.8,2.0063,2,188,19.1,379.38,17.58,18.8\n",
      "0.16902,0,25.65,0,0.581,5.986,88.4,1.9929,2,188,19.1,385.02,14.81,21.4\n",
      "0.38735,0,25.65,0,0.581,5.613,95.6,1.7572,2,188,19.1,359.29,27.26,15.7\n",
      "0.25915,0,21.89,0,0.624,5.693,96,1.7883,4,437,21.2,392.11,17.19,16.2\n",
      "0.32543,0,21.89,0,0.624,6.431,98.8,1.8125,4,437,21.2,396.9,15.39,18\n",
      "0.88125,0,21.89,0,0.624,5.637,94.7,1.9799,4,437,21.2,396.9,18.34,14.3\n",
      "0.34006,0,21.89,0,0.624,6.458,98.9,2.1185,4,437,21.2,395.04,12.6,19.2\n",
      "1.19294,0,21.89,0,0.624,6.326,97.7,2.271,4,437,21.2,396.9,12.26,19.6\n",
      "0.59005,0,21.89,0,0.624,6.372,97.9,2.3274,4,437,21.2,385.76,11.12,23\n",
      "0.32982,0,21.89,0,0.624,5.822,95.4,2.4699,4,437,21.2,388.69,15.03,18.4\n",
      "0.97617,0,21.89,0,0.624,5.757,98.4,2.346,4,437,21.2,262.76,17.31,15.6\n",
      "0.55778,0,21.89,0,0.624,6.335,98.2,2.1107,4,437,21.2,394.67,16.96,18.1\n",
      "0.32264,0,21.89,0,0.624,5.942,93.5,1.9669,4,437,21.2,378.25,16.9,17.4\n",
      "0.35233,0,21.89,0,0.624,6.454,98.4,1.8498,4,437,21.2,394.08,14.59,17.1\n",
      "0.2498,0,21.89,0,0.624,5.857,98.2,1.6686,4,437,21.2,392.04,21.32,13.3\n",
      "0.54452,0,21.89,0,0.624,6.151,97.9,1.6687,4,437,21.2,396.9,18.46,17.8\n",
      "0.2909,0,21.89,0,0.624,6.174,93.6,1.6119,4,437,21.2,388.08,24.16,14\n",
      "1.62864,0,21.89,0,0.624,5.019,100,1.4394,4,437,21.2,396.9,34.41,14.4\n",
      "3.32105,0,19.58,1,0.871,5.403,100,1.3216,5,403,14.7,396.9,26.82,13.4\n",
      "4.0974,0,19.58,0,0.871,5.468,100,1.4118,5,403,14.7,396.9,26.42,15.6\n",
      "2.77974,0,19.58,0,0.871,4.903,97.8,1.3459,5,403,14.7,396.9,29.29,11.8\n",
      "2.37934,0,19.58,0,0.871,6.13,100,1.4191,5,403,14.7,172.91,27.8,13.8\n",
      "2.15505,0,19.58,0,0.871,5.628,100,1.5166,5,403,14.7,169.27,16.65,15.6\n",
      "2.36862,0,19.58,0,0.871,4.926,95.7,1.4608,5,403,14.7,391.71,29.53,14.6\n",
      "2.33099,0,19.58,0,0.871,5.186,93.8,1.5296,5,403,14.7,356.99,28.32,17.8\n",
      "2.73397,0,19.58,0,0.871,5.597,94.9,1.5257,5,403,14.7,351.85,21.45,15.4\n",
      "1.6566,0,19.58,0,0.871,6.122,97.3,1.618,5,403,14.7,372.8,14.1,21.5\n",
      "1.49632,0,19.58,0,0.871,5.404,100,1.5916,5,403,14.7,341.6,13.28,19.6\n",
      "1.12658,0,19.58,1,0.871,5.012,88,1.6102,5,403,14.7,343.28,12.12,15.3\n",
      "2.14918,0,19.58,0,0.871,5.709,98.5,1.6232,5,403,14.7,261.95,15.79,19.4\n",
      "1.41385,0,19.58,1,0.871,6.129,96,1.7494,5,403,14.7,321.02,15.12,17\n",
      "3.53501,0,19.58,1,0.871,6.152,82.6,1.7455,5,403,14.7,88.01,15.02,15.6\n",
      "2.44668,0,19.58,0,0.871,5.272,94,1.7364,5,403,14.7,88.63,16.14,13.1\n",
      "1.22358,0,19.58,0,0.605,6.943,97.4,1.8773,5,403,14.7,363.43,4.59,41.3\n",
      "1.34284,0,19.58,0,0.605,6.066,100,1.7573,5,403,14.7,353.89,6.43,24.3\n",
      "1.42502,0,19.58,0,0.871,6.51,100,1.7659,5,403,14.7,364.31,7.39,23.3\n",
      "1.27346,0,19.58,1,0.605,6.25,92.6,1.7984,5,403,14.7,338.92,5.5,27\n",
      "1.46336,0,19.58,0,0.605,7.489,90.8,1.9709,5,403,14.7,374.43,1.73,50\n",
      "1.83377,0,19.58,1,0.605,7.802,98.2,2.0407,5,403,14.7,389.61,1.92,50\n",
      "1.51902,0,19.58,1,0.605,8.375,93.9,2.162,5,403,14.7,388.45,3.32,50\n",
      "2.24236,0,19.58,0,0.605,5.854,91.8,2.422,5,403,14.7,395.11,11.64,22.7\n",
      "2.924,0,19.58,0,0.605,6.101,93,2.2834,5,403,14.7,240.16,9.81,25\n",
      "2.01019,0,19.58,0,0.605,7.929,96.2,2.0459,5,403,14.7,369.3,3.7,50\n",
      "1.80028,0,19.58,0,0.605,5.877,79.2,2.4259,5,403,14.7,227.61,12.14,23.8\n",
      "2.3004,0,19.58,0,0.605,6.319,96.1,2.1,5,403,14.7,297.09,11.1,23.8\n",
      "2.44953,0,19.58,0,0.605,6.402,95.2,2.2625,5,403,14.7,330.04,11.32,22.3\n",
      "1.20742,0,19.58,0,0.605,5.875,94.6,2.4259,5,403,14.7,292.29,14.43,17.4\n",
      "2.3139,0,19.58,0,0.605,5.88,97.3,2.3887,5,403,14.7,348.13,12.03,19.1\n",
      "0.13914,0,4.05,0,0.51,5.572,88.5,2.5961,5,296,16.6,396.9,14.69,23.1\n",
      "0.09178,0,4.05,0,0.51,6.416,84.1,2.6463,5,296,16.6,395.5,9.04,23.6\n",
      "0.08447,0,4.05,0,0.51,5.859,68.7,2.7019,5,296,16.6,393.23,9.64,22.6\n",
      "0.06664,0,4.05,0,0.51,6.546,33.1,3.1323,5,296,16.6,390.96,5.33,29.4\n",
      "0.07022,0,4.05,0,0.51,6.02,47.2,3.5549,5,296,16.6,393.23,10.11,23.2\n",
      "0.05425,0,4.05,0,0.51,6.315,73.4,3.3175,5,296,16.6,395.6,6.29,24.6\n",
      "0.06642,0,4.05,0,0.51,6.86,74.4,2.9153,5,296,16.6,391.27,6.92,29.9\n",
      "0.0578,0,2.46,0,0.488,6.98,58.4,2.829,3,193,17.8,396.9,5.04,37.2\n",
      "0.06588,0,2.46,0,0.488,7.765,83.3,2.741,3,193,17.8,395.56,7.56,39.8\n",
      "0.06888,0,2.46,0,0.488,6.144,62.2,2.5979,3,193,17.8,396.9,9.45,36.2\n",
      "0.09103,0,2.46,0,0.488,7.155,92.2,2.7006,3,193,17.8,394.12,4.82,37.9\n",
      "0.10008,0,2.46,0,0.488,6.563,95.6,2.847,3,193,17.8,396.9,5.68,32.5\n",
      "0.08308,0,2.46,0,0.488,5.604,89.8,2.9879,3,193,17.8,391,13.98,26.4\n",
      "0.06047,0,2.46,0,0.488,6.153,68.8,3.2797,3,193,17.8,387.11,13.15,29.6\n",
      "0.05602,0,2.46,0,0.488,7.831,53.6,3.1992,3,193,17.8,392.63,4.45,50\n",
      "0.07875,45,3.44,0,0.437,6.782,41.1,3.7886,5,398,15.2,393.87,6.68,32\n",
      "0.12579,45,3.44,0,0.437,6.556,29.1,4.5667,5,398,15.2,382.84,4.56,29.8\n",
      "0.0837,45,3.44,0,0.437,7.185,38.9,4.5667,5,398,15.2,396.9,5.39,34.9\n",
      "0.09068,45,3.44,0,0.437,6.951,21.5,6.4798,5,398,15.2,377.68,5.1,37\n",
      "0.06911,45,3.44,0,0.437,6.739,30.8,6.4798,5,398,15.2,389.71,4.69,30.5\n",
      "0.08664,45,3.44,0,0.437,7.178,26.3,6.4798,5,398,15.2,390.49,2.87,36.4\n",
      "0.02187,60,2.93,0,0.401,6.8,9.9,6.2196,1,265,15.6,393.37,5.03,31.1\n",
      "0.01439,60,2.93,0,0.401,6.604,18.8,6.2196,1,265,15.6,376.7,4.38,29.1\n",
      "0.01381,80,0.46,0,0.422,7.875,32,5.6484,4,255,14.4,394.23,2.97,50\n",
      "0.04011,80,1.52,0,0.404,7.287,34.1,7.309,2,329,12.6,396.9,4.08,33.3\n",
      "0.04666,80,1.52,0,0.404,7.107,36.6,7.309,2,329,12.6,354.31,8.61,30.3\n",
      "0.03768,80,1.52,0,0.404,7.274,38.3,7.309,2,329,12.6,392.2,6.62,34.6\n",
      "0.0315,95,1.47,0,0.403,6.975,15.3,7.6534,3,402,17,396.9,4.56,34.9\n",
      "0.01778,95,1.47,0,0.403,7.135,13.9,7.6534,3,402,17,384.3,4.45,32.9\n",
      "0.03445,82.5,2.03,0,0.415,6.162,38.4,6.27,2,348,14.7,393.77,7.43,24.1\n",
      "0.02177,82.5,2.03,0,0.415,7.61,15.7,6.27,2,348,14.7,395.38,3.11,42.3\n",
      "0.0351,95,2.68,0,0.4161,7.853,33.2,5.118,4,224,14.7,392.78,3.81,48.5\n",
      "0.02009,95,2.68,0,0.4161,8.034,31.9,5.118,4,224,14.7,390.55,2.88,50\n",
      "0.13642,0,10.59,0,0.489,5.891,22.3,3.9454,4,277,18.6,396.9,10.87,22.6\n",
      "0.22969,0,10.59,0,0.489,6.326,52.5,4.3549,4,277,18.6,394.87,10.97,24.4\n",
      "0.25199,0,10.59,0,0.489,5.783,72.7,4.3549,4,277,18.6,389.43,18.06,22.5\n",
      "0.13587,0,10.59,1,0.489,6.064,59.1,4.2392,4,277,18.6,381.32,14.66,24.4\n",
      "0.43571,0,10.59,1,0.489,5.344,100,3.875,4,277,18.6,396.9,23.09,20\n",
      "0.17446,0,10.59,1,0.489,5.96,92.1,3.8771,4,277,18.6,393.25,17.27,21.7\n",
      "0.37578,0,10.59,1,0.489,5.404,88.6,3.665,4,277,18.6,395.24,23.98,19.3\n",
      "0.21719,0,10.59,1,0.489,5.807,53.8,3.6526,4,277,18.6,390.94,16.03,22.4\n",
      "0.14052,0,10.59,0,0.489,6.375,32.3,3.9454,4,277,18.6,385.81,9.38,28.1\n",
      "0.28955,0,10.59,0,0.489,5.412,9.8,3.5875,4,277,18.6,348.93,29.55,23.7\n",
      "0.19802,0,10.59,0,0.489,6.182,42.4,3.9454,4,277,18.6,393.63,9.47,25\n",
      "0.0456,0,13.89,1,0.55,5.888,56,3.1121,5,276,16.4,392.8,13.51,23.3\n",
      "0.07013,0,13.89,0,0.55,6.642,85.1,3.4211,5,276,16.4,392.78,9.69,28.7\n",
      "0.11069,0,13.89,1,0.55,5.951,93.8,2.8893,5,276,16.4,396.9,17.92,21.5\n",
      "0.11425,0,13.89,1,0.55,6.373,92.4,3.3633,5,276,16.4,393.74,10.5,23\n",
      "0.35809,0,6.2,1,0.507,6.951,88.5,2.8617,8,307,17.4,391.7,9.71,26.7\n",
      "0.40771,0,6.2,1,0.507,6.164,91.3,3.048,8,307,17.4,395.24,21.46,21.7\n",
      "0.62356,0,6.2,1,0.507,6.879,77.7,3.2721,8,307,17.4,390.39,9.93,27.5\n",
      "0.6147,0,6.2,0,0.507,6.618,80.8,3.2721,8,307,17.4,396.9,7.6,30.1\n",
      "0.31533,0,6.2,0,0.504,8.266,78.3,2.8944,8,307,17.4,385.05,4.14,44.8\n",
      "0.52693,0,6.2,0,0.504,8.725,83,2.8944,8,307,17.4,382,4.63,50\n",
      "0.38214,0,6.2,0,0.504,8.04,86.5,3.2157,8,307,17.4,387.38,3.13,37.6\n",
      "0.41238,0,6.2,0,0.504,7.163,79.9,3.2157,8,307,17.4,372.08,6.36,31.6\n",
      "0.29819,0,6.2,0,0.504,7.686,17,3.3751,8,307,17.4,377.51,3.92,46.7\n",
      "0.44178,0,6.2,0,0.504,6.552,21.4,3.3751,8,307,17.4,380.34,3.76,31.5\n",
      "0.537,0,6.2,0,0.504,5.981,68.1,3.6715,8,307,17.4,378.35,11.65,24.3\n",
      "0.46296,0,6.2,0,0.504,7.412,76.9,3.6715,8,307,17.4,376.14,5.25,31.7\n",
      "0.57529,0,6.2,0,0.507,8.337,73.3,3.8384,8,307,17.4,385.91,2.47,41.7\n",
      "0.33147,0,6.2,0,0.507,8.247,70.4,3.6519,8,307,17.4,378.95,3.95,48.3\n",
      "0.44791,0,6.2,1,0.507,6.726,66.5,3.6519,8,307,17.4,360.2,8.05,29\n",
      "0.33045,0,6.2,0,0.507,6.086,61.5,3.6519,8,307,17.4,376.75,10.88,24\n",
      "0.52058,0,6.2,1,0.507,6.631,76.5,4.148,8,307,17.4,388.45,9.54,25.1\n",
      "0.51183,0,6.2,0,0.507,7.358,71.6,4.148,8,307,17.4,390.07,4.73,31.5\n",
      "0.08244,30,4.93,0,0.428,6.481,18.5,6.1899,6,300,16.6,379.41,6.36,23.7\n",
      "0.09252,30,4.93,0,0.428,6.606,42.2,6.1899,6,300,16.6,383.78,7.37,23.3\n",
      "0.11329,30,4.93,0,0.428,6.897,54.3,6.3361,6,300,16.6,391.25,11.38,22\n",
      "0.10612,30,4.93,0,0.428,6.095,65.1,6.3361,6,300,16.6,394.62,12.4,20.1\n",
      "0.1029,30,4.93,0,0.428,6.358,52.9,7.0355,6,300,16.6,372.75,11.22,22.2\n",
      "0.12757,30,4.93,0,0.428,6.393,7.8,7.0355,6,300,16.6,374.71,5.19,23.7\n",
      "0.20608,22,5.86,0,0.431,5.593,76.5,7.9549,7,330,19.1,372.49,12.5,17.6\n",
      "0.19133,22,5.86,0,0.431,5.605,70.2,7.9549,7,330,19.1,389.13,18.46,18.5\n",
      "0.33983,22,5.86,0,0.431,6.108,34.9,8.0555,7,330,19.1,390.18,9.16,24.3\n",
      "0.19657,22,5.86,0,0.431,6.226,79.2,8.0555,7,330,19.1,376.14,10.15,20.5\n",
      "0.16439,22,5.86,0,0.431,6.433,49.1,7.8265,7,330,19.1,374.71,9.52,24.5\n",
      "0.19073,22,5.86,0,0.431,6.718,17.5,7.8265,7,330,19.1,393.74,6.56,26.2\n",
      "0.1403,22,5.86,0,0.431,6.487,13,7.3967,7,330,19.1,396.28,5.9,24.4\n",
      "0.21409,22,5.86,0,0.431,6.438,8.9,7.3967,7,330,19.1,377.07,3.59,24.8\n",
      "0.08221,22,5.86,0,0.431,6.957,6.8,8.9067,7,330,19.1,386.09,3.53,29.6\n",
      "0.36894,22,5.86,0,0.431,8.259,8.4,8.9067,7,330,19.1,396.9,3.54,42.8\n",
      "0.04819,80,3.64,0,0.392,6.108,32,9.2203,1,315,16.4,392.89,6.57,21.9\n",
      "0.03548,80,3.64,0,0.392,5.876,19.1,9.2203,1,315,16.4,395.18,9.25,20.9\n",
      "0.01538,90,3.75,0,0.394,7.454,34.2,6.3361,3,244,15.9,386.34,3.11,44\n",
      "0.61154,20,3.97,0,0.647,8.704,86.9,1.801,5,264,13,389.7,5.12,50\n",
      "0.66351,20,3.97,0,0.647,7.333,100,1.8946,5,264,13,383.29,7.79,36\n",
      "0.65665,20,3.97,0,0.647,6.842,100,2.0107,5,264,13,391.93,6.9,30.1\n",
      "0.54011,20,3.97,0,0.647,7.203,81.8,2.1121,5,264,13,392.8,9.59,33.8\n",
      "0.53412,20,3.97,0,0.647,7.52,89.4,2.1398,5,264,13,388.37,7.26,43.1\n",
      "0.52014,20,3.97,0,0.647,8.398,91.5,2.2885,5,264,13,386.86,5.91,48.8\n",
      "0.82526,20,3.97,0,0.647,7.327,94.5,2.0788,5,264,13,393.42,11.25,31\n",
      "0.55007,20,3.97,0,0.647,7.206,91.6,1.9301,5,264,13,387.89,8.1,36.5\n",
      "0.76162,20,3.97,0,0.647,5.56,62.8,1.9865,5,264,13,392.4,10.45,22.8\n",
      "0.7857,20,3.97,0,0.647,7.014,84.6,2.1329,5,264,13,384.07,14.79,30.7\n",
      "0.57834,20,3.97,0,0.575,8.297,67,2.4216,5,264,13,384.54,7.44,50\n",
      "0.5405,20,3.97,0,0.575,7.47,52.6,2.872,5,264,13,390.3,3.16,43.5\n",
      "0.09065,20,6.96,1,0.464,5.92,61.5,3.9175,3,223,18.6,391.34,13.65,20.7\n",
      "0.29916,20,6.96,0,0.464,5.856,42.1,4.429,3,223,18.6,388.65,13,21.1\n",
      "0.16211,20,6.96,0,0.464,6.24,16.3,4.429,3,223,18.6,396.9,6.59,25.2\n",
      "0.1146,20,6.96,0,0.464,6.538,58.7,3.9175,3,223,18.6,394.96,7.73,24.4\n",
      "0.22188,20,6.96,1,0.464,7.691,51.8,4.3665,3,223,18.6,390.77,6.58,35.2\n",
      "0.05644,40,6.41,1,0.447,6.758,32.9,4.0776,4,254,17.6,396.9,3.53,32.4\n",
      "0.09604,40,6.41,0,0.447,6.854,42.8,4.2673,4,254,17.6,396.9,2.98,32\n",
      "0.10469,40,6.41,1,0.447,7.267,49,4.7872,4,254,17.6,389.25,6.05,33.2\n",
      "0.06127,40,6.41,1,0.447,6.826,27.6,4.8628,4,254,17.6,393.45,4.16,33.1\n",
      "0.07978,40,6.41,0,0.447,6.482,32.1,4.1403,4,254,17.6,396.9,7.19,29.1\n",
      "0.21038,20,3.33,0,0.4429,6.812,32.2,4.1007,5,216,14.9,396.9,4.85,35.1\n",
      "0.03578,20,3.33,0,0.4429,7.82,64.5,4.6947,5,216,14.9,387.31,3.76,45.4\n",
      "0.03705,20,3.33,0,0.4429,6.968,37.2,5.2447,5,216,14.9,392.23,4.59,35.4\n",
      "0.06129,20,3.33,1,0.4429,7.645,49.7,5.2119,5,216,14.9,377.07,3.01,46\n",
      "0.01501,90,1.21,1,0.401,7.923,24.8,5.885,1,198,13.6,395.52,3.16,50\n",
      "0.00906,90,2.97,0,0.4,7.088,20.8,7.3073,1,285,15.3,394.72,7.85,32.2\n",
      "0.01096,55,2.25,0,0.389,6.453,31.9,7.3073,1,300,15.3,394.72,8.23,22\n",
      "0.01965,80,1.76,0,0.385,6.23,31.5,9.0892,1,241,18.2,341.6,12.93,20.1\n",
      "0.03871,52.5,5.32,0,0.405,6.209,31.3,7.3172,6,293,16.6,396.9,7.14,23.2\n",
      "0.0459,52.5,5.32,0,0.405,6.315,45.6,7.3172,6,293,16.6,396.9,7.6,22.3\n",
      "0.04297,52.5,5.32,0,0.405,6.565,22.9,7.3172,6,293,16.6,371.72,9.51,24.8\n",
      "0.03502,80,4.95,0,0.411,6.861,27.9,5.1167,4,245,19.2,396.9,3.33,28.5\n",
      "0.07886,80,4.95,0,0.411,7.148,27.7,5.1167,4,245,19.2,396.9,3.56,37.3\n",
      "0.03615,80,4.95,0,0.411,6.63,23.4,5.1167,4,245,19.2,396.9,4.7,27.9\n",
      "0.08265,0,13.92,0,0.437,6.127,18.4,5.5027,4,289,16,396.9,8.58,23.9\n",
      "0.08199,0,13.92,0,0.437,6.009,42.3,5.5027,4,289,16,396.9,10.4,21.7\n",
      "0.12932,0,13.92,0,0.437,6.678,31.1,5.9604,4,289,16,396.9,6.27,28.6\n",
      "0.05372,0,13.92,0,0.437,6.549,51,5.9604,4,289,16,392.85,7.39,27.1\n",
      "0.14103,0,13.92,0,0.437,5.79,58,6.32,4,289,16,396.9,15.84,20.3\n",
      "0.06466,70,2.24,0,0.4,6.345,20.1,7.8278,5,358,14.8,368.24,4.97,22.5\n",
      "0.05561,70,2.24,0,0.4,7.041,10,7.8278,5,358,14.8,371.58,4.74,29\n",
      "0.04417,70,2.24,0,0.4,6.871,47.4,7.8278,5,358,14.8,390.86,6.07,24.8\n",
      "0.03537,34,6.09,0,0.433,6.59,40.4,5.4917,7,329,16.1,395.75,9.5,22\n",
      "0.09266,34,6.09,0,0.433,6.495,18.4,5.4917,7,329,16.1,383.61,8.67,26.4\n",
      "0.1,34,6.09,0,0.433,6.982,17.7,5.4917,7,329,16.1,390.43,4.86,33.1\n",
      "0.05515,33,2.18,0,0.472,7.236,41.1,4.022,7,222,18.4,393.68,6.93,36.1\n",
      "0.05479,33,2.18,0,0.472,6.616,58.1,3.37,7,222,18.4,393.36,8.93,28.4\n",
      "0.07503,33,2.18,0,0.472,7.42,71.9,3.0992,7,222,18.4,396.9,6.47,33.4\n",
      "0.04932,33,2.18,0,0.472,6.849,70.3,3.1827,7,222,18.4,396.9,7.53,28.2\n",
      "0.49298,0,9.9,0,0.544,6.635,82.5,3.3175,4,304,18.4,396.9,4.54,22.8\n",
      "0.3494,0,9.9,0,0.544,5.972,76.7,3.1025,4,304,18.4,396.24,9.97,20.3\n",
      "2.63548,0,9.9,0,0.544,4.973,37.8,2.5194,4,304,18.4,350.45,12.64,16.1\n",
      "0.79041,0,9.9,0,0.544,6.122,52.8,2.6403,4,304,18.4,396.9,5.98,22.1\n",
      "0.26169,0,9.9,0,0.544,6.023,90.4,2.834,4,304,18.4,396.3,11.72,19.4\n",
      "0.26938,0,9.9,0,0.544,6.266,82.8,3.2628,4,304,18.4,393.39,7.9,21.6\n",
      "0.3692,0,9.9,0,0.544,6.567,87.3,3.6023,4,304,18.4,395.69,9.28,23.8\n",
      "0.25356,0,9.9,0,0.544,5.705,77.7,3.945,4,304,18.4,396.42,11.5,16.2\n",
      "0.31827,0,9.9,0,0.544,5.914,83.2,3.9986,4,304,18.4,390.7,18.33,17.8\n",
      "0.24522,0,9.9,0,0.544,5.782,71.7,4.0317,4,304,18.4,396.9,15.94,19.8\n",
      "0.40202,0,9.9,0,0.544,6.382,67.2,3.5325,4,304,18.4,395.21,10.36,23.1\n",
      "0.47547,0,9.9,0,0.544,6.113,58.8,4.0019,4,304,18.4,396.23,12.73,21\n",
      "0.1676,0,7.38,0,0.493,6.426,52.3,4.5404,5,287,19.6,396.9,7.2,23.8\n",
      "0.18159,0,7.38,0,0.493,6.376,54.3,4.5404,5,287,19.6,396.9,6.87,23.1\n",
      "0.35114,0,7.38,0,0.493,6.041,49.9,4.7211,5,287,19.6,396.9,7.7,20.4\n",
      "0.28392,0,7.38,0,0.493,5.708,74.3,4.7211,5,287,19.6,391.13,11.74,18.5\n",
      "0.34109,0,7.38,0,0.493,6.415,40.1,4.7211,5,287,19.6,396.9,6.12,25\n",
      "0.19186,0,7.38,0,0.493,6.431,14.7,5.4159,5,287,19.6,393.68,5.08,24.6\n",
      "0.30347,0,7.38,0,0.493,6.312,28.9,5.4159,5,287,19.6,396.9,6.15,23\n",
      "0.24103,0,7.38,0,0.493,6.083,43.7,5.4159,5,287,19.6,396.9,12.79,22.2\n",
      "0.06617,0,3.24,0,0.46,5.868,25.8,5.2146,4,430,16.9,382.44,9.97,19.3\n",
      "0.06724,0,3.24,0,0.46,6.333,17.2,5.2146,4,430,16.9,375.21,7.34,22.6\n",
      "0.04544,0,3.24,0,0.46,6.144,32.2,5.8736,4,430,16.9,368.57,9.09,19.8\n",
      "0.05023,35,6.06,0,0.4379,5.706,28.4,6.6407,1,304,16.9,394.02,12.43,17.1\n",
      "0.03466,35,6.06,0,0.4379,6.031,23.3,6.6407,1,304,16.9,362.25,7.83,19.4\n",
      "0.05083,0,5.19,0,0.515,6.316,38.1,6.4584,5,224,20.2,389.71,5.68,22.2\n",
      "0.03738,0,5.19,0,0.515,6.31,38.5,6.4584,5,224,20.2,389.4,6.75,20.7\n",
      "0.03961,0,5.19,0,0.515,6.037,34.5,5.9853,5,224,20.2,396.9,8.01,21.1\n",
      "0.03427,0,5.19,0,0.515,5.869,46.3,5.2311,5,224,20.2,396.9,9.8,19.5\n",
      "0.03041,0,5.19,0,0.515,5.895,59.6,5.615,5,224,20.2,394.81,10.56,18.5\n",
      "0.03306,0,5.19,0,0.515,6.059,37.3,4.8122,5,224,20.2,396.14,8.51,20.6\n",
      "0.05497,0,5.19,0,0.515,5.985,45.4,4.8122,5,224,20.2,396.9,9.74,19\n",
      "0.06151,0,5.19,0,0.515,5.968,58.5,4.8122,5,224,20.2,396.9,9.29,18.7\n",
      "0.01301,35,1.52,0,0.442,7.241,49.3,7.0379,1,284,15.5,394.74,5.49,32.7\n",
      "0.02498,0,1.89,0,0.518,6.54,59.7,6.2669,1,422,15.9,389.96,8.65,16.5\n",
      "0.02543,55,3.78,0,0.484,6.696,56.4,5.7321,5,370,17.6,396.9,7.18,23.9\n",
      "0.03049,55,3.78,0,0.484,6.874,28.1,6.4654,5,370,17.6,387.97,4.61,31.2\n",
      "0.03113,0,4.39,0,0.442,6.014,48.5,8.0136,3,352,18.8,385.64,10.53,17.5\n",
      "0.06162,0,4.39,0,0.442,5.898,52.3,8.0136,3,352,18.8,364.61,12.67,17.2\n",
      "0.0187,85,4.15,0,0.429,6.516,27.7,8.5353,4,351,17.9,392.43,6.36,23.1\n",
      "0.01501,80,2.01,0,0.435,6.635,29.7,8.344,4,280,17,390.94,5.99,24.5\n",
      "0.02899,40,1.25,0,0.429,6.939,34.5,8.7921,1,335,19.7,389.85,5.89,26.6\n",
      "0.06211,40,1.25,0,0.429,6.49,44.4,8.7921,1,335,19.7,396.9,5.98,22.9\n",
      "0.0795,60,1.69,0,0.411,6.579,35.9,10.7103,4,411,18.3,370.78,5.49,24.1\n",
      "0.07244,60,1.69,0,0.411,5.884,18.5,10.7103,4,411,18.3,392.33,7.79,18.6\n",
      "0.01709,90,2.02,0,0.41,6.728,36.1,12.1265,5,187,17,384.46,4.5,30.1\n",
      "0.04301,80,1.91,0,0.413,5.663,21.9,10.5857,4,334,22,382.8,8.05,18.2\n",
      "0.10659,80,1.91,0,0.413,5.936,19.5,10.5857,4,334,22,376.04,5.57,20.6\n",
      "8.98296,0,18.1,1,0.77,6.212,97.4,2.1222,24,666,20.2,377.73,17.6,17.8\n",
      "3.8497,0,18.1,1,0.77,6.395,91,2.5052,24,666,20.2,391.34,13.27,21.7\n",
      "5.20177,0,18.1,1,0.77,6.127,83.4,2.7227,24,666,20.2,395.43,11.48,22.7\n",
      "4.26131,0,18.1,0,0.77,6.112,81.3,2.5091,24,666,20.2,390.74,12.67,22.6\n",
      "4.54192,0,18.1,0,0.77,6.398,88,2.5182,24,666,20.2,374.56,7.79,25\n",
      "3.83684,0,18.1,0,0.77,6.251,91.1,2.2955,24,666,20.2,350.65,14.19,19.9\n",
      "3.67822,0,18.1,0,0.77,5.362,96.2,2.1036,24,666,20.2,380.79,10.19,20.8\n",
      "4.22239,0,18.1,1,0.77,5.803,89,1.9047,24,666,20.2,353.04,14.64,16.8\n",
      "3.47428,0,18.1,1,0.718,8.78,82.9,1.9047,24,666,20.2,354.55,5.29,21.9\n",
      "4.55587,0,18.1,0,0.718,3.561,87.9,1.6132,24,666,20.2,354.7,7.12,27.5\n",
      "3.69695,0,18.1,0,0.718,4.963,91.4,1.7523,24,666,20.2,316.03,14,21.9\n",
      "13.5222,0,18.1,0,0.631,3.863,100,1.5106,24,666,20.2,131.42,13.33,23.1\n",
      "4.89822,0,18.1,0,0.631,4.97,100,1.3325,24,666,20.2,375.52,3.26,50\n",
      "5.66998,0,18.1,1,0.631,6.683,96.8,1.3567,24,666,20.2,375.33,3.73,50\n",
      "6.53876,0,18.1,1,0.631,7.016,97.5,1.2024,24,666,20.2,392.05,2.96,50\n",
      "9.2323,0,18.1,0,0.631,6.216,100,1.1691,24,666,20.2,366.15,9.53,50\n",
      "8.26725,0,18.1,1,0.668,5.875,89.6,1.1296,24,666,20.2,347.88,8.88,50\n",
      "11.1081,0,18.1,0,0.668,4.906,100,1.1742,24,666,20.2,396.9,34.77,13.8\n",
      "18.4982,0,18.1,0,0.668,4.138,100,1.137,24,666,20.2,396.9,37.97,13.8\n",
      "19.6091,0,18.1,0,0.671,7.313,97.9,1.3163,24,666,20.2,396.9,13.44,15\n",
      "15.288,0,18.1,0,0.671,6.649,93.3,1.3449,24,666,20.2,363.02,23.24,13.9\n",
      "9.82349,0,18.1,0,0.671,6.794,98.8,1.358,24,666,20.2,396.9,21.24,13.3\n",
      "23.6482,0,18.1,0,0.671,6.38,96.2,1.3861,24,666,20.2,396.9,23.69,13.1\n",
      "17.8667,0,18.1,0,0.671,6.223,100,1.3861,24,666,20.2,393.74,21.78,10.2\n",
      "88.9762,0,18.1,0,0.671,6.968,91.9,1.4165,24,666,20.2,396.9,17.21,10.4\n",
      "15.8744,0,18.1,0,0.671,6.545,99.1,1.5192,24,666,20.2,396.9,21.08,10.9\n",
      "9.18702,0,18.1,0,0.7,5.536,100,1.5804,24,666,20.2,396.9,23.6,11.3\n",
      "7.99248,0,18.1,0,0.7,5.52,100,1.5331,24,666,20.2,396.9,24.56,12.3\n",
      "20.0849,0,18.1,0,0.7,4.368,91.2,1.4395,24,666,20.2,285.83,30.63,8.8\n",
      "16.8118,0,18.1,0,0.7,5.277,98.1,1.4261,24,666,20.2,396.9,30.81,7.2\n",
      "24.3938,0,18.1,0,0.7,4.652,100,1.4672,24,666,20.2,396.9,28.28,10.5\n",
      "22.5971,0,18.1,0,0.7,5,89.5,1.5184,24,666,20.2,396.9,31.99,7.4\n",
      "14.3337,0,18.1,0,0.7,4.88,100,1.5895,24,666,20.2,372.92,30.62,10.2\n",
      "8.15174,0,18.1,0,0.7,5.39,98.9,1.7281,24,666,20.2,396.9,20.85,11.5\n",
      "6.96215,0,18.1,0,0.7,5.713,97,1.9265,24,666,20.2,394.43,17.11,15.1\n",
      "5.29305,0,18.1,0,0.7,6.051,82.5,2.1678,24,666,20.2,378.38,18.76,23.2\n",
      "11.5779,0,18.1,0,0.7,5.036,97,1.77,24,666,20.2,396.9,25.68,9.7\n",
      "8.64476,0,18.1,0,0.693,6.193,92.6,1.7912,24,666,20.2,396.9,15.17,13.8\n",
      "13.3598,0,18.1,0,0.693,5.887,94.7,1.7821,24,666,20.2,396.9,16.35,12.7\n",
      "8.71675,0,18.1,0,0.693,6.471,98.8,1.7257,24,666,20.2,391.98,17.12,13.1\n",
      "5.87205,0,18.1,0,0.693,6.405,96,1.6768,24,666,20.2,396.9,19.37,12.5\n",
      "7.67202,0,18.1,0,0.693,5.747,98.9,1.6334,24,666,20.2,393.1,19.92,8.5\n",
      "38.3518,0,18.1,0,0.693,5.453,100,1.4896,24,666,20.2,396.9,30.59,5\n",
      "9.91655,0,18.1,0,0.693,5.852,77.8,1.5004,24,666,20.2,338.16,29.97,6.3\n",
      "25.0461,0,18.1,0,0.693,5.987,100,1.5888,24,666,20.2,396.9,26.77,5.6\n",
      "14.2362,0,18.1,0,0.693,6.343,100,1.5741,24,666,20.2,396.9,20.32,7.2\n",
      "9.59571,0,18.1,0,0.693,6.404,100,1.639,24,666,20.2,376.11,20.31,12.1\n",
      "24.8017,0,18.1,0,0.693,5.349,96,1.7028,24,666,20.2,396.9,19.77,8.3\n",
      "41.5292,0,18.1,0,0.693,5.531,85.4,1.6074,24,666,20.2,329.46,27.38,8.5\n",
      "67.9208,0,18.1,0,0.693,5.683,100,1.4254,24,666,20.2,384.97,22.98,5\n",
      "20.7162,0,18.1,0,0.659,4.138,100,1.1781,24,666,20.2,370.22,23.34,11.9\n",
      "11.9511,0,18.1,0,0.659,5.608,100,1.2852,24,666,20.2,332.09,12.13,27.9\n",
      "7.40389,0,18.1,0,0.597,5.617,97.9,1.4547,24,666,20.2,314.64,26.4,17.2\n",
      "14.4383,0,18.1,0,0.597,6.852,100,1.4655,24,666,20.2,179.36,19.78,27.5\n",
      "51.1358,0,18.1,0,0.597,5.757,100,1.413,24,666,20.2,2.6,10.11,15\n",
      "14.0507,0,18.1,0,0.597,6.657,100,1.5275,24,666,20.2,35.05,21.22,17.2\n",
      "18.811,0,18.1,0,0.597,4.628,100,1.5539,24,666,20.2,28.79,34.37,17.9\n",
      "28.6558,0,18.1,0,0.597,5.155,100,1.5894,24,666,20.2,210.97,20.08,16.3\n",
      "45.7461,0,18.1,0,0.693,4.519,100,1.6582,24,666,20.2,88.27,36.98,7\n",
      "18.0846,0,18.1,0,0.679,6.434,100,1.8347,24,666,20.2,27.25,29.05,7.2\n",
      "10.8342,0,18.1,0,0.679,6.782,90.8,1.8195,24,666,20.2,21.57,25.79,7.5\n",
      "25.9406,0,18.1,0,0.679,5.304,89.1,1.6475,24,666,20.2,127.36,26.64,10.4\n",
      "73.5341,0,18.1,0,0.679,5.957,100,1.8026,24,666,20.2,16.45,20.62,8.8\n",
      "11.8123,0,18.1,0,0.718,6.824,76.5,1.794,24,666,20.2,48.45,22.74,8.4\n",
      "11.0874,0,18.1,0,0.718,6.411,100,1.8589,24,666,20.2,318.75,15.02,16.7\n",
      "7.02259,0,18.1,0,0.718,6.006,95.3,1.8746,24,666,20.2,319.98,15.7,14.2\n",
      "12.0482,0,18.1,0,0.614,5.648,87.6,1.9512,24,666,20.2,291.55,14.1,20.8\n",
      "7.05042,0,18.1,0,0.614,6.103,85.1,2.0218,24,666,20.2,2.52,23.29,13.4\n",
      "8.79212,0,18.1,0,0.584,5.565,70.6,2.0635,24,666,20.2,3.65,17.16,11.7\n",
      "15.8603,0,18.1,0,0.679,5.896,95.4,1.9096,24,666,20.2,7.68,24.39,8.3\n",
      "12.2472,0,18.1,0,0.584,5.837,59.7,1.9976,24,666,20.2,24.65,15.69,10.2\n",
      "37.6619,0,18.1,0,0.679,6.202,78.7,1.8629,24,666,20.2,18.82,14.52,10.9\n",
      "7.36711,0,18.1,0,0.679,6.193,78.1,1.9356,24,666,20.2,96.73,21.52,11\n",
      "9.33889,0,18.1,0,0.679,6.38,95.6,1.9682,24,666,20.2,60.72,24.08,9.5\n",
      "8.49213,0,18.1,0,0.584,6.348,86.1,2.0527,24,666,20.2,83.45,17.64,14.5\n",
      "10.0623,0,18.1,0,0.584,6.833,94.3,2.0882,24,666,20.2,81.33,19.69,14.1\n",
      "6.44405,0,18.1,0,0.584,6.425,74.8,2.2004,24,666,20.2,97.95,12.03,16.1\n",
      "5.58107,0,18.1,0,0.713,6.436,87.9,2.3158,24,666,20.2,100.19,16.22,14.3\n",
      "13.9134,0,18.1,0,0.713,6.208,95,2.2222,24,666,20.2,100.63,15.17,11.7\n",
      "11.1604,0,18.1,0,0.74,6.629,94.6,2.1247,24,666,20.2,109.85,23.27,13.4\n",
      "14.4208,0,18.1,0,0.74,6.461,93.3,2.0026,24,666,20.2,27.49,18.05,9.6\n",
      "15.1772,0,18.1,0,0.74,6.152,100,1.9142,24,666,20.2,9.32,26.45,8.7\n",
      "13.6781,0,18.1,0,0.74,5.935,87.9,1.8206,24,666,20.2,68.95,34.02,8.4\n",
      "9.39063,0,18.1,0,0.74,5.627,93.9,1.8172,24,666,20.2,396.9,22.88,12.8\n",
      "22.0511,0,18.1,0,0.74,5.818,92.4,1.8662,24,666,20.2,391.45,22.11,10.5\n",
      "9.72418,0,18.1,0,0.74,6.406,97.2,2.0651,24,666,20.2,385.96,19.52,17.1\n",
      "5.66637,0,18.1,0,0.74,6.219,100,2.0048,24,666,20.2,395.69,16.59,18.4\n",
      "9.96654,0,18.1,0,0.74,6.485,100,1.9784,24,666,20.2,386.73,18.85,15.4\n",
      "12.8023,0,18.1,0,0.74,5.854,96.6,1.8956,24,666,20.2,240.52,23.79,10.8\n",
      "10.6718,0,18.1,0,0.74,6.459,94.8,1.9879,24,666,20.2,43.06,23.98,11.8\n",
      "6.28807,0,18.1,0,0.74,6.341,96.4,2.072,24,666,20.2,318.01,17.79,14.9\n",
      "9.92485,0,18.1,0,0.74,6.251,96.6,2.198,24,666,20.2,388.52,16.44,12.6\n",
      "9.32909,0,18.1,0,0.713,6.185,98.7,2.2616,24,666,20.2,396.9,18.13,14.1\n",
      "7.52601,0,18.1,0,0.713,6.417,98.3,2.185,24,666,20.2,304.21,19.31,13\n",
      "6.71772,0,18.1,0,0.713,6.749,92.6,2.3236,24,666,20.2,0.32,17.44,13.4\n",
      "5.44114,0,18.1,0,0.713,6.655,98.2,2.3552,24,666,20.2,355.29,17.73,15.2\n",
      "5.09017,0,18.1,0,0.713,6.297,91.8,2.3682,24,666,20.2,385.09,17.27,16.1\n",
      "8.24809,0,18.1,0,0.713,7.393,99.3,2.4527,24,666,20.2,375.87,16.74,17.8\n",
      "9.51363,0,18.1,0,0.713,6.728,94.1,2.4961,24,666,20.2,6.68,18.71,14.9\n",
      "4.75237,0,18.1,0,0.713,6.525,86.5,2.4358,24,666,20.2,50.92,18.13,14.1\n",
      "4.66883,0,18.1,0,0.713,5.976,87.9,2.5806,24,666,20.2,10.48,19.01,12.7\n",
      "8.20058,0,18.1,0,0.713,5.936,80.3,2.7792,24,666,20.2,3.5,16.94,13.5\n",
      "7.75223,0,18.1,0,0.713,6.301,83.7,2.7831,24,666,20.2,272.21,16.23,14.9\n",
      "6.80117,0,18.1,0,0.713,6.081,84.4,2.7175,24,666,20.2,396.9,14.7,20\n",
      "4.81213,0,18.1,0,0.713,6.701,90,2.5975,24,666,20.2,255.23,16.42,16.4\n",
      "3.69311,0,18.1,0,0.713,6.376,88.4,2.5671,24,666,20.2,391.43,14.65,17.7\n",
      "6.65492,0,18.1,0,0.713,6.317,83,2.7344,24,666,20.2,396.9,13.99,19.5\n",
      "5.82115,0,18.1,0,0.713,6.513,89.9,2.8016,24,666,20.2,393.82,10.29,20.2\n",
      "7.83932,0,18.1,0,0.655,6.209,65.4,2.9634,24,666,20.2,396.9,13.22,21.4\n",
      "3.1636,0,18.1,0,0.655,5.759,48.2,3.0665,24,666,20.2,334.4,14.13,19.9\n",
      "3.77498,0,18.1,0,0.655,5.952,84.7,2.8715,24,666,20.2,22.01,17.15,19\n",
      "4.42228,0,18.1,0,0.584,6.003,94.5,2.5403,24,666,20.2,331.29,21.32,19.1\n",
      "15.5757,0,18.1,0,0.58,5.926,71,2.9084,24,666,20.2,368.74,18.13,19.1\n",
      "13.0751,0,18.1,0,0.58,5.713,56.7,2.8237,24,666,20.2,396.9,14.76,20.1\n",
      "4.34879,0,18.1,0,0.58,6.167,84,3.0334,24,666,20.2,396.9,16.29,19.9\n",
      "4.03841,0,18.1,0,0.532,6.229,90.7,3.0993,24,666,20.2,395.33,12.87,19.6\n",
      "3.56868,0,18.1,0,0.58,6.437,75,2.8965,24,666,20.2,393.37,14.36,23.2\n",
      "4.64689,0,18.1,0,0.614,6.98,67.6,2.5329,24,666,20.2,374.68,11.66,29.8\n",
      "8.05579,0,18.1,0,0.584,5.427,95.4,2.4298,24,666,20.2,352.58,18.14,13.8\n",
      "6.39312,0,18.1,0,0.584,6.162,97.4,2.206,24,666,20.2,302.76,24.1,13.3\n",
      "4.87141,0,18.1,0,0.614,6.484,93.6,2.3053,24,666,20.2,396.21,18.68,16.7\n",
      "15.0234,0,18.1,0,0.614,5.304,97.3,2.1007,24,666,20.2,349.48,24.91,12\n",
      "10.233,0,18.1,0,0.614,6.185,96.7,2.1705,24,666,20.2,379.7,18.03,14.6\n",
      "14.3337,0,18.1,0,0.614,6.229,88,1.9512,24,666,20.2,383.32,13.11,21.4\n",
      "5.82401,0,18.1,0,0.532,6.242,64.7,3.4242,24,666,20.2,396.9,10.74,23\n",
      "5.70818,0,18.1,0,0.532,6.75,74.9,3.3317,24,666,20.2,393.07,7.74,23.7\n",
      "5.73116,0,18.1,0,0.532,7.061,77,3.4106,24,666,20.2,395.28,7.01,25\n",
      "2.81838,0,18.1,0,0.532,5.762,40.3,4.0983,24,666,20.2,392.92,10.42,21.8\n",
      "2.37857,0,18.1,0,0.583,5.871,41.9,3.724,24,666,20.2,370.73,13.34,20.6\n",
      "3.67367,0,18.1,0,0.583,6.312,51.9,3.9917,24,666,20.2,388.62,10.58,21.2\n",
      "5.69175,0,18.1,0,0.583,6.114,79.8,3.5459,24,666,20.2,392.68,14.98,19.1\n",
      "4.83567,0,18.1,0,0.583,5.905,53.2,3.1523,24,666,20.2,388.22,11.45,20.6\n",
      "0.15086,0,27.74,0,0.609,5.454,92.7,1.8209,4,711,20.1,395.09,18.06,15.2\n",
      "0.18337,0,27.74,0,0.609,5.414,98.3,1.7554,4,711,20.1,344.05,23.97,7\n",
      "0.20746,0,27.74,0,0.609,5.093,98,1.8226,4,711,20.1,318.43,29.68,8.1\n",
      "0.10574,0,27.74,0,0.609,5.983,98.8,1.8681,4,711,20.1,390.11,18.07,13.6\n",
      "0.11132,0,27.74,0,0.609,5.983,83.5,2.1099,4,711,20.1,396.9,13.35,20.1\n",
      "0.17331,0,9.69,0,0.585,5.707,54,2.3817,6,391,19.2,396.9,12.01,21.8\n",
      "0.27957,0,9.69,0,0.585,5.926,42.6,2.3817,6,391,19.2,396.9,13.59,24.5\n",
      "0.17899,0,9.69,0,0.585,5.67,28.8,2.7986,6,391,19.2,393.29,17.6,23.1\n",
      "0.2896,0,9.69,0,0.585,5.39,72.9,2.7986,6,391,19.2,396.9,21.14,19.7\n",
      "0.26838,0,9.69,0,0.585,5.794,70.6,2.8927,6,391,19.2,396.9,14.1,18.3\n",
      "0.23912,0,9.69,0,0.585,6.019,65.3,2.4091,6,391,19.2,396.9,12.92,21.2\n",
      "0.17783,0,9.69,0,0.585,5.569,73.5,2.3999,6,391,19.2,395.77,15.1,17.5\n",
      "0.22438,0,9.69,0,0.585,6.027,79.7,2.4982,6,391,19.2,396.9,14.33,16.8\n",
      "0.06263,0,11.93,0,0.573,6.593,69.1,2.4786,1,273,21,391.99,9.67,22.4\n",
      "0.04527,0,11.93,0,0.573,6.12,76.7,2.2875,1,273,21,396.9,9.08,20.6\n",
      "0.06076,0,11.93,0,0.573,6.976,91,2.1675,1,273,21,396.9,5.64,23.9\n",
      "0.10959,0,11.93,0,0.573,6.794,89.3,2.3889,1,273,21,393.45,6.48,22\n",
      "0.04741,0,11.93,0,0.573,6.03,80.8,2.505,1,273,21,396.9,7.88,11.9\n",
      "\n"
     ]
    }
   ],
   "source": [
    "from io import StringIO\n",
    "\n",
    "rf = open('boston_house_prices.csv').read()\n",
    "print(rf)"
   ]
  },
  {
   "cell_type": "code",
   "execution_count": 68,
   "metadata": {},
   "outputs": [
    {
     "data": {
      "text/plain": [
       "numpy.ndarray"
      ]
     },
     "execution_count": 68,
     "metadata": {},
     "output_type": "execute_result"
    }
   ],
   "source": [
    "y = np.genfromtxt('boston_house_prices.csv', delimiter=',', skip_header=1, names=True, dtype='float')\n",
    "type(y)"
   ]
  },
  {
   "cell_type": "code",
   "execution_count": 69,
   "metadata": {},
   "outputs": [
    {
     "data": {
      "text/plain": [
       "array([(6.32000e-03,  18. ,  2.31, 0., 0.538 , 6.575,  65.2,  4.09  ,  1., 296., 15.3, 3.9690e+02,  4.98, 24. ),\n",
       "       (2.73100e-02,   0. ,  7.07, 0., 0.469 , 6.421,  78.9,  4.9671,  2., 242., 17.8, 3.9690e+02,  9.14, 21.6),\n",
       "       (2.72900e-02,   0. ,  7.07, 0., 0.469 , 7.185,  61.1,  4.9671,  2., 242., 17.8, 3.9283e+02,  4.03, 34.7),\n",
       "       (3.23700e-02,   0. ,  2.18, 0., 0.458 , 6.998,  45.8,  6.0622,  3., 222., 18.7, 3.9463e+02,  2.94, 33.4),\n",
       "       (6.90500e-02,   0. ,  2.18, 0., 0.458 , 7.147,  54.2,  6.0622,  3., 222., 18.7, 3.9690e+02,  5.33, 36.2),\n",
       "       (2.98500e-02,   0. ,  2.18, 0., 0.458 , 6.43 ,  58.7,  6.0622,  3., 222., 18.7, 3.9412e+02,  5.21, 28.7),\n",
       "       (8.82900e-02,  12.5,  7.87, 0., 0.524 , 6.012,  66.6,  5.5605,  5., 311., 15.2, 3.9560e+02, 12.43, 22.9),\n",
       "       (1.44550e-01,  12.5,  7.87, 0., 0.524 , 6.172,  96.1,  5.9505,  5., 311., 15.2, 3.9690e+02, 19.15, 27.1),\n",
       "       (2.11240e-01,  12.5,  7.87, 0., 0.524 , 5.631, 100. ,  6.0821,  5., 311., 15.2, 3.8663e+02, 29.93, 16.5),\n",
       "       (1.70040e-01,  12.5,  7.87, 0., 0.524 , 6.004,  85.9,  6.5921,  5., 311., 15.2, 3.8671e+02, 17.1 , 18.9),\n",
       "       (2.24890e-01,  12.5,  7.87, 0., 0.524 , 6.377,  94.3,  6.3467,  5., 311., 15.2, 3.9252e+02, 20.45, 15. ),\n",
       "       (1.17470e-01,  12.5,  7.87, 0., 0.524 , 6.009,  82.9,  6.2267,  5., 311., 15.2, 3.9690e+02, 13.27, 18.9),\n",
       "       (9.37800e-02,  12.5,  7.87, 0., 0.524 , 5.889,  39. ,  5.4509,  5., 311., 15.2, 3.9050e+02, 15.71, 21.7),\n",
       "       (6.29760e-01,   0. ,  8.14, 0., 0.538 , 5.949,  61.8,  4.7075,  4., 307., 21. , 3.9690e+02,  8.26, 20.4),\n",
       "       (6.37960e-01,   0. ,  8.14, 0., 0.538 , 6.096,  84.5,  4.4619,  4., 307., 21. , 3.8002e+02, 10.26, 18.2),\n",
       "       (6.27390e-01,   0. ,  8.14, 0., 0.538 , 5.834,  56.5,  4.4986,  4., 307., 21. , 3.9562e+02,  8.47, 19.9),\n",
       "       (1.05393e+00,   0. ,  8.14, 0., 0.538 , 5.935,  29.3,  4.4986,  4., 307., 21. , 3.8685e+02,  6.58, 23.1),\n",
       "       (7.84200e-01,   0. ,  8.14, 0., 0.538 , 5.99 ,  81.7,  4.2579,  4., 307., 21. , 3.8675e+02, 14.67, 17.5),\n",
       "       (8.02710e-01,   0. ,  8.14, 0., 0.538 , 5.456,  36.6,  3.7965,  4., 307., 21. , 2.8899e+02, 11.69, 20.2),\n",
       "       (7.25800e-01,   0. ,  8.14, 0., 0.538 , 5.727,  69.5,  3.7965,  4., 307., 21. , 3.9095e+02, 11.28, 18.2),\n",
       "       (1.25179e+00,   0. ,  8.14, 0., 0.538 , 5.57 ,  98.1,  3.7979,  4., 307., 21. , 3.7657e+02, 21.02, 13.6),\n",
       "       (8.52040e-01,   0. ,  8.14, 0., 0.538 , 5.965,  89.2,  4.0123,  4., 307., 21. , 3.9253e+02, 13.83, 19.6),\n",
       "       (1.23247e+00,   0. ,  8.14, 0., 0.538 , 6.142,  91.7,  3.9769,  4., 307., 21. , 3.9690e+02, 18.72, 15.2),\n",
       "       (9.88430e-01,   0. ,  8.14, 0., 0.538 , 5.813, 100. ,  4.0952,  4., 307., 21. , 3.9454e+02, 19.88, 14.5),\n",
       "       (7.50260e-01,   0. ,  8.14, 0., 0.538 , 5.924,  94.1,  4.3996,  4., 307., 21. , 3.9433e+02, 16.3 , 15.6),\n",
       "       (8.40540e-01,   0. ,  8.14, 0., 0.538 , 5.599,  85.7,  4.4546,  4., 307., 21. , 3.0342e+02, 16.51, 13.9),\n",
       "       (6.71910e-01,   0. ,  8.14, 0., 0.538 , 5.813,  90.3,  4.682 ,  4., 307., 21. , 3.7688e+02, 14.81, 16.6),\n",
       "       (9.55770e-01,   0. ,  8.14, 0., 0.538 , 6.047,  88.8,  4.4534,  4., 307., 21. , 3.0638e+02, 17.28, 14.8),\n",
       "       (7.72990e-01,   0. ,  8.14, 0., 0.538 , 6.495,  94.4,  4.4547,  4., 307., 21. , 3.8794e+02, 12.8 , 18.4),\n",
       "       (1.00245e+00,   0. ,  8.14, 0., 0.538 , 6.674,  87.3,  4.239 ,  4., 307., 21. , 3.8023e+02, 11.98, 21. ),\n",
       "       (1.13081e+00,   0. ,  8.14, 0., 0.538 , 5.713,  94.1,  4.233 ,  4., 307., 21. , 3.6017e+02, 22.6 , 12.7),\n",
       "       (1.35472e+00,   0. ,  8.14, 0., 0.538 , 6.072, 100. ,  4.175 ,  4., 307., 21. , 3.7673e+02, 13.04, 14.5),\n",
       "       (1.38799e+00,   0. ,  8.14, 0., 0.538 , 5.95 ,  82. ,  3.99  ,  4., 307., 21. , 2.3260e+02, 27.71, 13.2),\n",
       "       (1.15172e+00,   0. ,  8.14, 0., 0.538 , 5.701,  95. ,  3.7872,  4., 307., 21. , 3.5877e+02, 18.35, 13.1),\n",
       "       (1.61282e+00,   0. ,  8.14, 0., 0.538 , 6.096,  96.9,  3.7598,  4., 307., 21. , 2.4831e+02, 20.34, 13.5),\n",
       "       (6.41700e-02,   0. ,  5.96, 0., 0.499 , 5.933,  68.2,  3.3603,  5., 279., 19.2, 3.9690e+02,  9.68, 18.9),\n",
       "       (9.74400e-02,   0. ,  5.96, 0., 0.499 , 5.841,  61.4,  3.3779,  5., 279., 19.2, 3.7756e+02, 11.41, 20. ),\n",
       "       (8.01400e-02,   0. ,  5.96, 0., 0.499 , 5.85 ,  41.5,  3.9342,  5., 279., 19.2, 3.9690e+02,  8.77, 21. ),\n",
       "       (1.75050e-01,   0. ,  5.96, 0., 0.499 , 5.966,  30.2,  3.8473,  5., 279., 19.2, 3.9343e+02, 10.13, 24.7),\n",
       "       (2.76300e-02,  75. ,  2.95, 0., 0.428 , 6.595,  21.8,  5.4011,  3., 252., 18.3, 3.9563e+02,  4.32, 30.8),\n",
       "       (3.35900e-02,  75. ,  2.95, 0., 0.428 , 7.024,  15.8,  5.4011,  3., 252., 18.3, 3.9562e+02,  1.98, 34.9),\n",
       "       (1.27440e-01,   0. ,  6.91, 0., 0.448 , 6.77 ,   2.9,  5.7209,  3., 233., 17.9, 3.8541e+02,  4.84, 26.6),\n",
       "       (1.41500e-01,   0. ,  6.91, 0., 0.448 , 6.169,   6.6,  5.7209,  3., 233., 17.9, 3.8337e+02,  5.81, 25.3),\n",
       "       (1.59360e-01,   0. ,  6.91, 0., 0.448 , 6.211,   6.5,  5.7209,  3., 233., 17.9, 3.9446e+02,  7.44, 24.7),\n",
       "       (1.22690e-01,   0. ,  6.91, 0., 0.448 , 6.069,  40. ,  5.7209,  3., 233., 17.9, 3.8939e+02,  9.55, 21.2),\n",
       "       (1.71420e-01,   0. ,  6.91, 0., 0.448 , 5.682,  33.8,  5.1004,  3., 233., 17.9, 3.9690e+02, 10.21, 19.3),\n",
       "       (1.88360e-01,   0. ,  6.91, 0., 0.448 , 5.786,  33.3,  5.1004,  3., 233., 17.9, 3.9690e+02, 14.15, 20. ),\n",
       "       (2.29270e-01,   0. ,  6.91, 0., 0.448 , 6.03 ,  85.5,  5.6894,  3., 233., 17.9, 3.9274e+02, 18.8 , 16.6),\n",
       "       (2.53870e-01,   0. ,  6.91, 0., 0.448 , 5.399,  95.3,  5.87  ,  3., 233., 17.9, 3.9690e+02, 30.81, 14.4),\n",
       "       (2.19770e-01,   0. ,  6.91, 0., 0.448 , 5.602,  62. ,  6.0877,  3., 233., 17.9, 3.9690e+02, 16.2 , 19.4),\n",
       "       (8.87300e-02,  21. ,  5.64, 0., 0.439 , 5.963,  45.7,  6.8147,  4., 243., 16.8, 3.9556e+02, 13.45, 19.7),\n",
       "       (4.33700e-02,  21. ,  5.64, 0., 0.439 , 6.115,  63. ,  6.8147,  4., 243., 16.8, 3.9397e+02,  9.43, 20.5),\n",
       "       (5.36000e-02,  21. ,  5.64, 0., 0.439 , 6.511,  21.1,  6.8147,  4., 243., 16.8, 3.9690e+02,  5.28, 25. ),\n",
       "       (4.98100e-02,  21. ,  5.64, 0., 0.439 , 5.998,  21.4,  6.8147,  4., 243., 16.8, 3.9690e+02,  8.43, 23.4),\n",
       "       (1.36000e-02,  75. ,  4.  , 0., 0.41  , 5.888,  47.6,  7.3197,  3., 469., 21.1, 3.9690e+02, 14.8 , 18.9),\n",
       "       (1.31100e-02,  90. ,  1.22, 0., 0.403 , 7.249,  21.9,  8.6966,  5., 226., 17.9, 3.9593e+02,  4.81, 35.4),\n",
       "       (2.05500e-02,  85. ,  0.74, 0., 0.41  , 6.383,  35.7,  9.1876,  2., 313., 17.3, 3.9690e+02,  5.77, 24.7),\n",
       "       (1.43200e-02, 100. ,  1.32, 0., 0.411 , 6.816,  40.5,  8.3248,  5., 256., 15.1, 3.9290e+02,  3.95, 31.6),\n",
       "       (1.54450e-01,  25. ,  5.13, 0., 0.453 , 6.145,  29.2,  7.8148,  8., 284., 19.7, 3.9068e+02,  6.86, 23.3),\n",
       "       (1.03280e-01,  25. ,  5.13, 0., 0.453 , 5.927,  47.2,  6.932 ,  8., 284., 19.7, 3.9690e+02,  9.22, 19.6),\n",
       "       (1.49320e-01,  25. ,  5.13, 0., 0.453 , 5.741,  66.2,  7.2254,  8., 284., 19.7, 3.9511e+02, 13.15, 18.7),\n",
       "       (1.71710e-01,  25. ,  5.13, 0., 0.453 , 5.966,  93.4,  6.8185,  8., 284., 19.7, 3.7808e+02, 14.44, 16. ),\n",
       "       (1.10270e-01,  25. ,  5.13, 0., 0.453 , 6.456,  67.8,  7.2255,  8., 284., 19.7, 3.9690e+02,  6.73, 22.2),\n",
       "       (1.26500e-01,  25. ,  5.13, 0., 0.453 , 6.762,  43.4,  7.9809,  8., 284., 19.7, 3.9558e+02,  9.5 , 25. ),\n",
       "       (1.95100e-02,  17.5,  1.38, 0., 0.4161, 7.104,  59.5,  9.2229,  3., 216., 18.6, 3.9324e+02,  8.05, 33. ),\n",
       "       (3.58400e-02,  80. ,  3.37, 0., 0.398 , 6.29 ,  17.8,  6.6115,  4., 337., 16.1, 3.9690e+02,  4.67, 23.5),\n",
       "       (4.37900e-02,  80. ,  3.37, 0., 0.398 , 5.787,  31.1,  6.6115,  4., 337., 16.1, 3.9690e+02, 10.24, 19.4),\n",
       "       (5.78900e-02,  12.5,  6.07, 0., 0.409 , 5.878,  21.4,  6.498 ,  4., 345., 18.9, 3.9621e+02,  8.1 , 22. ),\n",
       "       (1.35540e-01,  12.5,  6.07, 0., 0.409 , 5.594,  36.8,  6.498 ,  4., 345., 18.9, 3.9690e+02, 13.09, 17.4),\n",
       "       (1.28160e-01,  12.5,  6.07, 0., 0.409 , 5.885,  33. ,  6.498 ,  4., 345., 18.9, 3.9690e+02,  8.79, 20.9),\n",
       "       (8.82600e-02,   0. , 10.81, 0., 0.413 , 6.417,   6.6,  5.2873,  4., 305., 19.2, 3.8373e+02,  6.72, 24.2),\n",
       "       (1.58760e-01,   0. , 10.81, 0., 0.413 , 5.961,  17.5,  5.2873,  4., 305., 19.2, 3.7694e+02,  9.88, 21.7),\n",
       "       (9.16400e-02,   0. , 10.81, 0., 0.413 , 6.065,   7.8,  5.2873,  4., 305., 19.2, 3.9091e+02,  5.52, 22.8),\n",
       "       (1.95390e-01,   0. , 10.81, 0., 0.413 , 6.245,   6.2,  5.2873,  4., 305., 19.2, 3.7717e+02,  7.54, 23.4),\n",
       "       (7.89600e-02,   0. , 12.83, 0., 0.437 , 6.273,   6. ,  4.2515,  5., 398., 18.7, 3.9492e+02,  6.78, 24.1),\n",
       "       (9.51200e-02,   0. , 12.83, 0., 0.437 , 6.286,  45. ,  4.5026,  5., 398., 18.7, 3.8323e+02,  8.94, 21.4),\n",
       "       (1.01530e-01,   0. , 12.83, 0., 0.437 , 6.279,  74.5,  4.0522,  5., 398., 18.7, 3.7366e+02, 11.97, 20. ),\n",
       "       (8.70700e-02,   0. , 12.83, 0., 0.437 , 6.14 ,  45.8,  4.0905,  5., 398., 18.7, 3.8696e+02, 10.27, 20.8),\n",
       "       (5.64600e-02,   0. , 12.83, 0., 0.437 , 6.232,  53.7,  5.0141,  5., 398., 18.7, 3.8640e+02, 12.34, 21.2),\n",
       "       (8.38700e-02,   0. , 12.83, 0., 0.437 , 5.874,  36.6,  4.5026,  5., 398., 18.7, 3.9606e+02,  9.1 , 20.3),\n",
       "       (4.11300e-02,  25. ,  4.86, 0., 0.426 , 6.727,  33.5,  5.4007,  4., 281., 19. , 3.9690e+02,  5.29, 28. ),\n",
       "       (4.46200e-02,  25. ,  4.86, 0., 0.426 , 6.619,  70.4,  5.4007,  4., 281., 19. , 3.9563e+02,  7.22, 23.9),\n",
       "       (3.65900e-02,  25. ,  4.86, 0., 0.426 , 6.302,  32.2,  5.4007,  4., 281., 19. , 3.9690e+02,  6.72, 24.8),\n",
       "       (3.55100e-02,  25. ,  4.86, 0., 0.426 , 6.167,  46.7,  5.4007,  4., 281., 19. , 3.9064e+02,  7.51, 22.9),\n",
       "       (5.05900e-02,   0. ,  4.49, 0., 0.449 , 6.389,  48. ,  4.7794,  3., 247., 18.5, 3.9690e+02,  9.62, 23.9),\n",
       "       (5.73500e-02,   0. ,  4.49, 0., 0.449 , 6.63 ,  56.1,  4.4377,  3., 247., 18.5, 3.9230e+02,  6.53, 26.6),\n",
       "       (5.18800e-02,   0. ,  4.49, 0., 0.449 , 6.015,  45.1,  4.4272,  3., 247., 18.5, 3.9599e+02, 12.86, 22.5),\n",
       "       (7.15100e-02,   0. ,  4.49, 0., 0.449 , 6.121,  56.8,  3.7476,  3., 247., 18.5, 3.9515e+02,  8.44, 22.2),\n",
       "       (5.66000e-02,   0. ,  3.41, 0., 0.489 , 7.007,  86.3,  3.4217,  2., 270., 17.8, 3.9690e+02,  5.5 , 23.6),\n",
       "       (5.30200e-02,   0. ,  3.41, 0., 0.489 , 7.079,  63.1,  3.4145,  2., 270., 17.8, 3.9606e+02,  5.7 , 28.7),\n",
       "       (4.68400e-02,   0. ,  3.41, 0., 0.489 , 6.417,  66.1,  3.0923,  2., 270., 17.8, 3.9218e+02,  8.81, 22.6),\n",
       "       (3.93200e-02,   0. ,  3.41, 0., 0.489 , 6.405,  73.9,  3.0921,  2., 270., 17.8, 3.9355e+02,  8.2 , 22. ),\n",
       "       (4.20300e-02,  28. , 15.04, 0., 0.464 , 6.442,  53.6,  3.6659,  4., 270., 18.2, 3.9501e+02,  8.16, 22.9),\n",
       "       (2.87500e-02,  28. , 15.04, 0., 0.464 , 6.211,  28.9,  3.6659,  4., 270., 18.2, 3.9633e+02,  6.21, 25. ),\n",
       "       (4.29400e-02,  28. , 15.04, 0., 0.464 , 6.249,  77.3,  3.615 ,  4., 270., 18.2, 3.9690e+02, 10.59, 20.6),\n",
       "       (1.22040e-01,   0. ,  2.89, 0., 0.445 , 6.625,  57.8,  3.4952,  2., 276., 18. , 3.5798e+02,  6.65, 28.4),\n",
       "       (1.15040e-01,   0. ,  2.89, 0., 0.445 , 6.163,  69.6,  3.4952,  2., 276., 18. , 3.9183e+02, 11.34, 21.4),\n",
       "       (1.20830e-01,   0. ,  2.89, 0., 0.445 , 8.069,  76. ,  3.4952,  2., 276., 18. , 3.9690e+02,  4.21, 38.7),\n",
       "       (8.18700e-02,   0. ,  2.89, 0., 0.445 , 7.82 ,  36.9,  3.4952,  2., 276., 18. , 3.9353e+02,  3.57, 43.8),\n",
       "       (6.86000e-02,   0. ,  2.89, 0., 0.445 , 7.416,  62.5,  3.4952,  2., 276., 18. , 3.9690e+02,  6.19, 33.2),\n",
       "       (1.48660e-01,   0. ,  8.56, 0., 0.52  , 6.727,  79.9,  2.7778,  5., 384., 20.9, 3.9476e+02,  9.42, 27.5),\n",
       "       (1.14320e-01,   0. ,  8.56, 0., 0.52  , 6.781,  71.3,  2.8561,  5., 384., 20.9, 3.9558e+02,  7.67, 26.5),\n",
       "       (2.28760e-01,   0. ,  8.56, 0., 0.52  , 6.405,  85.4,  2.7147,  5., 384., 20.9, 7.0800e+01, 10.63, 18.6),\n",
       "       (2.11610e-01,   0. ,  8.56, 0., 0.52  , 6.137,  87.4,  2.7147,  5., 384., 20.9, 3.9447e+02, 13.44, 19.3),\n",
       "       (1.39600e-01,   0. ,  8.56, 0., 0.52  , 6.167,  90. ,  2.421 ,  5., 384., 20.9, 3.9269e+02, 12.33, 20.1),\n",
       "       (1.32620e-01,   0. ,  8.56, 0., 0.52  , 5.851,  96.7,  2.1069,  5., 384., 20.9, 3.9405e+02, 16.47, 19.5),\n",
       "       (1.71200e-01,   0. ,  8.56, 0., 0.52  , 5.836,  91.9,  2.211 ,  5., 384., 20.9, 3.9567e+02, 18.66, 19.5),\n",
       "       (1.31170e-01,   0. ,  8.56, 0., 0.52  , 6.127,  85.2,  2.1224,  5., 384., 20.9, 3.8769e+02, 14.09, 20.4),\n",
       "       (1.28020e-01,   0. ,  8.56, 0., 0.52  , 6.474,  97.1,  2.4329,  5., 384., 20.9, 3.9524e+02, 12.27, 19.8),\n",
       "       (2.63630e-01,   0. ,  8.56, 0., 0.52  , 6.229,  91.2,  2.5451,  5., 384., 20.9, 3.9123e+02, 15.55, 19.4),\n",
       "       (1.07930e-01,   0. ,  8.56, 0., 0.52  , 6.195,  54.4,  2.7778,  5., 384., 20.9, 3.9349e+02, 13.  , 21.7),\n",
       "       (1.00840e-01,   0. , 10.01, 0., 0.547 , 6.715,  81.6,  2.6775,  6., 432., 17.8, 3.9559e+02, 10.16, 22.8),\n",
       "       (1.23290e-01,   0. , 10.01, 0., 0.547 , 5.913,  92.9,  2.3534,  6., 432., 17.8, 3.9495e+02, 16.21, 18.8),\n",
       "       (2.22120e-01,   0. , 10.01, 0., 0.547 , 6.092,  95.4,  2.548 ,  6., 432., 17.8, 3.9690e+02, 17.09, 18.7),\n",
       "       (1.42310e-01,   0. , 10.01, 0., 0.547 , 6.254,  84.2,  2.2565,  6., 432., 17.8, 3.8874e+02, 10.45, 18.5),\n",
       "       (1.71340e-01,   0. , 10.01, 0., 0.547 , 5.928,  88.2,  2.4631,  6., 432., 17.8, 3.4491e+02, 15.76, 18.3),\n",
       "       (1.31580e-01,   0. , 10.01, 0., 0.547 , 6.176,  72.5,  2.7301,  6., 432., 17.8, 3.9330e+02, 12.04, 21.2),\n",
       "       (1.50980e-01,   0. , 10.01, 0., 0.547 , 6.021,  82.6,  2.7474,  6., 432., 17.8, 3.9451e+02, 10.3 , 19.2),\n",
       "       (1.30580e-01,   0. , 10.01, 0., 0.547 , 5.872,  73.1,  2.4775,  6., 432., 17.8, 3.3863e+02, 15.37, 20.4),\n",
       "       (1.44760e-01,   0. , 10.01, 0., 0.547 , 5.731,  65.2,  2.7592,  6., 432., 17.8, 3.9150e+02, 13.61, 19.3),\n",
       "       (6.89900e-02,   0. , 25.65, 0., 0.581 , 5.87 ,  69.7,  2.2577,  2., 188., 19.1, 3.8915e+02, 14.37, 22. ),\n",
       "       (7.16500e-02,   0. , 25.65, 0., 0.581 , 6.004,  84.1,  2.1974,  2., 188., 19.1, 3.7767e+02, 14.27, 20.3),\n",
       "       (9.29900e-02,   0. , 25.65, 0., 0.581 , 5.961,  92.9,  2.0869,  2., 188., 19.1, 3.7809e+02, 17.93, 20.5),\n",
       "       (1.50380e-01,   0. , 25.65, 0., 0.581 , 5.856,  97. ,  1.9444,  2., 188., 19.1, 3.7031e+02, 25.41, 17.3),\n",
       "       (9.84900e-02,   0. , 25.65, 0., 0.581 , 5.879,  95.8,  2.0063,  2., 188., 19.1, 3.7938e+02, 17.58, 18.8),\n",
       "       (1.69020e-01,   0. , 25.65, 0., 0.581 , 5.986,  88.4,  1.9929,  2., 188., 19.1, 3.8502e+02, 14.81, 21.4),\n",
       "       (3.87350e-01,   0. , 25.65, 0., 0.581 , 5.613,  95.6,  1.7572,  2., 188., 19.1, 3.5929e+02, 27.26, 15.7),\n",
       "       (2.59150e-01,   0. , 21.89, 0., 0.624 , 5.693,  96. ,  1.7883,  4., 437., 21.2, 3.9211e+02, 17.19, 16.2),\n",
       "       (3.25430e-01,   0. , 21.89, 0., 0.624 , 6.431,  98.8,  1.8125,  4., 437., 21.2, 3.9690e+02, 15.39, 18. ),\n",
       "       (8.81250e-01,   0. , 21.89, 0., 0.624 , 5.637,  94.7,  1.9799,  4., 437., 21.2, 3.9690e+02, 18.34, 14.3),\n",
       "       (3.40060e-01,   0. , 21.89, 0., 0.624 , 6.458,  98.9,  2.1185,  4., 437., 21.2, 3.9504e+02, 12.6 , 19.2),\n",
       "       (1.19294e+00,   0. , 21.89, 0., 0.624 , 6.326,  97.7,  2.271 ,  4., 437., 21.2, 3.9690e+02, 12.26, 19.6),\n",
       "       (5.90050e-01,   0. , 21.89, 0., 0.624 , 6.372,  97.9,  2.3274,  4., 437., 21.2, 3.8576e+02, 11.12, 23. ),\n",
       "       (3.29820e-01,   0. , 21.89, 0., 0.624 , 5.822,  95.4,  2.4699,  4., 437., 21.2, 3.8869e+02, 15.03, 18.4),\n",
       "       (9.76170e-01,   0. , 21.89, 0., 0.624 , 5.757,  98.4,  2.346 ,  4., 437., 21.2, 2.6276e+02, 17.31, 15.6),\n",
       "       (5.57780e-01,   0. , 21.89, 0., 0.624 , 6.335,  98.2,  2.1107,  4., 437., 21.2, 3.9467e+02, 16.96, 18.1),\n",
       "       (3.22640e-01,   0. , 21.89, 0., 0.624 , 5.942,  93.5,  1.9669,  4., 437., 21.2, 3.7825e+02, 16.9 , 17.4),\n",
       "       (3.52330e-01,   0. , 21.89, 0., 0.624 , 6.454,  98.4,  1.8498,  4., 437., 21.2, 3.9408e+02, 14.59, 17.1),\n",
       "       (2.49800e-01,   0. , 21.89, 0., 0.624 , 5.857,  98.2,  1.6686,  4., 437., 21.2, 3.9204e+02, 21.32, 13.3),\n",
       "       (5.44520e-01,   0. , 21.89, 0., 0.624 , 6.151,  97.9,  1.6687,  4., 437., 21.2, 3.9690e+02, 18.46, 17.8),\n",
       "       (2.90900e-01,   0. , 21.89, 0., 0.624 , 6.174,  93.6,  1.6119,  4., 437., 21.2, 3.8808e+02, 24.16, 14. ),\n",
       "       (1.62864e+00,   0. , 21.89, 0., 0.624 , 5.019, 100. ,  1.4394,  4., 437., 21.2, 3.9690e+02, 34.41, 14.4),\n",
       "       (3.32105e+00,   0. , 19.58, 1., 0.871 , 5.403, 100. ,  1.3216,  5., 403., 14.7, 3.9690e+02, 26.82, 13.4),\n",
       "       (4.09740e+00,   0. , 19.58, 0., 0.871 , 5.468, 100. ,  1.4118,  5., 403., 14.7, 3.9690e+02, 26.42, 15.6),\n",
       "       (2.77974e+00,   0. , 19.58, 0., 0.871 , 4.903,  97.8,  1.3459,  5., 403., 14.7, 3.9690e+02, 29.29, 11.8),\n",
       "       (2.37934e+00,   0. , 19.58, 0., 0.871 , 6.13 , 100. ,  1.4191,  5., 403., 14.7, 1.7291e+02, 27.8 , 13.8),\n",
       "       (2.15505e+00,   0. , 19.58, 0., 0.871 , 5.628, 100. ,  1.5166,  5., 403., 14.7, 1.6927e+02, 16.65, 15.6),\n",
       "       (2.36862e+00,   0. , 19.58, 0., 0.871 , 4.926,  95.7,  1.4608,  5., 403., 14.7, 3.9171e+02, 29.53, 14.6),\n",
       "       (2.33099e+00,   0. , 19.58, 0., 0.871 , 5.186,  93.8,  1.5296,  5., 403., 14.7, 3.5699e+02, 28.32, 17.8),\n",
       "       (2.73397e+00,   0. , 19.58, 0., 0.871 , 5.597,  94.9,  1.5257,  5., 403., 14.7, 3.5185e+02, 21.45, 15.4),\n",
       "       (1.65660e+00,   0. , 19.58, 0., 0.871 , 6.122,  97.3,  1.618 ,  5., 403., 14.7, 3.7280e+02, 14.1 , 21.5),\n",
       "       (1.49632e+00,   0. , 19.58, 0., 0.871 , 5.404, 100. ,  1.5916,  5., 403., 14.7, 3.4160e+02, 13.28, 19.6),\n",
       "       (1.12658e+00,   0. , 19.58, 1., 0.871 , 5.012,  88. ,  1.6102,  5., 403., 14.7, 3.4328e+02, 12.12, 15.3),\n",
       "       (2.14918e+00,   0. , 19.58, 0., 0.871 , 5.709,  98.5,  1.6232,  5., 403., 14.7, 2.6195e+02, 15.79, 19.4),\n",
       "       (1.41385e+00,   0. , 19.58, 1., 0.871 , 6.129,  96. ,  1.7494,  5., 403., 14.7, 3.2102e+02, 15.12, 17. ),\n",
       "       (3.53501e+00,   0. , 19.58, 1., 0.871 , 6.152,  82.6,  1.7455,  5., 403., 14.7, 8.8010e+01, 15.02, 15.6),\n",
       "       (2.44668e+00,   0. , 19.58, 0., 0.871 , 5.272,  94. ,  1.7364,  5., 403., 14.7, 8.8630e+01, 16.14, 13.1),\n",
       "       (1.22358e+00,   0. , 19.58, 0., 0.605 , 6.943,  97.4,  1.8773,  5., 403., 14.7, 3.6343e+02,  4.59, 41.3),\n",
       "       (1.34284e+00,   0. , 19.58, 0., 0.605 , 6.066, 100. ,  1.7573,  5., 403., 14.7, 3.5389e+02,  6.43, 24.3),\n",
       "       (1.42502e+00,   0. , 19.58, 0., 0.871 , 6.51 , 100. ,  1.7659,  5., 403., 14.7, 3.6431e+02,  7.39, 23.3),\n",
       "       (1.27346e+00,   0. , 19.58, 1., 0.605 , 6.25 ,  92.6,  1.7984,  5., 403., 14.7, 3.3892e+02,  5.5 , 27. ),\n",
       "       (1.46336e+00,   0. , 19.58, 0., 0.605 , 7.489,  90.8,  1.9709,  5., 403., 14.7, 3.7443e+02,  1.73, 50. ),\n",
       "       (1.83377e+00,   0. , 19.58, 1., 0.605 , 7.802,  98.2,  2.0407,  5., 403., 14.7, 3.8961e+02,  1.92, 50. ),\n",
       "       (1.51902e+00,   0. , 19.58, 1., 0.605 , 8.375,  93.9,  2.162 ,  5., 403., 14.7, 3.8845e+02,  3.32, 50. ),\n",
       "       (2.24236e+00,   0. , 19.58, 0., 0.605 , 5.854,  91.8,  2.422 ,  5., 403., 14.7, 3.9511e+02, 11.64, 22.7),\n",
       "       (2.92400e+00,   0. , 19.58, 0., 0.605 , 6.101,  93. ,  2.2834,  5., 403., 14.7, 2.4016e+02,  9.81, 25. ),\n",
       "       (2.01019e+00,   0. , 19.58, 0., 0.605 , 7.929,  96.2,  2.0459,  5., 403., 14.7, 3.6930e+02,  3.7 , 50. ),\n",
       "       (1.80028e+00,   0. , 19.58, 0., 0.605 , 5.877,  79.2,  2.4259,  5., 403., 14.7, 2.2761e+02, 12.14, 23.8),\n",
       "       (2.30040e+00,   0. , 19.58, 0., 0.605 , 6.319,  96.1,  2.1   ,  5., 403., 14.7, 2.9709e+02, 11.1 , 23.8),\n",
       "       (2.44953e+00,   0. , 19.58, 0., 0.605 , 6.402,  95.2,  2.2625,  5., 403., 14.7, 3.3004e+02, 11.32, 22.3),\n",
       "       (1.20742e+00,   0. , 19.58, 0., 0.605 , 5.875,  94.6,  2.4259,  5., 403., 14.7, 2.9229e+02, 14.43, 17.4),\n",
       "       (2.31390e+00,   0. , 19.58, 0., 0.605 , 5.88 ,  97.3,  2.3887,  5., 403., 14.7, 3.4813e+02, 12.03, 19.1),\n",
       "       (1.39140e-01,   0. ,  4.05, 0., 0.51  , 5.572,  88.5,  2.5961,  5., 296., 16.6, 3.9690e+02, 14.69, 23.1),\n",
       "       (9.17800e-02,   0. ,  4.05, 0., 0.51  , 6.416,  84.1,  2.6463,  5., 296., 16.6, 3.9550e+02,  9.04, 23.6),\n",
       "       (8.44700e-02,   0. ,  4.05, 0., 0.51  , 5.859,  68.7,  2.7019,  5., 296., 16.6, 3.9323e+02,  9.64, 22.6),\n",
       "       (6.66400e-02,   0. ,  4.05, 0., 0.51  , 6.546,  33.1,  3.1323,  5., 296., 16.6, 3.9096e+02,  5.33, 29.4),\n",
       "       (7.02200e-02,   0. ,  4.05, 0., 0.51  , 6.02 ,  47.2,  3.5549,  5., 296., 16.6, 3.9323e+02, 10.11, 23.2),\n",
       "       (5.42500e-02,   0. ,  4.05, 0., 0.51  , 6.315,  73.4,  3.3175,  5., 296., 16.6, 3.9560e+02,  6.29, 24.6),\n",
       "       (6.64200e-02,   0. ,  4.05, 0., 0.51  , 6.86 ,  74.4,  2.9153,  5., 296., 16.6, 3.9127e+02,  6.92, 29.9),\n",
       "       (5.78000e-02,   0. ,  2.46, 0., 0.488 , 6.98 ,  58.4,  2.829 ,  3., 193., 17.8, 3.9690e+02,  5.04, 37.2),\n",
       "       (6.58800e-02,   0. ,  2.46, 0., 0.488 , 7.765,  83.3,  2.741 ,  3., 193., 17.8, 3.9556e+02,  7.56, 39.8),\n",
       "       (6.88800e-02,   0. ,  2.46, 0., 0.488 , 6.144,  62.2,  2.5979,  3., 193., 17.8, 3.9690e+02,  9.45, 36.2),\n",
       "       (9.10300e-02,   0. ,  2.46, 0., 0.488 , 7.155,  92.2,  2.7006,  3., 193., 17.8, 3.9412e+02,  4.82, 37.9),\n",
       "       (1.00080e-01,   0. ,  2.46, 0., 0.488 , 6.563,  95.6,  2.847 ,  3., 193., 17.8, 3.9690e+02,  5.68, 32.5),\n",
       "       (8.30800e-02,   0. ,  2.46, 0., 0.488 , 5.604,  89.8,  2.9879,  3., 193., 17.8, 3.9100e+02, 13.98, 26.4),\n",
       "       (6.04700e-02,   0. ,  2.46, 0., 0.488 , 6.153,  68.8,  3.2797,  3., 193., 17.8, 3.8711e+02, 13.15, 29.6),\n",
       "       (5.60200e-02,   0. ,  2.46, 0., 0.488 , 7.831,  53.6,  3.1992,  3., 193., 17.8, 3.9263e+02,  4.45, 50. ),\n",
       "       (7.87500e-02,  45. ,  3.44, 0., 0.437 , 6.782,  41.1,  3.7886,  5., 398., 15.2, 3.9387e+02,  6.68, 32. ),\n",
       "       (1.25790e-01,  45. ,  3.44, 0., 0.437 , 6.556,  29.1,  4.5667,  5., 398., 15.2, 3.8284e+02,  4.56, 29.8),\n",
       "       (8.37000e-02,  45. ,  3.44, 0., 0.437 , 7.185,  38.9,  4.5667,  5., 398., 15.2, 3.9690e+02,  5.39, 34.9),\n",
       "       (9.06800e-02,  45. ,  3.44, 0., 0.437 , 6.951,  21.5,  6.4798,  5., 398., 15.2, 3.7768e+02,  5.1 , 37. ),\n",
       "       (6.91100e-02,  45. ,  3.44, 0., 0.437 , 6.739,  30.8,  6.4798,  5., 398., 15.2, 3.8971e+02,  4.69, 30.5),\n",
       "       (8.66400e-02,  45. ,  3.44, 0., 0.437 , 7.178,  26.3,  6.4798,  5., 398., 15.2, 3.9049e+02,  2.87, 36.4),\n",
       "       (2.18700e-02,  60. ,  2.93, 0., 0.401 , 6.8  ,   9.9,  6.2196,  1., 265., 15.6, 3.9337e+02,  5.03, 31.1),\n",
       "       (1.43900e-02,  60. ,  2.93, 0., 0.401 , 6.604,  18.8,  6.2196,  1., 265., 15.6, 3.7670e+02,  4.38, 29.1),\n",
       "       (1.38100e-02,  80. ,  0.46, 0., 0.422 , 7.875,  32. ,  5.6484,  4., 255., 14.4, 3.9423e+02,  2.97, 50. ),\n",
       "       (4.01100e-02,  80. ,  1.52, 0., 0.404 , 7.287,  34.1,  7.309 ,  2., 329., 12.6, 3.9690e+02,  4.08, 33.3),\n",
       "       (4.66600e-02,  80. ,  1.52, 0., 0.404 , 7.107,  36.6,  7.309 ,  2., 329., 12.6, 3.5431e+02,  8.61, 30.3),\n",
       "       (3.76800e-02,  80. ,  1.52, 0., 0.404 , 7.274,  38.3,  7.309 ,  2., 329., 12.6, 3.9220e+02,  6.62, 34.6),\n",
       "       (3.15000e-02,  95. ,  1.47, 0., 0.403 , 6.975,  15.3,  7.6534,  3., 402., 17. , 3.9690e+02,  4.56, 34.9),\n",
       "       (1.77800e-02,  95. ,  1.47, 0., 0.403 , 7.135,  13.9,  7.6534,  3., 402., 17. , 3.8430e+02,  4.45, 32.9),\n",
       "       (3.44500e-02,  82.5,  2.03, 0., 0.415 , 6.162,  38.4,  6.27  ,  2., 348., 14.7, 3.9377e+02,  7.43, 24.1),\n",
       "       (2.17700e-02,  82.5,  2.03, 0., 0.415 , 7.61 ,  15.7,  6.27  ,  2., 348., 14.7, 3.9538e+02,  3.11, 42.3),\n",
       "       (3.51000e-02,  95. ,  2.68, 0., 0.4161, 7.853,  33.2,  5.118 ,  4., 224., 14.7, 3.9278e+02,  3.81, 48.5),\n",
       "       (2.00900e-02,  95. ,  2.68, 0., 0.4161, 8.034,  31.9,  5.118 ,  4., 224., 14.7, 3.9055e+02,  2.88, 50. ),\n",
       "       (1.36420e-01,   0. , 10.59, 0., 0.489 , 5.891,  22.3,  3.9454,  4., 277., 18.6, 3.9690e+02, 10.87, 22.6),\n",
       "       (2.29690e-01,   0. , 10.59, 0., 0.489 , 6.326,  52.5,  4.3549,  4., 277., 18.6, 3.9487e+02, 10.97, 24.4),\n",
       "       (2.51990e-01,   0. , 10.59, 0., 0.489 , 5.783,  72.7,  4.3549,  4., 277., 18.6, 3.8943e+02, 18.06, 22.5),\n",
       "       (1.35870e-01,   0. , 10.59, 1., 0.489 , 6.064,  59.1,  4.2392,  4., 277., 18.6, 3.8132e+02, 14.66, 24.4),\n",
       "       (4.35710e-01,   0. , 10.59, 1., 0.489 , 5.344, 100. ,  3.875 ,  4., 277., 18.6, 3.9690e+02, 23.09, 20. ),\n",
       "       (1.74460e-01,   0. , 10.59, 1., 0.489 , 5.96 ,  92.1,  3.8771,  4., 277., 18.6, 3.9325e+02, 17.27, 21.7),\n",
       "       (3.75780e-01,   0. , 10.59, 1., 0.489 , 5.404,  88.6,  3.665 ,  4., 277., 18.6, 3.9524e+02, 23.98, 19.3),\n",
       "       (2.17190e-01,   0. , 10.59, 1., 0.489 , 5.807,  53.8,  3.6526,  4., 277., 18.6, 3.9094e+02, 16.03, 22.4),\n",
       "       (1.40520e-01,   0. , 10.59, 0., 0.489 , 6.375,  32.3,  3.9454,  4., 277., 18.6, 3.8581e+02,  9.38, 28.1),\n",
       "       (2.89550e-01,   0. , 10.59, 0., 0.489 , 5.412,   9.8,  3.5875,  4., 277., 18.6, 3.4893e+02, 29.55, 23.7),\n",
       "       (1.98020e-01,   0. , 10.59, 0., 0.489 , 6.182,  42.4,  3.9454,  4., 277., 18.6, 3.9363e+02,  9.47, 25. ),\n",
       "       (4.56000e-02,   0. , 13.89, 1., 0.55  , 5.888,  56. ,  3.1121,  5., 276., 16.4, 3.9280e+02, 13.51, 23.3),\n",
       "       (7.01300e-02,   0. , 13.89, 0., 0.55  , 6.642,  85.1,  3.4211,  5., 276., 16.4, 3.9278e+02,  9.69, 28.7),\n",
       "       (1.10690e-01,   0. , 13.89, 1., 0.55  , 5.951,  93.8,  2.8893,  5., 276., 16.4, 3.9690e+02, 17.92, 21.5),\n",
       "       (1.14250e-01,   0. , 13.89, 1., 0.55  , 6.373,  92.4,  3.3633,  5., 276., 16.4, 3.9374e+02, 10.5 , 23. ),\n",
       "       (3.58090e-01,   0. ,  6.2 , 1., 0.507 , 6.951,  88.5,  2.8617,  8., 307., 17.4, 3.9170e+02,  9.71, 26.7),\n",
       "       (4.07710e-01,   0. ,  6.2 , 1., 0.507 , 6.164,  91.3,  3.048 ,  8., 307., 17.4, 3.9524e+02, 21.46, 21.7),\n",
       "       (6.23560e-01,   0. ,  6.2 , 1., 0.507 , 6.879,  77.7,  3.2721,  8., 307., 17.4, 3.9039e+02,  9.93, 27.5),\n",
       "       (6.14700e-01,   0. ,  6.2 , 0., 0.507 , 6.618,  80.8,  3.2721,  8., 307., 17.4, 3.9690e+02,  7.6 , 30.1),\n",
       "       (3.15330e-01,   0. ,  6.2 , 0., 0.504 , 8.266,  78.3,  2.8944,  8., 307., 17.4, 3.8505e+02,  4.14, 44.8),\n",
       "       (5.26930e-01,   0. ,  6.2 , 0., 0.504 , 8.725,  83. ,  2.8944,  8., 307., 17.4, 3.8200e+02,  4.63, 50. ),\n",
       "       (3.82140e-01,   0. ,  6.2 , 0., 0.504 , 8.04 ,  86.5,  3.2157,  8., 307., 17.4, 3.8738e+02,  3.13, 37.6),\n",
       "       (4.12380e-01,   0. ,  6.2 , 0., 0.504 , 7.163,  79.9,  3.2157,  8., 307., 17.4, 3.7208e+02,  6.36, 31.6),\n",
       "       (2.98190e-01,   0. ,  6.2 , 0., 0.504 , 7.686,  17. ,  3.3751,  8., 307., 17.4, 3.7751e+02,  3.92, 46.7),\n",
       "       (4.41780e-01,   0. ,  6.2 , 0., 0.504 , 6.552,  21.4,  3.3751,  8., 307., 17.4, 3.8034e+02,  3.76, 31.5),\n",
       "       (5.37000e-01,   0. ,  6.2 , 0., 0.504 , 5.981,  68.1,  3.6715,  8., 307., 17.4, 3.7835e+02, 11.65, 24.3),\n",
       "       (4.62960e-01,   0. ,  6.2 , 0., 0.504 , 7.412,  76.9,  3.6715,  8., 307., 17.4, 3.7614e+02,  5.25, 31.7),\n",
       "       (5.75290e-01,   0. ,  6.2 , 0., 0.507 , 8.337,  73.3,  3.8384,  8., 307., 17.4, 3.8591e+02,  2.47, 41.7),\n",
       "       (3.31470e-01,   0. ,  6.2 , 0., 0.507 , 8.247,  70.4,  3.6519,  8., 307., 17.4, 3.7895e+02,  3.95, 48.3),\n",
       "       (4.47910e-01,   0. ,  6.2 , 1., 0.507 , 6.726,  66.5,  3.6519,  8., 307., 17.4, 3.6020e+02,  8.05, 29. ),\n",
       "       (3.30450e-01,   0. ,  6.2 , 0., 0.507 , 6.086,  61.5,  3.6519,  8., 307., 17.4, 3.7675e+02, 10.88, 24. ),\n",
       "       (5.20580e-01,   0. ,  6.2 , 1., 0.507 , 6.631,  76.5,  4.148 ,  8., 307., 17.4, 3.8845e+02,  9.54, 25.1),\n",
       "       (5.11830e-01,   0. ,  6.2 , 0., 0.507 , 7.358,  71.6,  4.148 ,  8., 307., 17.4, 3.9007e+02,  4.73, 31.5),\n",
       "       (8.24400e-02,  30. ,  4.93, 0., 0.428 , 6.481,  18.5,  6.1899,  6., 300., 16.6, 3.7941e+02,  6.36, 23.7),\n",
       "       (9.25200e-02,  30. ,  4.93, 0., 0.428 , 6.606,  42.2,  6.1899,  6., 300., 16.6, 3.8378e+02,  7.37, 23.3),\n",
       "       (1.13290e-01,  30. ,  4.93, 0., 0.428 , 6.897,  54.3,  6.3361,  6., 300., 16.6, 3.9125e+02, 11.38, 22. ),\n",
       "       (1.06120e-01,  30. ,  4.93, 0., 0.428 , 6.095,  65.1,  6.3361,  6., 300., 16.6, 3.9462e+02, 12.4 , 20.1),\n",
       "       (1.02900e-01,  30. ,  4.93, 0., 0.428 , 6.358,  52.9,  7.0355,  6., 300., 16.6, 3.7275e+02, 11.22, 22.2),\n",
       "       (1.27570e-01,  30. ,  4.93, 0., 0.428 , 6.393,   7.8,  7.0355,  6., 300., 16.6, 3.7471e+02,  5.19, 23.7),\n",
       "       (2.06080e-01,  22. ,  5.86, 0., 0.431 , 5.593,  76.5,  7.9549,  7., 330., 19.1, 3.7249e+02, 12.5 , 17.6),\n",
       "       (1.91330e-01,  22. ,  5.86, 0., 0.431 , 5.605,  70.2,  7.9549,  7., 330., 19.1, 3.8913e+02, 18.46, 18.5),\n",
       "       (3.39830e-01,  22. ,  5.86, 0., 0.431 , 6.108,  34.9,  8.0555,  7., 330., 19.1, 3.9018e+02,  9.16, 24.3),\n",
       "       (1.96570e-01,  22. ,  5.86, 0., 0.431 , 6.226,  79.2,  8.0555,  7., 330., 19.1, 3.7614e+02, 10.15, 20.5),\n",
       "       (1.64390e-01,  22. ,  5.86, 0., 0.431 , 6.433,  49.1,  7.8265,  7., 330., 19.1, 3.7471e+02,  9.52, 24.5),\n",
       "       (1.90730e-01,  22. ,  5.86, 0., 0.431 , 6.718,  17.5,  7.8265,  7., 330., 19.1, 3.9374e+02,  6.56, 26.2),\n",
       "       (1.40300e-01,  22. ,  5.86, 0., 0.431 , 6.487,  13. ,  7.3967,  7., 330., 19.1, 3.9628e+02,  5.9 , 24.4),\n",
       "       (2.14090e-01,  22. ,  5.86, 0., 0.431 , 6.438,   8.9,  7.3967,  7., 330., 19.1, 3.7707e+02,  3.59, 24.8),\n",
       "       (8.22100e-02,  22. ,  5.86, 0., 0.431 , 6.957,   6.8,  8.9067,  7., 330., 19.1, 3.8609e+02,  3.53, 29.6),\n",
       "       (3.68940e-01,  22. ,  5.86, 0., 0.431 , 8.259,   8.4,  8.9067,  7., 330., 19.1, 3.9690e+02,  3.54, 42.8),\n",
       "       (4.81900e-02,  80. ,  3.64, 0., 0.392 , 6.108,  32. ,  9.2203,  1., 315., 16.4, 3.9289e+02,  6.57, 21.9),\n",
       "       (3.54800e-02,  80. ,  3.64, 0., 0.392 , 5.876,  19.1,  9.2203,  1., 315., 16.4, 3.9518e+02,  9.25, 20.9),\n",
       "       (1.53800e-02,  90. ,  3.75, 0., 0.394 , 7.454,  34.2,  6.3361,  3., 244., 15.9, 3.8634e+02,  3.11, 44. ),\n",
       "       (6.11540e-01,  20. ,  3.97, 0., 0.647 , 8.704,  86.9,  1.801 ,  5., 264., 13. , 3.8970e+02,  5.12, 50. ),\n",
       "       (6.63510e-01,  20. ,  3.97, 0., 0.647 , 7.333, 100. ,  1.8946,  5., 264., 13. , 3.8329e+02,  7.79, 36. ),\n",
       "       (6.56650e-01,  20. ,  3.97, 0., 0.647 , 6.842, 100. ,  2.0107,  5., 264., 13. , 3.9193e+02,  6.9 , 30.1),\n",
       "       (5.40110e-01,  20. ,  3.97, 0., 0.647 , 7.203,  81.8,  2.1121,  5., 264., 13. , 3.9280e+02,  9.59, 33.8),\n",
       "       (5.34120e-01,  20. ,  3.97, 0., 0.647 , 7.52 ,  89.4,  2.1398,  5., 264., 13. , 3.8837e+02,  7.26, 43.1),\n",
       "       (5.20140e-01,  20. ,  3.97, 0., 0.647 , 8.398,  91.5,  2.2885,  5., 264., 13. , 3.8686e+02,  5.91, 48.8),\n",
       "       (8.25260e-01,  20. ,  3.97, 0., 0.647 , 7.327,  94.5,  2.0788,  5., 264., 13. , 3.9342e+02, 11.25, 31. ),\n",
       "       (5.50070e-01,  20. ,  3.97, 0., 0.647 , 7.206,  91.6,  1.9301,  5., 264., 13. , 3.8789e+02,  8.1 , 36.5),\n",
       "       (7.61620e-01,  20. ,  3.97, 0., 0.647 , 5.56 ,  62.8,  1.9865,  5., 264., 13. , 3.9240e+02, 10.45, 22.8),\n",
       "       (7.85700e-01,  20. ,  3.97, 0., 0.647 , 7.014,  84.6,  2.1329,  5., 264., 13. , 3.8407e+02, 14.79, 30.7),\n",
       "       (5.78340e-01,  20. ,  3.97, 0., 0.575 , 8.297,  67. ,  2.4216,  5., 264., 13. , 3.8454e+02,  7.44, 50. ),\n",
       "       (5.40500e-01,  20. ,  3.97, 0., 0.575 , 7.47 ,  52.6,  2.872 ,  5., 264., 13. , 3.9030e+02,  3.16, 43.5),\n",
       "       (9.06500e-02,  20. ,  6.96, 1., 0.464 , 5.92 ,  61.5,  3.9175,  3., 223., 18.6, 3.9134e+02, 13.65, 20.7),\n",
       "       (2.99160e-01,  20. ,  6.96, 0., 0.464 , 5.856,  42.1,  4.429 ,  3., 223., 18.6, 3.8865e+02, 13.  , 21.1),\n",
       "       (1.62110e-01,  20. ,  6.96, 0., 0.464 , 6.24 ,  16.3,  4.429 ,  3., 223., 18.6, 3.9690e+02,  6.59, 25.2),\n",
       "       (1.14600e-01,  20. ,  6.96, 0., 0.464 , 6.538,  58.7,  3.9175,  3., 223., 18.6, 3.9496e+02,  7.73, 24.4),\n",
       "       (2.21880e-01,  20. ,  6.96, 1., 0.464 , 7.691,  51.8,  4.3665,  3., 223., 18.6, 3.9077e+02,  6.58, 35.2),\n",
       "       (5.64400e-02,  40. ,  6.41, 1., 0.447 , 6.758,  32.9,  4.0776,  4., 254., 17.6, 3.9690e+02,  3.53, 32.4),\n",
       "       (9.60400e-02,  40. ,  6.41, 0., 0.447 , 6.854,  42.8,  4.2673,  4., 254., 17.6, 3.9690e+02,  2.98, 32. ),\n",
       "       (1.04690e-01,  40. ,  6.41, 1., 0.447 , 7.267,  49. ,  4.7872,  4., 254., 17.6, 3.8925e+02,  6.05, 33.2),\n",
       "       (6.12700e-02,  40. ,  6.41, 1., 0.447 , 6.826,  27.6,  4.8628,  4., 254., 17.6, 3.9345e+02,  4.16, 33.1),\n",
       "       (7.97800e-02,  40. ,  6.41, 0., 0.447 , 6.482,  32.1,  4.1403,  4., 254., 17.6, 3.9690e+02,  7.19, 29.1),\n",
       "       (2.10380e-01,  20. ,  3.33, 0., 0.4429, 6.812,  32.2,  4.1007,  5., 216., 14.9, 3.9690e+02,  4.85, 35.1),\n",
       "       (3.57800e-02,  20. ,  3.33, 0., 0.4429, 7.82 ,  64.5,  4.6947,  5., 216., 14.9, 3.8731e+02,  3.76, 45.4),\n",
       "       (3.70500e-02,  20. ,  3.33, 0., 0.4429, 6.968,  37.2,  5.2447,  5., 216., 14.9, 3.9223e+02,  4.59, 35.4),\n",
       "       (6.12900e-02,  20. ,  3.33, 1., 0.4429, 7.645,  49.7,  5.2119,  5., 216., 14.9, 3.7707e+02,  3.01, 46. ),\n",
       "       (1.50100e-02,  90. ,  1.21, 1., 0.401 , 7.923,  24.8,  5.885 ,  1., 198., 13.6, 3.9552e+02,  3.16, 50. ),\n",
       "       (9.06000e-03,  90. ,  2.97, 0., 0.4   , 7.088,  20.8,  7.3073,  1., 285., 15.3, 3.9472e+02,  7.85, 32.2),\n",
       "       (1.09600e-02,  55. ,  2.25, 0., 0.389 , 6.453,  31.9,  7.3073,  1., 300., 15.3, 3.9472e+02,  8.23, 22. ),\n",
       "       (1.96500e-02,  80. ,  1.76, 0., 0.385 , 6.23 ,  31.5,  9.0892,  1., 241., 18.2, 3.4160e+02, 12.93, 20.1),\n",
       "       (3.87100e-02,  52.5,  5.32, 0., 0.405 , 6.209,  31.3,  7.3172,  6., 293., 16.6, 3.9690e+02,  7.14, 23.2),\n",
       "       (4.59000e-02,  52.5,  5.32, 0., 0.405 , 6.315,  45.6,  7.3172,  6., 293., 16.6, 3.9690e+02,  7.6 , 22.3),\n",
       "       (4.29700e-02,  52.5,  5.32, 0., 0.405 , 6.565,  22.9,  7.3172,  6., 293., 16.6, 3.7172e+02,  9.51, 24.8),\n",
       "       (3.50200e-02,  80. ,  4.95, 0., 0.411 , 6.861,  27.9,  5.1167,  4., 245., 19.2, 3.9690e+02,  3.33, 28.5),\n",
       "       (7.88600e-02,  80. ,  4.95, 0., 0.411 , 7.148,  27.7,  5.1167,  4., 245., 19.2, 3.9690e+02,  3.56, 37.3),\n",
       "       (3.61500e-02,  80. ,  4.95, 0., 0.411 , 6.63 ,  23.4,  5.1167,  4., 245., 19.2, 3.9690e+02,  4.7 , 27.9),\n",
       "       (8.26500e-02,   0. , 13.92, 0., 0.437 , 6.127,  18.4,  5.5027,  4., 289., 16. , 3.9690e+02,  8.58, 23.9),\n",
       "       (8.19900e-02,   0. , 13.92, 0., 0.437 , 6.009,  42.3,  5.5027,  4., 289., 16. , 3.9690e+02, 10.4 , 21.7),\n",
       "       (1.29320e-01,   0. , 13.92, 0., 0.437 , 6.678,  31.1,  5.9604,  4., 289., 16. , 3.9690e+02,  6.27, 28.6),\n",
       "       (5.37200e-02,   0. , 13.92, 0., 0.437 , 6.549,  51. ,  5.9604,  4., 289., 16. , 3.9285e+02,  7.39, 27.1),\n",
       "       (1.41030e-01,   0. , 13.92, 0., 0.437 , 5.79 ,  58. ,  6.32  ,  4., 289., 16. , 3.9690e+02, 15.84, 20.3),\n",
       "       (6.46600e-02,  70. ,  2.24, 0., 0.4   , 6.345,  20.1,  7.8278,  5., 358., 14.8, 3.6824e+02,  4.97, 22.5),\n",
       "       (5.56100e-02,  70. ,  2.24, 0., 0.4   , 7.041,  10. ,  7.8278,  5., 358., 14.8, 3.7158e+02,  4.74, 29. ),\n",
       "       (4.41700e-02,  70. ,  2.24, 0., 0.4   , 6.871,  47.4,  7.8278,  5., 358., 14.8, 3.9086e+02,  6.07, 24.8),\n",
       "       (3.53700e-02,  34. ,  6.09, 0., 0.433 , 6.59 ,  40.4,  5.4917,  7., 329., 16.1, 3.9575e+02,  9.5 , 22. ),\n",
       "       (9.26600e-02,  34. ,  6.09, 0., 0.433 , 6.495,  18.4,  5.4917,  7., 329., 16.1, 3.8361e+02,  8.67, 26.4),\n",
       "       (1.00000e-01,  34. ,  6.09, 0., 0.433 , 6.982,  17.7,  5.4917,  7., 329., 16.1, 3.9043e+02,  4.86, 33.1),\n",
       "       (5.51500e-02,  33. ,  2.18, 0., 0.472 , 7.236,  41.1,  4.022 ,  7., 222., 18.4, 3.9368e+02,  6.93, 36.1),\n",
       "       (5.47900e-02,  33. ,  2.18, 0., 0.472 , 6.616,  58.1,  3.37  ,  7., 222., 18.4, 3.9336e+02,  8.93, 28.4),\n",
       "       (7.50300e-02,  33. ,  2.18, 0., 0.472 , 7.42 ,  71.9,  3.0992,  7., 222., 18.4, 3.9690e+02,  6.47, 33.4),\n",
       "       (4.93200e-02,  33. ,  2.18, 0., 0.472 , 6.849,  70.3,  3.1827,  7., 222., 18.4, 3.9690e+02,  7.53, 28.2),\n",
       "       (4.92980e-01,   0. ,  9.9 , 0., 0.544 , 6.635,  82.5,  3.3175,  4., 304., 18.4, 3.9690e+02,  4.54, 22.8),\n",
       "       (3.49400e-01,   0. ,  9.9 , 0., 0.544 , 5.972,  76.7,  3.1025,  4., 304., 18.4, 3.9624e+02,  9.97, 20.3),\n",
       "       (2.63548e+00,   0. ,  9.9 , 0., 0.544 , 4.973,  37.8,  2.5194,  4., 304., 18.4, 3.5045e+02, 12.64, 16.1),\n",
       "       (7.90410e-01,   0. ,  9.9 , 0., 0.544 , 6.122,  52.8,  2.6403,  4., 304., 18.4, 3.9690e+02,  5.98, 22.1),\n",
       "       (2.61690e-01,   0. ,  9.9 , 0., 0.544 , 6.023,  90.4,  2.834 ,  4., 304., 18.4, 3.9630e+02, 11.72, 19.4),\n",
       "       (2.69380e-01,   0. ,  9.9 , 0., 0.544 , 6.266,  82.8,  3.2628,  4., 304., 18.4, 3.9339e+02,  7.9 , 21.6),\n",
       "       (3.69200e-01,   0. ,  9.9 , 0., 0.544 , 6.567,  87.3,  3.6023,  4., 304., 18.4, 3.9569e+02,  9.28, 23.8),\n",
       "       (2.53560e-01,   0. ,  9.9 , 0., 0.544 , 5.705,  77.7,  3.945 ,  4., 304., 18.4, 3.9642e+02, 11.5 , 16.2),\n",
       "       (3.18270e-01,   0. ,  9.9 , 0., 0.544 , 5.914,  83.2,  3.9986,  4., 304., 18.4, 3.9070e+02, 18.33, 17.8),\n",
       "       (2.45220e-01,   0. ,  9.9 , 0., 0.544 , 5.782,  71.7,  4.0317,  4., 304., 18.4, 3.9690e+02, 15.94, 19.8),\n",
       "       (4.02020e-01,   0. ,  9.9 , 0., 0.544 , 6.382,  67.2,  3.5325,  4., 304., 18.4, 3.9521e+02, 10.36, 23.1),\n",
       "       (4.75470e-01,   0. ,  9.9 , 0., 0.544 , 6.113,  58.8,  4.0019,  4., 304., 18.4, 3.9623e+02, 12.73, 21. ),\n",
       "       (1.67600e-01,   0. ,  7.38, 0., 0.493 , 6.426,  52.3,  4.5404,  5., 287., 19.6, 3.9690e+02,  7.2 , 23.8),\n",
       "       (1.81590e-01,   0. ,  7.38, 0., 0.493 , 6.376,  54.3,  4.5404,  5., 287., 19.6, 3.9690e+02,  6.87, 23.1),\n",
       "       (3.51140e-01,   0. ,  7.38, 0., 0.493 , 6.041,  49.9,  4.7211,  5., 287., 19.6, 3.9690e+02,  7.7 , 20.4),\n",
       "       (2.83920e-01,   0. ,  7.38, 0., 0.493 , 5.708,  74.3,  4.7211,  5., 287., 19.6, 3.9113e+02, 11.74, 18.5),\n",
       "       (3.41090e-01,   0. ,  7.38, 0., 0.493 , 6.415,  40.1,  4.7211,  5., 287., 19.6, 3.9690e+02,  6.12, 25. ),\n",
       "       (1.91860e-01,   0. ,  7.38, 0., 0.493 , 6.431,  14.7,  5.4159,  5., 287., 19.6, 3.9368e+02,  5.08, 24.6),\n",
       "       (3.03470e-01,   0. ,  7.38, 0., 0.493 , 6.312,  28.9,  5.4159,  5., 287., 19.6, 3.9690e+02,  6.15, 23. ),\n",
       "       (2.41030e-01,   0. ,  7.38, 0., 0.493 , 6.083,  43.7,  5.4159,  5., 287., 19.6, 3.9690e+02, 12.79, 22.2),\n",
       "       (6.61700e-02,   0. ,  3.24, 0., 0.46  , 5.868,  25.8,  5.2146,  4., 430., 16.9, 3.8244e+02,  9.97, 19.3),\n",
       "       (6.72400e-02,   0. ,  3.24, 0., 0.46  , 6.333,  17.2,  5.2146,  4., 430., 16.9, 3.7521e+02,  7.34, 22.6),\n",
       "       (4.54400e-02,   0. ,  3.24, 0., 0.46  , 6.144,  32.2,  5.8736,  4., 430., 16.9, 3.6857e+02,  9.09, 19.8),\n",
       "       (5.02300e-02,  35. ,  6.06, 0., 0.4379, 5.706,  28.4,  6.6407,  1., 304., 16.9, 3.9402e+02, 12.43, 17.1),\n",
       "       (3.46600e-02,  35. ,  6.06, 0., 0.4379, 6.031,  23.3,  6.6407,  1., 304., 16.9, 3.6225e+02,  7.83, 19.4),\n",
       "       (5.08300e-02,   0. ,  5.19, 0., 0.515 , 6.316,  38.1,  6.4584,  5., 224., 20.2, 3.8971e+02,  5.68, 22.2),\n",
       "       (3.73800e-02,   0. ,  5.19, 0., 0.515 , 6.31 ,  38.5,  6.4584,  5., 224., 20.2, 3.8940e+02,  6.75, 20.7),\n",
       "       (3.96100e-02,   0. ,  5.19, 0., 0.515 , 6.037,  34.5,  5.9853,  5., 224., 20.2, 3.9690e+02,  8.01, 21.1),\n",
       "       (3.42700e-02,   0. ,  5.19, 0., 0.515 , 5.869,  46.3,  5.2311,  5., 224., 20.2, 3.9690e+02,  9.8 , 19.5),\n",
       "       (3.04100e-02,   0. ,  5.19, 0., 0.515 , 5.895,  59.6,  5.615 ,  5., 224., 20.2, 3.9481e+02, 10.56, 18.5),\n",
       "       (3.30600e-02,   0. ,  5.19, 0., 0.515 , 6.059,  37.3,  4.8122,  5., 224., 20.2, 3.9614e+02,  8.51, 20.6),\n",
       "       (5.49700e-02,   0. ,  5.19, 0., 0.515 , 5.985,  45.4,  4.8122,  5., 224., 20.2, 3.9690e+02,  9.74, 19. ),\n",
       "       (6.15100e-02,   0. ,  5.19, 0., 0.515 , 5.968,  58.5,  4.8122,  5., 224., 20.2, 3.9690e+02,  9.29, 18.7),\n",
       "       (1.30100e-02,  35. ,  1.52, 0., 0.442 , 7.241,  49.3,  7.0379,  1., 284., 15.5, 3.9474e+02,  5.49, 32.7),\n",
       "       (2.49800e-02,   0. ,  1.89, 0., 0.518 , 6.54 ,  59.7,  6.2669,  1., 422., 15.9, 3.8996e+02,  8.65, 16.5),\n",
       "       (2.54300e-02,  55. ,  3.78, 0., 0.484 , 6.696,  56.4,  5.7321,  5., 370., 17.6, 3.9690e+02,  7.18, 23.9),\n",
       "       (3.04900e-02,  55. ,  3.78, 0., 0.484 , 6.874,  28.1,  6.4654,  5., 370., 17.6, 3.8797e+02,  4.61, 31.2),\n",
       "       (3.11300e-02,   0. ,  4.39, 0., 0.442 , 6.014,  48.5,  8.0136,  3., 352., 18.8, 3.8564e+02, 10.53, 17.5),\n",
       "       (6.16200e-02,   0. ,  4.39, 0., 0.442 , 5.898,  52.3,  8.0136,  3., 352., 18.8, 3.6461e+02, 12.67, 17.2),\n",
       "       (1.87000e-02,  85. ,  4.15, 0., 0.429 , 6.516,  27.7,  8.5353,  4., 351., 17.9, 3.9243e+02,  6.36, 23.1),\n",
       "       (1.50100e-02,  80. ,  2.01, 0., 0.435 , 6.635,  29.7,  8.344 ,  4., 280., 17. , 3.9094e+02,  5.99, 24.5),\n",
       "       (2.89900e-02,  40. ,  1.25, 0., 0.429 , 6.939,  34.5,  8.7921,  1., 335., 19.7, 3.8985e+02,  5.89, 26.6),\n",
       "       (6.21100e-02,  40. ,  1.25, 0., 0.429 , 6.49 ,  44.4,  8.7921,  1., 335., 19.7, 3.9690e+02,  5.98, 22.9),\n",
       "       (7.95000e-02,  60. ,  1.69, 0., 0.411 , 6.579,  35.9, 10.7103,  4., 411., 18.3, 3.7078e+02,  5.49, 24.1),\n",
       "       (7.24400e-02,  60. ,  1.69, 0., 0.411 , 5.884,  18.5, 10.7103,  4., 411., 18.3, 3.9233e+02,  7.79, 18.6),\n",
       "       (1.70900e-02,  90. ,  2.02, 0., 0.41  , 6.728,  36.1, 12.1265,  5., 187., 17. , 3.8446e+02,  4.5 , 30.1),\n",
       "       (4.30100e-02,  80. ,  1.91, 0., 0.413 , 5.663,  21.9, 10.5857,  4., 334., 22. , 3.8280e+02,  8.05, 18.2),\n",
       "       (1.06590e-01,  80. ,  1.91, 0., 0.413 , 5.936,  19.5, 10.5857,  4., 334., 22. , 3.7604e+02,  5.57, 20.6),\n",
       "       (8.98296e+00,   0. , 18.1 , 1., 0.77  , 6.212,  97.4,  2.1222, 24., 666., 20.2, 3.7773e+02, 17.6 , 17.8),\n",
       "       (3.84970e+00,   0. , 18.1 , 1., 0.77  , 6.395,  91. ,  2.5052, 24., 666., 20.2, 3.9134e+02, 13.27, 21.7),\n",
       "       (5.20177e+00,   0. , 18.1 , 1., 0.77  , 6.127,  83.4,  2.7227, 24., 666., 20.2, 3.9543e+02, 11.48, 22.7),\n",
       "       (4.26131e+00,   0. , 18.1 , 0., 0.77  , 6.112,  81.3,  2.5091, 24., 666., 20.2, 3.9074e+02, 12.67, 22.6),\n",
       "       (4.54192e+00,   0. , 18.1 , 0., 0.77  , 6.398,  88. ,  2.5182, 24., 666., 20.2, 3.7456e+02,  7.79, 25. ),\n",
       "       (3.83684e+00,   0. , 18.1 , 0., 0.77  , 6.251,  91.1,  2.2955, 24., 666., 20.2, 3.5065e+02, 14.19, 19.9),\n",
       "       (3.67822e+00,   0. , 18.1 , 0., 0.77  , 5.362,  96.2,  2.1036, 24., 666., 20.2, 3.8079e+02, 10.19, 20.8),\n",
       "       (4.22239e+00,   0. , 18.1 , 1., 0.77  , 5.803,  89. ,  1.9047, 24., 666., 20.2, 3.5304e+02, 14.64, 16.8),\n",
       "       (3.47428e+00,   0. , 18.1 , 1., 0.718 , 8.78 ,  82.9,  1.9047, 24., 666., 20.2, 3.5455e+02,  5.29, 21.9),\n",
       "       (4.55587e+00,   0. , 18.1 , 0., 0.718 , 3.561,  87.9,  1.6132, 24., 666., 20.2, 3.5470e+02,  7.12, 27.5),\n",
       "       (3.69695e+00,   0. , 18.1 , 0., 0.718 , 4.963,  91.4,  1.7523, 24., 666., 20.2, 3.1603e+02, 14.  , 21.9),\n",
       "       (1.35222e+01,   0. , 18.1 , 0., 0.631 , 3.863, 100. ,  1.5106, 24., 666., 20.2, 1.3142e+02, 13.33, 23.1),\n",
       "       (4.89822e+00,   0. , 18.1 , 0., 0.631 , 4.97 , 100. ,  1.3325, 24., 666., 20.2, 3.7552e+02,  3.26, 50. ),\n",
       "       (5.66998e+00,   0. , 18.1 , 1., 0.631 , 6.683,  96.8,  1.3567, 24., 666., 20.2, 3.7533e+02,  3.73, 50. ),\n",
       "       (6.53876e+00,   0. , 18.1 , 1., 0.631 , 7.016,  97.5,  1.2024, 24., 666., 20.2, 3.9205e+02,  2.96, 50. ),\n",
       "       (9.23230e+00,   0. , 18.1 , 0., 0.631 , 6.216, 100. ,  1.1691, 24., 666., 20.2, 3.6615e+02,  9.53, 50. ),\n",
       "       (8.26725e+00,   0. , 18.1 , 1., 0.668 , 5.875,  89.6,  1.1296, 24., 666., 20.2, 3.4788e+02,  8.88, 50. ),\n",
       "       (1.11081e+01,   0. , 18.1 , 0., 0.668 , 4.906, 100. ,  1.1742, 24., 666., 20.2, 3.9690e+02, 34.77, 13.8),\n",
       "       (1.84982e+01,   0. , 18.1 , 0., 0.668 , 4.138, 100. ,  1.137 , 24., 666., 20.2, 3.9690e+02, 37.97, 13.8),\n",
       "       (1.96091e+01,   0. , 18.1 , 0., 0.671 , 7.313,  97.9,  1.3163, 24., 666., 20.2, 3.9690e+02, 13.44, 15. ),\n",
       "       (1.52880e+01,   0. , 18.1 , 0., 0.671 , 6.649,  93.3,  1.3449, 24., 666., 20.2, 3.6302e+02, 23.24, 13.9),\n",
       "       (9.82349e+00,   0. , 18.1 , 0., 0.671 , 6.794,  98.8,  1.358 , 24., 666., 20.2, 3.9690e+02, 21.24, 13.3),\n",
       "       (2.36482e+01,   0. , 18.1 , 0., 0.671 , 6.38 ,  96.2,  1.3861, 24., 666., 20.2, 3.9690e+02, 23.69, 13.1),\n",
       "       (1.78667e+01,   0. , 18.1 , 0., 0.671 , 6.223, 100. ,  1.3861, 24., 666., 20.2, 3.9374e+02, 21.78, 10.2),\n",
       "       (8.89762e+01,   0. , 18.1 , 0., 0.671 , 6.968,  91.9,  1.4165, 24., 666., 20.2, 3.9690e+02, 17.21, 10.4),\n",
       "       (1.58744e+01,   0. , 18.1 , 0., 0.671 , 6.545,  99.1,  1.5192, 24., 666., 20.2, 3.9690e+02, 21.08, 10.9),\n",
       "       (9.18702e+00,   0. , 18.1 , 0., 0.7   , 5.536, 100. ,  1.5804, 24., 666., 20.2, 3.9690e+02, 23.6 , 11.3),\n",
       "       (7.99248e+00,   0. , 18.1 , 0., 0.7   , 5.52 , 100. ,  1.5331, 24., 666., 20.2, 3.9690e+02, 24.56, 12.3),\n",
       "       (2.00849e+01,   0. , 18.1 , 0., 0.7   , 4.368,  91.2,  1.4395, 24., 666., 20.2, 2.8583e+02, 30.63,  8.8),\n",
       "       (1.68118e+01,   0. , 18.1 , 0., 0.7   , 5.277,  98.1,  1.4261, 24., 666., 20.2, 3.9690e+02, 30.81,  7.2),\n",
       "       (2.43938e+01,   0. , 18.1 , 0., 0.7   , 4.652, 100. ,  1.4672, 24., 666., 20.2, 3.9690e+02, 28.28, 10.5),\n",
       "       (2.25971e+01,   0. , 18.1 , 0., 0.7   , 5.   ,  89.5,  1.5184, 24., 666., 20.2, 3.9690e+02, 31.99,  7.4),\n",
       "       (1.43337e+01,   0. , 18.1 , 0., 0.7   , 4.88 , 100. ,  1.5895, 24., 666., 20.2, 3.7292e+02, 30.62, 10.2),\n",
       "       (8.15174e+00,   0. , 18.1 , 0., 0.7   , 5.39 ,  98.9,  1.7281, 24., 666., 20.2, 3.9690e+02, 20.85, 11.5),\n",
       "       (6.96215e+00,   0. , 18.1 , 0., 0.7   , 5.713,  97. ,  1.9265, 24., 666., 20.2, 3.9443e+02, 17.11, 15.1),\n",
       "       (5.29305e+00,   0. , 18.1 , 0., 0.7   , 6.051,  82.5,  2.1678, 24., 666., 20.2, 3.7838e+02, 18.76, 23.2),\n",
       "       (1.15779e+01,   0. , 18.1 , 0., 0.7   , 5.036,  97. ,  1.77  , 24., 666., 20.2, 3.9690e+02, 25.68,  9.7),\n",
       "       (8.64476e+00,   0. , 18.1 , 0., 0.693 , 6.193,  92.6,  1.7912, 24., 666., 20.2, 3.9690e+02, 15.17, 13.8),\n",
       "       (1.33598e+01,   0. , 18.1 , 0., 0.693 , 5.887,  94.7,  1.7821, 24., 666., 20.2, 3.9690e+02, 16.35, 12.7),\n",
       "       (8.71675e+00,   0. , 18.1 , 0., 0.693 , 6.471,  98.8,  1.7257, 24., 666., 20.2, 3.9198e+02, 17.12, 13.1),\n",
       "       (5.87205e+00,   0. , 18.1 , 0., 0.693 , 6.405,  96. ,  1.6768, 24., 666., 20.2, 3.9690e+02, 19.37, 12.5),\n",
       "       (7.67202e+00,   0. , 18.1 , 0., 0.693 , 5.747,  98.9,  1.6334, 24., 666., 20.2, 3.9310e+02, 19.92,  8.5),\n",
       "       (3.83518e+01,   0. , 18.1 , 0., 0.693 , 5.453, 100. ,  1.4896, 24., 666., 20.2, 3.9690e+02, 30.59,  5. ),\n",
       "       (9.91655e+00,   0. , 18.1 , 0., 0.693 , 5.852,  77.8,  1.5004, 24., 666., 20.2, 3.3816e+02, 29.97,  6.3),\n",
       "       (2.50461e+01,   0. , 18.1 , 0., 0.693 , 5.987, 100. ,  1.5888, 24., 666., 20.2, 3.9690e+02, 26.77,  5.6),\n",
       "       (1.42362e+01,   0. , 18.1 , 0., 0.693 , 6.343, 100. ,  1.5741, 24., 666., 20.2, 3.9690e+02, 20.32,  7.2),\n",
       "       (9.59571e+00,   0. , 18.1 , 0., 0.693 , 6.404, 100. ,  1.639 , 24., 666., 20.2, 3.7611e+02, 20.31, 12.1),\n",
       "       (2.48017e+01,   0. , 18.1 , 0., 0.693 , 5.349,  96. ,  1.7028, 24., 666., 20.2, 3.9690e+02, 19.77,  8.3),\n",
       "       (4.15292e+01,   0. , 18.1 , 0., 0.693 , 5.531,  85.4,  1.6074, 24., 666., 20.2, 3.2946e+02, 27.38,  8.5),\n",
       "       (6.79208e+01,   0. , 18.1 , 0., 0.693 , 5.683, 100. ,  1.4254, 24., 666., 20.2, 3.8497e+02, 22.98,  5. ),\n",
       "       (2.07162e+01,   0. , 18.1 , 0., 0.659 , 4.138, 100. ,  1.1781, 24., 666., 20.2, 3.7022e+02, 23.34, 11.9),\n",
       "       (1.19511e+01,   0. , 18.1 , 0., 0.659 , 5.608, 100. ,  1.2852, 24., 666., 20.2, 3.3209e+02, 12.13, 27.9),\n",
       "       (7.40389e+00,   0. , 18.1 , 0., 0.597 , 5.617,  97.9,  1.4547, 24., 666., 20.2, 3.1464e+02, 26.4 , 17.2),\n",
       "       (1.44383e+01,   0. , 18.1 , 0., 0.597 , 6.852, 100. ,  1.4655, 24., 666., 20.2, 1.7936e+02, 19.78, 27.5),\n",
       "       (5.11358e+01,   0. , 18.1 , 0., 0.597 , 5.757, 100. ,  1.413 , 24., 666., 20.2, 2.6000e+00, 10.11, 15. ),\n",
       "       (1.40507e+01,   0. , 18.1 , 0., 0.597 , 6.657, 100. ,  1.5275, 24., 666., 20.2, 3.5050e+01, 21.22, 17.2),\n",
       "       (1.88110e+01,   0. , 18.1 , 0., 0.597 , 4.628, 100. ,  1.5539, 24., 666., 20.2, 2.8790e+01, 34.37, 17.9),\n",
       "       (2.86558e+01,   0. , 18.1 , 0., 0.597 , 5.155, 100. ,  1.5894, 24., 666., 20.2, 2.1097e+02, 20.08, 16.3),\n",
       "       (4.57461e+01,   0. , 18.1 , 0., 0.693 , 4.519, 100. ,  1.6582, 24., 666., 20.2, 8.8270e+01, 36.98,  7. ),\n",
       "       (1.80846e+01,   0. , 18.1 , 0., 0.679 , 6.434, 100. ,  1.8347, 24., 666., 20.2, 2.7250e+01, 29.05,  7.2),\n",
       "       (1.08342e+01,   0. , 18.1 , 0., 0.679 , 6.782,  90.8,  1.8195, 24., 666., 20.2, 2.1570e+01, 25.79,  7.5),\n",
       "       (2.59406e+01,   0. , 18.1 , 0., 0.679 , 5.304,  89.1,  1.6475, 24., 666., 20.2, 1.2736e+02, 26.64, 10.4),\n",
       "       (7.35341e+01,   0. , 18.1 , 0., 0.679 , 5.957, 100. ,  1.8026, 24., 666., 20.2, 1.6450e+01, 20.62,  8.8),\n",
       "       (1.18123e+01,   0. , 18.1 , 0., 0.718 , 6.824,  76.5,  1.794 , 24., 666., 20.2, 4.8450e+01, 22.74,  8.4),\n",
       "       (1.10874e+01,   0. , 18.1 , 0., 0.718 , 6.411, 100. ,  1.8589, 24., 666., 20.2, 3.1875e+02, 15.02, 16.7),\n",
       "       (7.02259e+00,   0. , 18.1 , 0., 0.718 , 6.006,  95.3,  1.8746, 24., 666., 20.2, 3.1998e+02, 15.7 , 14.2),\n",
       "       (1.20482e+01,   0. , 18.1 , 0., 0.614 , 5.648,  87.6,  1.9512, 24., 666., 20.2, 2.9155e+02, 14.1 , 20.8),\n",
       "       (7.05042e+00,   0. , 18.1 , 0., 0.614 , 6.103,  85.1,  2.0218, 24., 666., 20.2, 2.5200e+00, 23.29, 13.4),\n",
       "       (8.79212e+00,   0. , 18.1 , 0., 0.584 , 5.565,  70.6,  2.0635, 24., 666., 20.2, 3.6500e+00, 17.16, 11.7),\n",
       "       (1.58603e+01,   0. , 18.1 , 0., 0.679 , 5.896,  95.4,  1.9096, 24., 666., 20.2, 7.6800e+00, 24.39,  8.3),\n",
       "       (1.22472e+01,   0. , 18.1 , 0., 0.584 , 5.837,  59.7,  1.9976, 24., 666., 20.2, 2.4650e+01, 15.69, 10.2),\n",
       "       (3.76619e+01,   0. , 18.1 , 0., 0.679 , 6.202,  78.7,  1.8629, 24., 666., 20.2, 1.8820e+01, 14.52, 10.9),\n",
       "       (7.36711e+00,   0. , 18.1 , 0., 0.679 , 6.193,  78.1,  1.9356, 24., 666., 20.2, 9.6730e+01, 21.52, 11. ),\n",
       "       (9.33889e+00,   0. , 18.1 , 0., 0.679 , 6.38 ,  95.6,  1.9682, 24., 666., 20.2, 6.0720e+01, 24.08,  9.5),\n",
       "       (8.49213e+00,   0. , 18.1 , 0., 0.584 , 6.348,  86.1,  2.0527, 24., 666., 20.2, 8.3450e+01, 17.64, 14.5),\n",
       "       (1.00623e+01,   0. , 18.1 , 0., 0.584 , 6.833,  94.3,  2.0882, 24., 666., 20.2, 8.1330e+01, 19.69, 14.1),\n",
       "       (6.44405e+00,   0. , 18.1 , 0., 0.584 , 6.425,  74.8,  2.2004, 24., 666., 20.2, 9.7950e+01, 12.03, 16.1),\n",
       "       (5.58107e+00,   0. , 18.1 , 0., 0.713 , 6.436,  87.9,  2.3158, 24., 666., 20.2, 1.0019e+02, 16.22, 14.3),\n",
       "       (1.39134e+01,   0. , 18.1 , 0., 0.713 , 6.208,  95. ,  2.2222, 24., 666., 20.2, 1.0063e+02, 15.17, 11.7),\n",
       "       (1.11604e+01,   0. , 18.1 , 0., 0.74  , 6.629,  94.6,  2.1247, 24., 666., 20.2, 1.0985e+02, 23.27, 13.4),\n",
       "       (1.44208e+01,   0. , 18.1 , 0., 0.74  , 6.461,  93.3,  2.0026, 24., 666., 20.2, 2.7490e+01, 18.05,  9.6),\n",
       "       (1.51772e+01,   0. , 18.1 , 0., 0.74  , 6.152, 100. ,  1.9142, 24., 666., 20.2, 9.3200e+00, 26.45,  8.7),\n",
       "       (1.36781e+01,   0. , 18.1 , 0., 0.74  , 5.935,  87.9,  1.8206, 24., 666., 20.2, 6.8950e+01, 34.02,  8.4),\n",
       "       (9.39063e+00,   0. , 18.1 , 0., 0.74  , 5.627,  93.9,  1.8172, 24., 666., 20.2, 3.9690e+02, 22.88, 12.8),\n",
       "       (2.20511e+01,   0. , 18.1 , 0., 0.74  , 5.818,  92.4,  1.8662, 24., 666., 20.2, 3.9145e+02, 22.11, 10.5),\n",
       "       (9.72418e+00,   0. , 18.1 , 0., 0.74  , 6.406,  97.2,  2.0651, 24., 666., 20.2, 3.8596e+02, 19.52, 17.1),\n",
       "       (5.66637e+00,   0. , 18.1 , 0., 0.74  , 6.219, 100. ,  2.0048, 24., 666., 20.2, 3.9569e+02, 16.59, 18.4),\n",
       "       (9.96654e+00,   0. , 18.1 , 0., 0.74  , 6.485, 100. ,  1.9784, 24., 666., 20.2, 3.8673e+02, 18.85, 15.4),\n",
       "       (1.28023e+01,   0. , 18.1 , 0., 0.74  , 5.854,  96.6,  1.8956, 24., 666., 20.2, 2.4052e+02, 23.79, 10.8),\n",
       "       (1.06718e+01,   0. , 18.1 , 0., 0.74  , 6.459,  94.8,  1.9879, 24., 666., 20.2, 4.3060e+01, 23.98, 11.8),\n",
       "       (6.28807e+00,   0. , 18.1 , 0., 0.74  , 6.341,  96.4,  2.072 , 24., 666., 20.2, 3.1801e+02, 17.79, 14.9),\n",
       "       (9.92485e+00,   0. , 18.1 , 0., 0.74  , 6.251,  96.6,  2.198 , 24., 666., 20.2, 3.8852e+02, 16.44, 12.6),\n",
       "       (9.32909e+00,   0. , 18.1 , 0., 0.713 , 6.185,  98.7,  2.2616, 24., 666., 20.2, 3.9690e+02, 18.13, 14.1),\n",
       "       (7.52601e+00,   0. , 18.1 , 0., 0.713 , 6.417,  98.3,  2.185 , 24., 666., 20.2, 3.0421e+02, 19.31, 13. ),\n",
       "       (6.71772e+00,   0. , 18.1 , 0., 0.713 , 6.749,  92.6,  2.3236, 24., 666., 20.2, 3.2000e-01, 17.44, 13.4),\n",
       "       (5.44114e+00,   0. , 18.1 , 0., 0.713 , 6.655,  98.2,  2.3552, 24., 666., 20.2, 3.5529e+02, 17.73, 15.2),\n",
       "       (5.09017e+00,   0. , 18.1 , 0., 0.713 , 6.297,  91.8,  2.3682, 24., 666., 20.2, 3.8509e+02, 17.27, 16.1),\n",
       "       (8.24809e+00,   0. , 18.1 , 0., 0.713 , 7.393,  99.3,  2.4527, 24., 666., 20.2, 3.7587e+02, 16.74, 17.8),\n",
       "       (9.51363e+00,   0. , 18.1 , 0., 0.713 , 6.728,  94.1,  2.4961, 24., 666., 20.2, 6.6800e+00, 18.71, 14.9),\n",
       "       (4.75237e+00,   0. , 18.1 , 0., 0.713 , 6.525,  86.5,  2.4358, 24., 666., 20.2, 5.0920e+01, 18.13, 14.1),\n",
       "       (4.66883e+00,   0. , 18.1 , 0., 0.713 , 5.976,  87.9,  2.5806, 24., 666., 20.2, 1.0480e+01, 19.01, 12.7),\n",
       "       (8.20058e+00,   0. , 18.1 , 0., 0.713 , 5.936,  80.3,  2.7792, 24., 666., 20.2, 3.5000e+00, 16.94, 13.5),\n",
       "       (7.75223e+00,   0. , 18.1 , 0., 0.713 , 6.301,  83.7,  2.7831, 24., 666., 20.2, 2.7221e+02, 16.23, 14.9),\n",
       "       (6.80117e+00,   0. , 18.1 , 0., 0.713 , 6.081,  84.4,  2.7175, 24., 666., 20.2, 3.9690e+02, 14.7 , 20. ),\n",
       "       (4.81213e+00,   0. , 18.1 , 0., 0.713 , 6.701,  90. ,  2.5975, 24., 666., 20.2, 2.5523e+02, 16.42, 16.4),\n",
       "       (3.69311e+00,   0. , 18.1 , 0., 0.713 , 6.376,  88.4,  2.5671, 24., 666., 20.2, 3.9143e+02, 14.65, 17.7),\n",
       "       (6.65492e+00,   0. , 18.1 , 0., 0.713 , 6.317,  83. ,  2.7344, 24., 666., 20.2, 3.9690e+02, 13.99, 19.5),\n",
       "       (5.82115e+00,   0. , 18.1 , 0., 0.713 , 6.513,  89.9,  2.8016, 24., 666., 20.2, 3.9382e+02, 10.29, 20.2),\n",
       "       (7.83932e+00,   0. , 18.1 , 0., 0.655 , 6.209,  65.4,  2.9634, 24., 666., 20.2, 3.9690e+02, 13.22, 21.4),\n",
       "       (3.16360e+00,   0. , 18.1 , 0., 0.655 , 5.759,  48.2,  3.0665, 24., 666., 20.2, 3.3440e+02, 14.13, 19.9),\n",
       "       (3.77498e+00,   0. , 18.1 , 0., 0.655 , 5.952,  84.7,  2.8715, 24., 666., 20.2, 2.2010e+01, 17.15, 19. ),\n",
       "       (4.42228e+00,   0. , 18.1 , 0., 0.584 , 6.003,  94.5,  2.5403, 24., 666., 20.2, 3.3129e+02, 21.32, 19.1),\n",
       "       (1.55757e+01,   0. , 18.1 , 0., 0.58  , 5.926,  71. ,  2.9084, 24., 666., 20.2, 3.6874e+02, 18.13, 19.1),\n",
       "       (1.30751e+01,   0. , 18.1 , 0., 0.58  , 5.713,  56.7,  2.8237, 24., 666., 20.2, 3.9690e+02, 14.76, 20.1),\n",
       "       (4.34879e+00,   0. , 18.1 , 0., 0.58  , 6.167,  84. ,  3.0334, 24., 666., 20.2, 3.9690e+02, 16.29, 19.9),\n",
       "       (4.03841e+00,   0. , 18.1 , 0., 0.532 , 6.229,  90.7,  3.0993, 24., 666., 20.2, 3.9533e+02, 12.87, 19.6),\n",
       "       (3.56868e+00,   0. , 18.1 , 0., 0.58  , 6.437,  75. ,  2.8965, 24., 666., 20.2, 3.9337e+02, 14.36, 23.2),\n",
       "       (4.64689e+00,   0. , 18.1 , 0., 0.614 , 6.98 ,  67.6,  2.5329, 24., 666., 20.2, 3.7468e+02, 11.66, 29.8),\n",
       "       (8.05579e+00,   0. , 18.1 , 0., 0.584 , 5.427,  95.4,  2.4298, 24., 666., 20.2, 3.5258e+02, 18.14, 13.8),\n",
       "       (6.39312e+00,   0. , 18.1 , 0., 0.584 , 6.162,  97.4,  2.206 , 24., 666., 20.2, 3.0276e+02, 24.1 , 13.3),\n",
       "       (4.87141e+00,   0. , 18.1 , 0., 0.614 , 6.484,  93.6,  2.3053, 24., 666., 20.2, 3.9621e+02, 18.68, 16.7),\n",
       "       (1.50234e+01,   0. , 18.1 , 0., 0.614 , 5.304,  97.3,  2.1007, 24., 666., 20.2, 3.4948e+02, 24.91, 12. ),\n",
       "       (1.02330e+01,   0. , 18.1 , 0., 0.614 , 6.185,  96.7,  2.1705, 24., 666., 20.2, 3.7970e+02, 18.03, 14.6),\n",
       "       (1.43337e+01,   0. , 18.1 , 0., 0.614 , 6.229,  88. ,  1.9512, 24., 666., 20.2, 3.8332e+02, 13.11, 21.4),\n",
       "       (5.82401e+00,   0. , 18.1 , 0., 0.532 , 6.242,  64.7,  3.4242, 24., 666., 20.2, 3.9690e+02, 10.74, 23. ),\n",
       "       (5.70818e+00,   0. , 18.1 , 0., 0.532 , 6.75 ,  74.9,  3.3317, 24., 666., 20.2, 3.9307e+02,  7.74, 23.7),\n",
       "       (5.73116e+00,   0. , 18.1 , 0., 0.532 , 7.061,  77. ,  3.4106, 24., 666., 20.2, 3.9528e+02,  7.01, 25. ),\n",
       "       (2.81838e+00,   0. , 18.1 , 0., 0.532 , 5.762,  40.3,  4.0983, 24., 666., 20.2, 3.9292e+02, 10.42, 21.8),\n",
       "       (2.37857e+00,   0. , 18.1 , 0., 0.583 , 5.871,  41.9,  3.724 , 24., 666., 20.2, 3.7073e+02, 13.34, 20.6),\n",
       "       (3.67367e+00,   0. , 18.1 , 0., 0.583 , 6.312,  51.9,  3.9917, 24., 666., 20.2, 3.8862e+02, 10.58, 21.2),\n",
       "       (5.69175e+00,   0. , 18.1 , 0., 0.583 , 6.114,  79.8,  3.5459, 24., 666., 20.2, 3.9268e+02, 14.98, 19.1),\n",
       "       (4.83567e+00,   0. , 18.1 , 0., 0.583 , 5.905,  53.2,  3.1523, 24., 666., 20.2, 3.8822e+02, 11.45, 20.6),\n",
       "       (1.50860e-01,   0. , 27.74, 0., 0.609 , 5.454,  92.7,  1.8209,  4., 711., 20.1, 3.9509e+02, 18.06, 15.2),\n",
       "       (1.83370e-01,   0. , 27.74, 0., 0.609 , 5.414,  98.3,  1.7554,  4., 711., 20.1, 3.4405e+02, 23.97,  7. ),\n",
       "       (2.07460e-01,   0. , 27.74, 0., 0.609 , 5.093,  98. ,  1.8226,  4., 711., 20.1, 3.1843e+02, 29.68,  8.1),\n",
       "       (1.05740e-01,   0. , 27.74, 0., 0.609 , 5.983,  98.8,  1.8681,  4., 711., 20.1, 3.9011e+02, 18.07, 13.6),\n",
       "       (1.11320e-01,   0. , 27.74, 0., 0.609 , 5.983,  83.5,  2.1099,  4., 711., 20.1, 3.9690e+02, 13.35, 20.1),\n",
       "       (1.73310e-01,   0. ,  9.69, 0., 0.585 , 5.707,  54. ,  2.3817,  6., 391., 19.2, 3.9690e+02, 12.01, 21.8),\n",
       "       (2.79570e-01,   0. ,  9.69, 0., 0.585 , 5.926,  42.6,  2.3817,  6., 391., 19.2, 3.9690e+02, 13.59, 24.5),\n",
       "       (1.78990e-01,   0. ,  9.69, 0., 0.585 , 5.67 ,  28.8,  2.7986,  6., 391., 19.2, 3.9329e+02, 17.6 , 23.1),\n",
       "       (2.89600e-01,   0. ,  9.69, 0., 0.585 , 5.39 ,  72.9,  2.7986,  6., 391., 19.2, 3.9690e+02, 21.14, 19.7),\n",
       "       (2.68380e-01,   0. ,  9.69, 0., 0.585 , 5.794,  70.6,  2.8927,  6., 391., 19.2, 3.9690e+02, 14.1 , 18.3),\n",
       "       (2.39120e-01,   0. ,  9.69, 0., 0.585 , 6.019,  65.3,  2.4091,  6., 391., 19.2, 3.9690e+02, 12.92, 21.2),\n",
       "       (1.77830e-01,   0. ,  9.69, 0., 0.585 , 5.569,  73.5,  2.3999,  6., 391., 19.2, 3.9577e+02, 15.1 , 17.5),\n",
       "       (2.24380e-01,   0. ,  9.69, 0., 0.585 , 6.027,  79.7,  2.4982,  6., 391., 19.2, 3.9690e+02, 14.33, 16.8),\n",
       "       (6.26300e-02,   0. , 11.93, 0., 0.573 , 6.593,  69.1,  2.4786,  1., 273., 21. , 3.9199e+02,  9.67, 22.4),\n",
       "       (4.52700e-02,   0. , 11.93, 0., 0.573 , 6.12 ,  76.7,  2.2875,  1., 273., 21. , 3.9690e+02,  9.08, 20.6),\n",
       "       (6.07600e-02,   0. , 11.93, 0., 0.573 , 6.976,  91. ,  2.1675,  1., 273., 21. , 3.9690e+02,  5.64, 23.9),\n",
       "       (1.09590e-01,   0. , 11.93, 0., 0.573 , 6.794,  89.3,  2.3889,  1., 273., 21. , 3.9345e+02,  6.48, 22. ),\n",
       "       (4.74100e-02,   0. , 11.93, 0., 0.573 , 6.03 ,  80.8,  2.505 ,  1., 273., 21. , 3.9690e+02,  7.88, 11.9)],\n",
       "      dtype=[('CRIM', '<f8'), ('ZN', '<f8'), ('INDUS', '<f8'), ('CHAS', '<f8'), ('NOX', '<f8'), ('RM', '<f8'), ('AGE', '<f8'), ('DIS', '<f8'), ('RAD', '<f8'), ('TAX', '<f8'), ('PTRATIO', '<f8'), ('B', '<f8'), ('LSTAT', '<f8'), ('MEDV', '<f8')])"
      ]
     },
     "execution_count": 69,
     "metadata": {},
     "output_type": "execute_result"
    }
   ],
   "source": [
    "y"
   ]
  },
  {
   "cell_type": "code",
   "execution_count": 73,
   "metadata": {},
   "outputs": [
    {
     "data": {
      "text/plain": [
       "(506,)"
      ]
     },
     "execution_count": 73,
     "metadata": {},
     "output_type": "execute_result"
    }
   ],
   "source": [
    "np.shape(y['CRIM'])"
   ]
  },
  {
   "cell_type": "code",
   "execution_count": null,
   "metadata": {},
   "outputs": [],
   "source": []
  }
 ],
 "metadata": {
  "jekyll": {
   "display_name": "CSV"
  },
  "kernelspec": {
   "display_name": "Python 3 (ipykernel)",
   "language": "python",
   "name": "python3"
  },
  "language_info": {
   "codemirror_mode": {
    "name": "ipython",
    "version": 3
   },
   "file_extension": ".py",
   "mimetype": "text/x-python",
   "name": "python",
   "nbconvert_exporter": "python",
   "pygments_lexer": "ipython3",
<<<<<<< Updated upstream
   "version": "3.6.1"
=======
   "version": "3.9.7"
>>>>>>> Stashed changes
  }
 },
 "nbformat": 4,
 "nbformat_minor": 1
}
