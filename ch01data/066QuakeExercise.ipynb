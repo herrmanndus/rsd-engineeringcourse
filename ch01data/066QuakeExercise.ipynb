{
 "cells": [
  {
   "cell_type": "markdown",
   "metadata": {},
   "source": [
    "## Exercise/Example: the biggest Earthquake in the UK this Century"
   ]
  },
  {
   "cell_type": "markdown",
   "metadata": {},
   "source": [
    "### The Problem"
   ]
  },
  {
   "cell_type": "markdown",
   "metadata": {},
   "source": [
    "GeoJSON is a json-based file format for sharing geographic data. One example dataset is the USGS earthquake data:"
   ]
  },
  {
   "cell_type": "code",
   "execution_count": 4,
   "metadata": {},
   "outputs": [],
   "source": [
    "import requests\n",
    "quakes=requests.get(\"http://earthquake.usgs.gov/fdsnws/event/1/query.geojson\",\n",
    "                    params={\n",
    "        'starttime':\"2000-01-01\",\n",
    "        \"maxlatitude\":\"58.723\",\n",
    "        \"minlatitude\":\"50.008\",\n",
    "        \"maxlongitude\":\"1.67\",\n",
    "        \"minlongitude\":\"-9.756\",\n",
    "        \"minmagnitude\":\"1\",\n",
    "        \"endtime\":\"2016-10-27\",\n",
    "        \"orderby\":\"time-asc\"}\n",
    "                   )"
   ]
  },
  {
   "cell_type": "code",
   "execution_count": 5,
   "metadata": {},
   "outputs": [
    {
     "data": {
      "text/plain": [
       "'{\"type\":\"FeatureCollection\",\"metadata\":{\"generated\":1665079143000,\"url\":\"https://earthquake.usgs.gov'"
      ]
     },
     "execution_count": 5,
     "metadata": {},
     "output_type": "execute_result"
    }
   ],
   "source": [
    "quakes.text[0:100]"
   ]
  },
  {
   "cell_type": "markdown",
   "metadata": {},
   "source": [
    "Your exercise: determine the location of the largest magnitude earthquake in the UK this century."
   ]
  },
  {
   "cell_type": "markdown",
   "metadata": {},
   "source": [
    "You'll need to:\n",
    "* Get the text of the web result\n",
    "* Parse the data as JSON\n",
    "* Understand how the data is structured into dictionaries and lists\n",
    "   * Where is the magnitude?\n",
    "   * Where is the place description or coordinates?\n",
    "* Program a search through all the quakes to find the biggest quake.\n",
    "* Find the place of the biggest quake\n",
    "* Form a URL for Google Maps at that latitude and longitude: look back at the introductory example\n",
    "* Display that image"
   ]
  },
  {
   "cell_type": "code",
   "execution_count": 6,
   "metadata": {},
   "outputs": [
    {
     "data": {
      "text/plain": [
       "requests.models.Response"
      ]
     },
     "execution_count": 6,
     "metadata": {},
     "output_type": "execute_result"
    }
   ],
   "source": [
    "type(quakes)"
   ]
  },
  {
   "cell_type": "code",
   "execution_count": 7,
   "metadata": {},
   "outputs": [
    {
     "data": {
      "text/plain": [
       "str"
      ]
     },
     "execution_count": 7,
     "metadata": {},
     "output_type": "execute_result"
    }
   ],
   "source": [
    "type(quakes.text)"
   ]
  },
  {
   "cell_type": "code",
   "execution_count": 8,
   "metadata": {},
   "outputs": [
    {
     "data": {
      "text/plain": [
       "dict"
      ]
     },
     "execution_count": 8,
     "metadata": {},
     "output_type": "execute_result"
    }
   ],
   "source": [
    "# use the json library to parse str to dict\n",
    "import json\n",
    "raw_database = json.loads(quakes.text)\n",
    "type(raw_database)"
   ]
  },
  {
   "cell_type": "code",
   "execution_count": 9,
   "metadata": {},
   "outputs": [
    {
     "data": {
      "text/plain": [
       "dict_keys(['type', 'metadata', 'features', 'bbox'])"
      ]
     },
     "execution_count": 9,
     "metadata": {},
     "output_type": "execute_result"
    }
   ],
   "source": [
    "# inspect the keys to see where the relevant info could be \n",
    "raw_database.keys()"
   ]
  },
  {
   "cell_type": "code",
   "execution_count": 10,
   "metadata": {},
   "outputs": [],
   "source": [
    "# are presumably stored in features, let's inspect that\n",
    "features = raw_database['features']\n",
    "#len(features)\n",
    "## Looks like there are 111 entries, presumably corresponding to all the quakes\n",
    "#features[90]['properties']['mag'] # this is how you access the magnitude \n",
    "\n",
    "list_of_mags = [quake['properties']['mag'] for quake in features]"
   ]
  },
  {
   "cell_type": "code",
   "execution_count": 11,
   "metadata": {},
   "outputs": [],
   "source": [
    "#features[90]['properties']"
   ]
  },
  {
   "cell_type": "code",
   "execution_count": 12,
   "metadata": {},
   "outputs": [
    {
     "name": "stdout",
     "output_type": "stream",
     "text": [
      "19\n"
     ]
    },
    {
     "data": {
      "image/png": "[encoded data removed]",
      "text/plain": [
       "<Figure size 432x288 with 1 Axes>"
      ]
     },
     "metadata": {
      "needs_background": "light"
     },
     "output_type": "display_data"
    }
   ],
   "source": [
    "# for visualization, plot the magnitudes \n",
    "import matplotlib.pyplot as plt\n",
    "import numpy as np\n",
    "\n",
    "i=np.argmax(list_of_mags)\n",
    "print(i)\n",
    "\n",
    "plt.plot(list_of_mags)\n",
    "plt.plot([i, i], [1, 5], color='k', linestyle='--', linewidth=1)\n",
    "plt.show()\n"
   ]
  },
  {
   "cell_type": "code",
   "execution_count": 13,
   "metadata": {},
   "outputs": [
    {
     "name": "stdout",
     "output_type": "stream",
     "text": [
      "2 km ESE of Wombourn, United Kingdom\n"
     ]
    }
   ],
   "source": [
    "#Find the place of the biggest quake\n",
    "i=np.argmax(list_of_mags)\n",
    "\n",
    "print(features[i]['properties']['place'])\n"
   ]
  },
  {
   "cell_type": "code",
   "execution_count": 16,
   "metadata": {},
   "outputs": [
    {
     "name": "stdout",
     "output_type": "stream",
     "text": [
      "{'type': 'Feature', 'properties': {'mag': 4.8, 'place': '2 km ESE of Wombourn, United Kingdom', 'time': 1032738794600, 'updated': 1600455819229, 'tz': None, 'url': 'https://earthquake.usgs.gov/earthquakes/eventpage/usp000bcxg', 'detail': 'https://earthquake.usgs.gov/fdsnws/event/1/query?eventid=usp000bcxg&format=geojson', 'felt': None, 'cdi': None, 'mmi': 6.161, 'alert': None, 'status': 'reviewed', 'tsunami': 0, 'sig': 354, 'net': 'us', 'code': 'p000bcxg', 'ids': ',usp000bcxg,atlas20020922235314,', 'sources': ',us,atlas,', 'types': ',impact-text,origin,phase-data,shakemap,trump-shakemap,', 'nst': 268, 'dmin': None, 'rms': None, 'gap': None, 'magType': 'mb', 'type': 'earthquake', 'title': 'M 4.8 - 2 km ESE of Wombourn, United Kingdom'}, 'geometry': {'type': 'Point', 'coordinates': [-2.15, 52.52, 9.4]}, 'id': 'usp000bcxg'}\n"
     ]
    }
   ],
   "source": [
    "# find geocoordinates \n",
    "print(features[i])"
   ]
  },
  {
   "cell_type": "code",
   "execution_count": 15,
   "metadata": {},
   "outputs": [
    {
     "ename": "ConfigurationError",
     "evalue": "Since July 2018 Google requires each request to have an API key. Pass a valid `api_key` to GoogleV3 geocoder to fix this error. See https://developers.google.com/maps/documentation/geocoding/usage-and-billing",
     "output_type": "error",
     "traceback": [
      "\u001b[1;31m---------------------------------------------------------------------------\u001b[0m",
      "\u001b[1;31mConfigurationError\u001b[0m                        Traceback (most recent call last)",
      "\u001b[1;32m<ipython-input-15-ac8269e42943>\u001b[0m in \u001b[0;36m<module>\u001b[1;34m\u001b[0m\n\u001b[0;32m      1\u001b[0m \u001b[1;32mimport\u001b[0m \u001b[0mgeopy\u001b[0m\u001b[1;33m\u001b[0m\u001b[1;33m\u001b[0m\u001b[0m\n\u001b[0;32m      2\u001b[0m \u001b[1;33m\u001b[0m\u001b[0m\n\u001b[1;32m----> 3\u001b[1;33m \u001b[0mgeocoder\u001b[0m\u001b[1;33m=\u001b[0m\u001b[0mgeopy\u001b[0m\u001b[1;33m.\u001b[0m\u001b[0mgeocoders\u001b[0m\u001b[1;33m.\u001b[0m\u001b[0mGoogleV3\u001b[0m\u001b[1;33m(\u001b[0m\u001b[0mdomain\u001b[0m\u001b[1;33m=\u001b[0m\u001b[1;34m\"maps.google.co.uk\"\u001b[0m\u001b[1;33m)\u001b[0m\u001b[1;33m\u001b[0m\u001b[1;33m\u001b[0m\u001b[0m\n\u001b[0m\u001b[0;32m      4\u001b[0m \u001b[0mgeocoder\u001b[0m\u001b[1;33m.\u001b[0m\u001b[0mgeocode\u001b[0m\u001b[1;33m(\u001b[0m\u001b[1;34m'Wombourn'\u001b[0m\u001b[1;33m,\u001b[0m \u001b[0mexactly_one\u001b[0m\u001b[1;33m=\u001b[0m\u001b[1;32mFalse\u001b[0m\u001b[1;33m)\u001b[0m\u001b[1;33m\u001b[0m\u001b[1;33m\u001b[0m\u001b[0m\n",
      "\u001b[1;32m~\\anaconda3\\lib\\site-packages\\geopy\\geocoders\\google.py\u001b[0m in \u001b[0;36m__init__\u001b[1;34m(self, api_key, domain, scheme, client_id, secret_key, timeout, proxies, user_agent, ssl_context, adapter_factory, channel)\u001b[0m\n\u001b[0;32m    111\u001b[0m \u001b[1;33m\u001b[0m\u001b[0m\n\u001b[0;32m    112\u001b[0m         \u001b[1;32mif\u001b[0m \u001b[1;32mnot\u001b[0m \u001b[0mself\u001b[0m\u001b[1;33m.\u001b[0m\u001b[0mpremier\u001b[0m \u001b[1;32mand\u001b[0m \u001b[1;32mnot\u001b[0m \u001b[0mapi_key\u001b[0m\u001b[1;33m:\u001b[0m\u001b[1;33m\u001b[0m\u001b[1;33m\u001b[0m\u001b[0m\n\u001b[1;32m--> 113\u001b[1;33m             raise ConfigurationError(\n\u001b[0m\u001b[0;32m    114\u001b[0m                 \u001b[1;34m'Since July 2018 Google requires each request to have an API key. '\u001b[0m\u001b[1;33m\u001b[0m\u001b[1;33m\u001b[0m\u001b[0m\n\u001b[0;32m    115\u001b[0m                 \u001b[1;34m'Pass a valid `api_key` to GoogleV3 geocoder to fix this error. '\u001b[0m\u001b[1;33m\u001b[0m\u001b[1;33m\u001b[0m\u001b[0m\n",
      "\u001b[1;31mConfigurationError\u001b[0m: Since July 2018 Google requires each request to have an API key. Pass a valid `api_key` to GoogleV3 geocoder to fix this error. See https://developers.google.com/maps/documentation/geocoding/usage-and-billing"
     ]
    }
   ],
   "source": [
    "import geopy\n",
    "\n",
    "geocoder=geopy.geocoders.GoogleV3(domain=\"maps.google.co.uk\")\n",
    "geocoder.geocode('Wombourn', exactly_one=False)"
   ]
  },
  {
   "cell_type": "code",
   "execution_count": 48,
   "metadata": {},
   "outputs": [
    {
     "data": {
      "text/plain": [
       "2"
      ]
     },
     "execution_count": 48,
     "metadata": {},
     "output_type": "execute_result"
    }
   ],
   "source": [
    "import requests\n",
    "def request_map_at(lat,long, satellite=True,\n",
    "                   zoom=10, size=(400,400), sensor=False):\n",
    "  base=\"http://maps.googleapis.com/maps/api/staticmap?\"\n",
    "  \n",
    "  params=dict(\n",
    "    sensor= str(sensor).lower(),\n",
    "    zoom= zoom,\n",
    "    size= str(size[0])+\"x\"+str(size[1]),\n",
    "    center = str(lat)+\",\"+str(long),\n",
    "    style=\"feature:all|element:labels|visibility:off\"\n",
    "  )\n",
    "  if satellite:\n",
    "    params[\"maptype\"]=\"satellite\"\n",
    "\n",
    "  return requests.get(base,params=params)"
   ]
  },
  {
   "cell_type": "code",
   "execution_count": null,
   "metadata": {},
   "outputs": [],
   "source": []
  }
 ],
 "metadata": {
  "jekyll": {
   "display_name": "Earthquakes Exercise"
  },
  "kernelspec": {
   "display_name": "Python 3",
   "language": "python",
   "name": "python3"
  },
  "language_info": {
   "codemirror_mode": {
    "name": "ipython",
    "version": 3
   },
   "file_extension": ".py",
   "mimetype": "text/x-python",
   "name": "python",
   "nbconvert_exporter": "python",
   "pygments_lexer": "ipython3",
   "version": "3.8.3"
  }
 },
 "nbformat": 4,
 "nbformat_minor": 1
}
