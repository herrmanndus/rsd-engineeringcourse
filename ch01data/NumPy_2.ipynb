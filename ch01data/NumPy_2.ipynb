{
 "cells": [
  {
   "cell_type": "code",
   "execution_count": 3,
   "id": "db6ce0be",
   "metadata": {},
   "outputs": [],
   "source": [
    "import numpy as np\n",
    "import pandas as pd"
   ]
  },
  {
   "cell_type": "code",
   "execution_count": 4,
   "id": "b08a7bd9",
   "metadata": {},
   "outputs": [
    {
     "data": {
      "text/plain": [
       "array([[[1.],\n",
       "        [1.]],\n",
       "\n",
       "       [[1.],\n",
       "        [1.]],\n",
       "\n",
       "       [[1.],\n",
       "        [1.]]])"
      ]
     },
     "execution_count": 4,
     "metadata": {},
     "output_type": "execute_result"
    }
   ],
   "source": [
    "np.random.rand(3,2)\n",
    "np.zeros([3,2,1])\n",
    "np.ones([3,2,1])"
   ]
  },
  {
   "cell_type": "code",
   "execution_count": 5,
   "id": "4f326e57",
   "metadata": {},
   "outputs": [
    {
     "name": "stdout",
     "output_type": "stream",
     "text": [
      "[[0.80352949 0.18738035]\n",
      " [0.63478173 0.7626858 ]\n",
      " [0.84987096 0.05078665]]\n",
      "[[0.80352949 0.18738035]\n",
      " [0.63478173 0.7626858 ]\n",
      " [0.84987096 0.05078665]]\n"
     ]
    }
   ],
   "source": [
    "y = np.random.rand(3,2)\n",
    "print(y)\n",
    "z = np.array(y,dtype='float64')\n",
    "print(z)"
   ]
  },
  {
   "cell_type": "code",
   "execution_count": 6,
   "id": "5872db27",
   "metadata": {},
   "outputs": [
    {
     "name": "stdout",
     "output_type": "stream",
     "text": [
      "8036 days\n"
     ]
    }
   ],
   "source": [
    "timeend = np.datetime64(\"2022-01-01\")\n",
    "timestart = np.datetime64(\"2000-01-01\")\n",
    "diff = timeend-timestart\n",
    "print(diff)\n",
    "\n",
    "delta_days = np.datetime64(\"2022-01-01\")-np.datetime64(\"2000-01-01\")"
   ]
  },
  {
   "cell_type": "code",
   "execution_count": 7,
   "id": "92d0fade",
   "metadata": {},
   "outputs": [
    {
     "name": "stdout",
     "output_type": "stream",
     "text": [
      "[[0.07948619 0.20766139 0.65353421]\n",
      " [0.68361879 0.50410072 0.93770716]\n",
      " [0.92299235 0.03908524 0.68391311]]\n",
      "[0.07948619 0.68361879 0.92299235]\n"
     ]
    }
   ],
   "source": [
    "a = np.random.rand(3,3)\n",
    "b = a[:,0].copy() # get first column as a row vector!\n",
    "c = a[:,[0]].copy() # get first column as a column vector!\n",
    "\n",
    "print(a)\n",
    "print(b)\n"
   ]
  },
  {
   "cell_type": "code",
   "execution_count": 8,
   "id": "96e409cd",
   "metadata": {},
   "outputs": [
    {
     "name": "stdout",
     "output_type": "stream",
     "text": [
      "[[0 0]\n",
      " [1 1]\n",
      " [2 0]\n",
      " [2 1]]\n",
      "(array([0, 1, 2, 2]), array([0, 1, 0, 1]))\n"
     ]
    },
    {
     "data": {
      "text/plain": [
       "array([[[3, 0, 0],\n",
       "        [3, 0, 0]],\n",
       "\n",
       "       [[0, 4, 0],\n",
       "        [0, 4, 0]],\n",
       "\n",
       "       [[5, 6, 0],\n",
       "        [3, 0, 0]],\n",
       "\n",
       "       [[5, 6, 0],\n",
       "        [0, 4, 0]]])"
      ]
     },
     "execution_count": 8,
     "metadata": {},
     "output_type": "execute_result"
    }
   ],
   "source": [
    "x = np.array([[3, 0, 0], [0, 4, 0], [5, 6, 0]])\n",
    "n1 = np.argwhere(x)\n",
    "n2 = np.nonzero(x)\n",
    "print(n1)\n",
    "print(n2)\n",
    "\n",
    "x[n1]"
   ]
  },
  {
   "cell_type": "code",
   "execution_count": 10,
   "id": "77c6da1a",
   "metadata": {},
   "outputs": [
    {
     "name": "stdout",
     "output_type": "stream",
     "text": [
      "[1 2 3 4 5 6 7 8 9]\n",
      "[1 2 3 4 5 6 7 8 9]\n"
     ]
    }
   ],
   "source": [
    "X = np.array([[1,2,3],[4,5,6],[7,8,9]])\n",
    "m=X.flatten()\n",
    "n=X.ravel()\n",
    "\n",
    "print(m)\n",
    "print(n)"
   ]
  },
  {
   "cell_type": "code",
   "execution_count": 15,
   "id": "3eb1928c",
   "metadata": {},
   "outputs": [
    {
     "data": {
      "text/plain": [
       "array([[0.08812401, 0.22942693, 0.76652041],\n",
       "       [0.52547035, 0.10917958, 0.79803472],\n",
       "       [0.60121891, 0.27752016, 0.75946202]])"
      ]
     },
     "execution_count": 15,
     "metadata": {},
     "output_type": "execute_result"
    }
   ],
   "source": [
    "test=np.random.rand(9,9)\n",
    "test[np.ix_([1,2,8],[3,4,7])]"
   ]
  },
  {
   "cell_type": "code",
   "execution_count": 25,
   "id": "f33ffbfe",
   "metadata": {},
   "outputs": [
    {
     "name": "stdout",
     "output_type": "stream",
     "text": [
      "[ 0  1  2  3  4  5  6  7  8  9 10 11 12 13 14 15 16 17 18 19]\n",
      "[[ 0 10]\n",
      " [ 1 11]\n",
      " [ 2 12]\n",
      " [ 3 13]\n",
      " [ 4 14]\n",
      " [ 5 15]\n",
      " [ 6 16]\n",
      " [ 7 17]\n",
      " [ 8 18]\n",
      " [ 9 19]]\n"
     ]
    }
   ],
   "source": [
    "a = np.arange(0,10,1)\n",
    "b = np.arange(10,20,1)\n",
    "#print(a,b)\n",
    "\n",
    "# concatenation row and column \n",
    "\n",
    "r = np.r_[a,b]\n",
    "print(r)\n",
    "c = np.c_[a,b]\n",
    "print(c)"
   ]
  },
  {
   "cell_type": "code",
   "execution_count": 26,
   "id": "2d6eaed1",
   "metadata": {},
   "outputs": [
    {
     "data": {
      "text/plain": [
       "array([[0.51773609, 0.73952696, 0.0512372 , 0.67454136, 0.80787881,\n",
       "        0.84620919, 0.93676159, 0.76141532, 0.79275273],\n",
       "       [0.6235471 , 0.74193051, 0.75459319, 0.08812401, 0.22942693,\n",
       "        0.75419074, 0.06538121, 0.76652041, 0.33860842],\n",
       "       [0.20408488, 0.2379566 , 0.92442753, 0.52547035, 0.10917958,\n",
       "        0.09701733, 0.75311374, 0.79803472, 0.3413126 ],\n",
       "       [0.63637949, 0.19092108, 0.40492089, 0.92513823, 0.22886545,\n",
       "        0.80577167, 0.45428812, 0.17694612, 0.49139047],\n",
       "       [0.13970479, 0.92688532, 0.56780354, 0.79691443, 0.62290678,\n",
       "        0.34487844, 0.41005904, 0.0416624 , 0.7924787 ],\n",
       "       [0.39077659, 0.46011064, 0.01981903, 0.31699273, 0.02847661,\n",
       "        0.19432527, 0.26771377, 0.69962996, 0.82070812],\n",
       "       [0.85670409, 0.75823159, 0.17451408, 0.0541317 , 0.12807091,\n",
       "        0.27894388, 0.9264224 , 0.25871553, 0.39220355],\n",
       "       [0.19181691, 0.28501479, 0.35648184, 0.09135537, 0.68036404,\n",
       "        0.90902867, 0.21256886, 0.35587645, 0.62426871],\n",
       "       [0.02953411, 0.83468463, 0.20160867, 0.60121891, 0.27752016,\n",
       "        0.30778208, 0.50107245, 0.75946202, 0.69656472]])"
      ]
     },
     "execution_count": 26,
     "metadata": {},
     "output_type": "execute_result"
    }
   ],
   "source": [
    "test"
   ]
  },
  {
   "cell_type": "code",
   "execution_count": 27,
   "id": "3fce466a",
   "metadata": {},
   "outputs": [
    {
     "data": {
      "text/plain": [
       "array([0.51773609, 0.73952696, 0.67454136, 0.80787881, 0.84620919,\n",
       "       0.93676159, 0.76141532, 0.79275273, 0.6235471 , 0.74193051,\n",
       "       0.75459319, 0.75419074, 0.76652041, 0.92442753, 0.52547035,\n",
       "       0.75311374, 0.79803472, 0.63637949, 0.92513823, 0.80577167,\n",
       "       0.92688532, 0.56780354, 0.79691443, 0.62290678, 0.7924787 ,\n",
       "       0.69962996, 0.82070812, 0.85670409, 0.75823159, 0.9264224 ,\n",
       "       0.68036404, 0.90902867, 0.62426871, 0.83468463, 0.60121891,\n",
       "       0.50107245, 0.75946202, 0.69656472])"
      ]
     },
     "execution_count": 27,
     "metadata": {},
     "output_type": "execute_result"
    }
   ],
   "source": [
    "test[(np.nonzero(test>0.5)[0],np.nonzero(test>0.5)[1])]\n"
   ]
  },
  {
   "cell_type": "code",
   "execution_count": 28,
   "id": "70c3360c",
   "metadata": {},
   "outputs": [
    {
     "data": {
      "text/plain": [
       "array([0.51773609, 0.73952696, 0.67454136, 0.80787881, 0.84620919,\n",
       "       0.93676159, 0.76141532, 0.79275273, 0.6235471 , 0.74193051,\n",
       "       0.75459319, 0.75419074, 0.76652041, 0.92442753, 0.52547035,\n",
       "       0.75311374, 0.79803472, 0.63637949, 0.92513823, 0.80577167,\n",
       "       0.92688532, 0.56780354, 0.79691443, 0.62290678, 0.7924787 ,\n",
       "       0.69962996, 0.82070812, 0.85670409, 0.75823159, 0.9264224 ,\n",
       "       0.68036404, 0.90902867, 0.62426871, 0.83468463, 0.60121891,\n",
       "       0.50107245, 0.75946202, 0.69656472])"
      ]
     },
     "execution_count": 28,
     "metadata": {},
     "output_type": "execute_result"
    }
   ],
   "source": [
    "test[np.nonzero(test>0.5)]\n"
   ]
  },
  {
   "cell_type": "code",
   "execution_count": 31,
   "id": "b643b21e",
   "metadata": {},
   "outputs": [
    {
     "name": "stdout",
     "output_type": "stream",
     "text": [
      "[[0 1 2]\n",
      " [3 4 5]\n",
      " [6 7 8]]\n"
     ]
    },
    {
     "data": {
      "text/plain": [
       "array([0, 1, 2, 3, 4, 5, 6, 7, 8])"
      ]
     },
     "execution_count": 31,
     "metadata": {},
     "output_type": "execute_result"
    }
   ],
   "source": [
    "a = np.arange(9).reshape((3,3))\n",
    "print(a)\n",
    "a.flatten()"
   ]
  },
  {
   "cell_type": "code",
   "execution_count": 33,
   "id": "71ef674e",
   "metadata": {},
   "outputs": [
    {
     "data": {
      "text/plain": [
       "(array([[1., 1., 1., 1.],\n",
       "        [1., 1., 1., 1.],\n",
       "        [1., 1., 1., 1.]]),\n",
       " array([[0., 0., 0., 0.],\n",
       "        [0., 0., 0., 0.],\n",
       "        [0., 0., 0., 0.]]))"
      ]
     },
     "execution_count": 33,
     "metadata": {},
     "output_type": "execute_result"
    }
   ],
   "source": [
    "np.ones((3, 4)), np.zeros((3, 4))"
   ]
  },
  {
   "cell_type": "code",
   "execution_count": 39,
   "id": "d4843f0d",
   "metadata": {},
   "outputs": [
    {
     "data": {
      "text/plain": [
       "array([0., 0.])"
      ]
     },
     "execution_count": 39,
     "metadata": {},
     "output_type": "execute_result"
    }
   ],
   "source": [
    "a=np.eye(3)\n",
    "np.diag(a)\n",
    "np.diag(a, 1)\n"
   ]
  },
  {
   "cell_type": "code",
   "execution_count": 40,
   "id": "a868eb74",
   "metadata": {},
   "outputs": [
    {
     "data": {
      "text/plain": [
       "array([1.        , 1.66666667, 2.33333333, 3.        ])"
      ]
     },
     "execution_count": 40,
     "metadata": {},
     "output_type": "execute_result"
    }
   ],
   "source": [
    "np.linspace(1,3,4)"
   ]
  },
  {
   "cell_type": "code",
   "execution_count": 41,
   "id": "df0b944a",
   "metadata": {},
   "outputs": [
    {
     "data": {
      "text/plain": [
       "array([[[0, 0, 0, 0],\n",
       "        [1, 1, 1, 1],\n",
       "        [2, 2, 2, 2]],\n",
       "\n",
       "       [[0, 1, 2, 3],\n",
       "        [0, 1, 2, 3],\n",
       "        [0, 1, 2, 3]]])"
      ]
     },
     "execution_count": 41,
     "metadata": {},
     "output_type": "execute_result"
    }
   ],
   "source": [
    "np.mgrid[0:3,0:4]"
   ]
  },
  {
   "cell_type": "code",
   "execution_count": 42,
   "id": "47ec64e0",
   "metadata": {},
   "outputs": [
    {
     "data": {
      "text/plain": [
       "(array([[1],\n",
       "        [3]]),\n",
       " array([[8, 9]]))"
      ]
     },
     "execution_count": 42,
     "metadata": {},
     "output_type": "execute_result"
    }
   ],
   "source": [
    "np.ix_([1,3],[8,9])"
   ]
  },
  {
   "cell_type": "code",
   "execution_count": 68,
   "id": "281fd93b",
   "metadata": {},
   "outputs": [
    {
     "name": "stdout",
     "output_type": "stream",
     "text": [
      "[[0.51971681 0.5462111 ]\n",
      " [0.70223493 0.02760431]]\n",
      "[[0.51971681 0.5462111 ]\n",
      " [0.70223493 0.02760431]]\n",
      "[[0.51971681 0.5462111 ]\n",
      " [0.70223493 0.02760431]]\n"
     ]
    }
   ],
   "source": [
    "q = np.random.rand(5,5)\n",
    "#get rows 0,2 and columns 3,4\n",
    "\n",
    "w = q[np.ix_([0,2],[3,4])]\n",
    "e = q[(np.array([0,2])[:,np.newaxis],np.r_[3,4])]\n",
    "r = q[np.array([[0],[2]]),np.array([3,4])]\n",
    "\n",
    "print(w)\n",
    "print(e)\n",
    "print(r)"
   ]
  },
  {
   "cell_type": "code",
   "execution_count": 55,
   "id": "a101dde3",
   "metadata": {},
   "outputs": [
    {
     "ename": "ValueError",
     "evalue": "Cross index must be 1 dimensional",
     "output_type": "error",
     "traceback": [
      "\u001b[0;31m---------------------------------------------------------------------------\u001b[0m",
      "\u001b[0;31mValueError\u001b[0m                                Traceback (most recent call last)",
      "\u001b[0;32m/var/folders/47/hbndf6xs6slbl_yz01qkqvmm0000gn/T/ipykernel_1241/3870547649.py\u001b[0m in \u001b[0;36m<module>\u001b[0;34m\u001b[0m\n\u001b[0;32m----> 1\u001b[0;31m \u001b[0mnp\u001b[0m\u001b[0;34m.\u001b[0m\u001b[0mix_\u001b[0m\u001b[0;34m(\u001b[0m\u001b[0mnp\u001b[0m\u001b[0;34m.\u001b[0m\u001b[0marray\u001b[0m\u001b[0;34m(\u001b[0m\u001b[0;34m[\u001b[0m\u001b[0;36m0\u001b[0m\u001b[0;34m,\u001b[0m\u001b[0;36m2\u001b[0m\u001b[0;34m]\u001b[0m\u001b[0;34m)\u001b[0m\u001b[0;34m[\u001b[0m\u001b[0;34m:\u001b[0m\u001b[0;34m,\u001b[0m\u001b[0mnp\u001b[0m\u001b[0;34m.\u001b[0m\u001b[0mnewaxis\u001b[0m\u001b[0;34m]\u001b[0m\u001b[0;34m,\u001b[0m\u001b[0;34m[\u001b[0m\u001b[0;36m3\u001b[0m\u001b[0;34m,\u001b[0m\u001b[0;36m4\u001b[0m\u001b[0;34m]\u001b[0m\u001b[0;34m)\u001b[0m\u001b[0;34m\u001b[0m\u001b[0;34m\u001b[0m\u001b[0m\n\u001b[0m",
      "\u001b[0;32m<__array_function__ internals>\u001b[0m in \u001b[0;36mix_\u001b[0;34m(*args, **kwargs)\u001b[0m\n",
      "\u001b[0;32m~/opt/anaconda3/lib/python3.9/site-packages/numpy/lib/index_tricks.py\u001b[0m in \u001b[0;36mix_\u001b[0;34m(*args)\u001b[0m\n\u001b[1;32m    100\u001b[0m                 \u001b[0mnew\u001b[0m \u001b[0;34m=\u001b[0m \u001b[0mnew\u001b[0m\u001b[0;34m.\u001b[0m\u001b[0mastype\u001b[0m\u001b[0;34m(\u001b[0m\u001b[0m_nx\u001b[0m\u001b[0;34m.\u001b[0m\u001b[0mintp\u001b[0m\u001b[0;34m)\u001b[0m\u001b[0;34m\u001b[0m\u001b[0;34m\u001b[0m\u001b[0m\n\u001b[1;32m    101\u001b[0m         \u001b[0;32mif\u001b[0m \u001b[0mnew\u001b[0m\u001b[0;34m.\u001b[0m\u001b[0mndim\u001b[0m \u001b[0;34m!=\u001b[0m \u001b[0;36m1\u001b[0m\u001b[0;34m:\u001b[0m\u001b[0;34m\u001b[0m\u001b[0;34m\u001b[0m\u001b[0m\n\u001b[0;32m--> 102\u001b[0;31m             \u001b[0;32mraise\u001b[0m \u001b[0mValueError\u001b[0m\u001b[0;34m(\u001b[0m\u001b[0;34m\"Cross index must be 1 dimensional\"\u001b[0m\u001b[0;34m)\u001b[0m\u001b[0;34m\u001b[0m\u001b[0;34m\u001b[0m\u001b[0m\n\u001b[0m\u001b[1;32m    103\u001b[0m         \u001b[0;32mif\u001b[0m \u001b[0missubdtype\u001b[0m\u001b[0;34m(\u001b[0m\u001b[0mnew\u001b[0m\u001b[0;34m.\u001b[0m\u001b[0mdtype\u001b[0m\u001b[0;34m,\u001b[0m \u001b[0m_nx\u001b[0m\u001b[0;34m.\u001b[0m\u001b[0mbool_\u001b[0m\u001b[0;34m)\u001b[0m\u001b[0;34m:\u001b[0m\u001b[0;34m\u001b[0m\u001b[0;34m\u001b[0m\u001b[0m\n\u001b[1;32m    104\u001b[0m             \u001b[0mnew\u001b[0m\u001b[0;34m,\u001b[0m \u001b[0;34m=\u001b[0m \u001b[0mnew\u001b[0m\u001b[0;34m.\u001b[0m\u001b[0mnonzero\u001b[0m\u001b[0;34m(\u001b[0m\u001b[0;34m)\u001b[0m\u001b[0;34m\u001b[0m\u001b[0;34m\u001b[0m\u001b[0m\n",
      "\u001b[0;31mValueError\u001b[0m: Cross index must be 1 dimensional"
     ]
    }
   ],
   "source": [
    "np.ix_([0,2],[3,4])"
   ]
  },
  {
   "cell_type": "code",
   "execution_count": 66,
   "id": "c020da80",
   "metadata": {},
   "outputs": [
    {
     "data": {
      "text/plain": [
       "array([[0],\n",
       "       [2]])"
      ]
     },
     "execution_count": 66,
     "metadata": {},
     "output_type": "execute_result"
    }
   ],
   "source": [
    "np.array([[0],[2]])"
   ]
  },
  {
   "cell_type": "code",
   "execution_count": 54,
   "id": "16a94fef",
   "metadata": {},
   "outputs": [
    {
     "data": {
      "text/plain": [
       "array([[0],\n",
       "       [2]])"
      ]
     },
     "execution_count": 54,
     "metadata": {},
     "output_type": "execute_result"
    }
   ],
   "source": [
    "np.array([0,2])[:,np.newaxis]"
   ]
  },
  {
   "cell_type": "code",
   "execution_count": 72,
   "id": "fdf449fb",
   "metadata": {},
   "outputs": [
    {
     "name": "stdout",
     "output_type": "stream",
     "text": [
      "[[0.94173081 0.26463704 0.56306332 0.81968814 0.64703775]\n",
      " [0.80530326 0.42344663 0.47709193 0.69560571 0.54086188]\n",
      " [0.14691411 0.5885195  0.03954709 0.17606853 0.01601906]\n",
      " [0.40242934 0.78252023 0.59872204 0.23354021 0.58601665]\n",
      " [0.9099915  0.62260419 0.95360803 0.82249647 0.35512673]]\n"
     ]
    },
    {
     "data": {
      "text/plain": [
       "array([[0.03954709, 0.01601906],\n",
       "       [0.95360803, 0.35512673]])"
      ]
     },
     "execution_count": 72,
     "metadata": {},
     "output_type": "execute_result"
    }
   ],
   "source": [
    "q = np.random.rand(5,5)\n",
    "print(q)\n",
    "q[[[2],[4]],[2,4]]"
   ]
  },
  {
   "cell_type": "code",
   "execution_count": 75,
   "id": "cb50650e",
   "metadata": {},
   "outputs": [
    {
     "data": {
      "text/plain": [
       "array([[0.2182233 , 0.3218257 , 0.40169982, 0.2182233 , 0.3218257 ,\n",
       "        0.40169982, 0.2182233 , 0.3218257 , 0.40169982],\n",
       "       [0.49784672, 0.74731682, 0.63594195, 0.49784672, 0.74731682,\n",
       "        0.63594195, 0.49784672, 0.74731682, 0.63594195],\n",
       "       [0.2182233 , 0.3218257 , 0.40169982, 0.2182233 , 0.3218257 ,\n",
       "        0.40169982, 0.2182233 , 0.3218257 , 0.40169982],\n",
       "       [0.49784672, 0.74731682, 0.63594195, 0.49784672, 0.74731682,\n",
       "        0.63594195, 0.49784672, 0.74731682, 0.63594195]])"
      ]
     },
     "execution_count": 75,
     "metadata": {},
     "output_type": "execute_result"
    }
   ],
   "source": [
    "a = np.random.rand(2,3)\n",
    "np.tile(a, (2, 3))"
   ]
  },
  {
   "cell_type": "code",
   "execution_count": 81,
   "id": "7519cfc7",
   "metadata": {},
   "outputs": [
    {
     "name": "stdout",
     "output_type": "stream",
     "text": [
      "[[0 1 2]]\n",
      "[[0]\n",
      " [1]\n",
      " [2]]\n"
     ]
    }
   ],
   "source": [
    "print(np.c_[0,1,2])\n",
    "print(np.c_[0:3])"
   ]
  },
  {
   "cell_type": "code",
   "execution_count": 93,
   "id": "6eb56bab",
   "metadata": {},
   "outputs": [
    {
     "name": "stdout",
     "output_type": "stream",
     "text": [
      "[[1. 1. 1.]\n",
      " [1. 1. 1.]\n",
      " [1. 1. 1.]\n",
      " [0. 0. 0.]\n",
      " [0. 0. 0.]\n",
      " [0. 0. 0.]]\n",
      "[[1. 1. 1.]\n",
      " [1. 1. 1.]\n",
      " [1. 1. 1.]\n",
      " [0. 0. 0.]\n",
      " [0. 0. 0.]\n",
      " [0. 0. 0.]]\n",
      "[[1. 1. 1.]\n",
      " [1. 1. 1.]\n",
      " [1. 1. 1.]\n",
      " [0. 0. 0.]\n",
      " [0. 0. 0.]\n",
      " [0. 0. 0.]]\n",
      "[[1. 1. 1.]\n",
      " [1. 1. 1.]\n",
      " [1. 1. 1.]\n",
      " [0. 0. 0.]\n",
      " [0. 0. 0.]\n",
      " [0. 0. 0.]]\n"
     ]
    }
   ],
   "source": [
    "a = np.ones((3,3))\n",
    "b = np.zeros((3,3))\n",
    "c = np.concatenate((a,b),axis = 0)\n",
    "d = np.r_[a,b]\n",
    "e = np.vstack((a,b))\n",
    "f = np.row_stack([a,b])\n",
    "print(c)\n",
    "print(d)\n",
    "print(e)\n",
    "print(f)\n"
   ]
  },
  {
   "cell_type": "code",
   "execution_count": 95,
   "id": "5cfc017f",
   "metadata": {},
   "outputs": [
    {
     "data": {
      "text/plain": [
       "array([0.5, 0.5, 0.5])"
      ]
     },
     "execution_count": 95,
     "metadata": {},
     "output_type": "execute_result"
    }
   ],
   "source": [
    "f.std(axis=0)"
   ]
  },
  {
   "cell_type": "code",
   "execution_count": 100,
   "id": "10775e89",
   "metadata": {},
   "outputs": [
    {
     "data": {
      "text/plain": [
       "array([[1., 1., 1.],\n",
       "       [1., 1., 1.],\n",
       "       [1., 1., 1.]])"
      ]
     },
     "execution_count": 100,
     "metadata": {},
     "output_type": "execute_result"
    }
   ],
   "source": [
    "np.maximum(a,b)"
   ]
  },
  {
   "cell_type": "code",
   "execution_count": null,
   "id": "e555408b",
   "metadata": {},
   "outputs": [],
   "source": [
    "# try matrix inversion"
   ]
  },
  {
   "cell_type": "code",
   "execution_count": null,
   "id": "676e5826",
   "metadata": {},
   "outputs": [],
   "source": []
  }
 ],
 "metadata": {
  "kernelspec": {
   "display_name": "Python 3 (ipykernel)",
   "language": "python",
   "name": "python3"
  },
  "language_info": {
   "codemirror_mode": {
    "name": "ipython",
    "version": 3
   },
   "file_extension": ".py",
   "mimetype": "text/x-python",
   "name": "python",
   "nbconvert_exporter": "python",
   "pygments_lexer": "ipython3",
   "version": "3.9.7"
  }
 },
 "nbformat": 4,
 "nbformat_minor": 5
}
